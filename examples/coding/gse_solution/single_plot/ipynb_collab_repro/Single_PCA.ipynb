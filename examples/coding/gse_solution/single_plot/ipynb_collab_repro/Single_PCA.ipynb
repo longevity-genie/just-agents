{
  "nbformat": 4,
  "nbformat_minor": 0,
  "metadata": {
    "colab": {
      "provenance": [],
      "authorship_tag": "ABX9TyNUZq59XcIwB9mLNysMRgnp",
      "include_colab_link": true
    },
    "kernelspec": {
      "name": "python3",
      "display_name": "Python 3"
    },
    "language_info": {
      "name": "python"
    }
  },
  "cells": [
    {
      "cell_type": "markdown",
      "metadata": {
        "id": "view-in-github",
        "colab_type": "text"
      },
      "source": [
        "<a href=\"https://colab.research.google.com/github/longevity-genie/just-agents/blob/coding/%20%20%20%20just-agents/examples/coding/gse_solution/Single_PCA.ipynb\" target=\"_parent\"><img src=\"https://colab.research.google.com/assets/colab-badge.svg\" alt=\"Open In Colab\"/></a>"
      ]
    },
    {
      "cell_type": "markdown",
      "source": [
        "Install a frozen just-agents version and dependencies"
      ],
      "metadata": {
        "id": "hmSHW0TAQnY8"
      }
    },
    {
      "cell_type": "code",
      "source": [
        "!pip install just-agents==0.2.5"
      ],
      "metadata": {
        "colab": {
          "base_uri": "https://localhost:8080/"
        },
        "collapsed": true,
        "id": "JGXlLfEiOrKU",
        "outputId": "aa9d51af-2694-4e45-8ae8-b31a07e7ebb5"
      },
      "execution_count": 1,
      "outputs": [
        {
          "output_type": "stream",
          "name": "stdout",
          "text": [
            "Collecting just-agents==0.2.5\n",
            "  Downloading just_agents-0.2.5-py2.py3-none-any.whl.metadata (7.1 kB)\n",
            "Collecting litellm>=1.51.0 (from just-agents==0.2.5)\n",
            "  Downloading litellm-1.53.1-py3-none-any.whl.metadata (33 kB)\n",
            "Collecting numpydoc (from just-agents==0.2.5)\n",
            "  Downloading numpydoc-1.8.0-py3-none-any.whl.metadata (4.3 kB)\n",
            "Requirement already satisfied: requests in /usr/local/lib/python3.10/dist-packages (from just-agents==0.2.5) (2.32.3)\n",
            "Requirement already satisfied: typer>=0.12.5 in /usr/local/lib/python3.10/dist-packages (from just-agents==0.2.5) (0.13.0)\n",
            "Requirement already satisfied: aiohttp in /usr/local/lib/python3.10/dist-packages (from litellm>=1.51.0->just-agents==0.2.5) (3.11.2)\n",
            "Requirement already satisfied: click in /usr/local/lib/python3.10/dist-packages (from litellm>=1.51.0->just-agents==0.2.5) (8.1.7)\n",
            "Requirement already satisfied: importlib-metadata>=6.8.0 in /usr/local/lib/python3.10/dist-packages (from litellm>=1.51.0->just-agents==0.2.5) (8.5.0)\n",
            "Requirement already satisfied: jinja2<4.0.0,>=3.1.2 in /usr/local/lib/python3.10/dist-packages (from litellm>=1.51.0->just-agents==0.2.5) (3.1.4)\n",
            "Requirement already satisfied: jsonschema<5.0.0,>=4.22.0 in /usr/local/lib/python3.10/dist-packages (from litellm>=1.51.0->just-agents==0.2.5) (4.23.0)\n",
            "Requirement already satisfied: openai>=1.54.0 in /usr/local/lib/python3.10/dist-packages (from litellm>=1.51.0->just-agents==0.2.5) (1.54.4)\n",
            "Requirement already satisfied: pydantic<3.0.0,>=2.0.0 in /usr/local/lib/python3.10/dist-packages (from litellm>=1.51.0->just-agents==0.2.5) (2.9.2)\n",
            "Collecting python-dotenv>=0.2.0 (from litellm>=1.51.0->just-agents==0.2.5)\n",
            "  Downloading python_dotenv-1.0.1-py3-none-any.whl.metadata (23 kB)\n",
            "Collecting tiktoken>=0.7.0 (from litellm>=1.51.0->just-agents==0.2.5)\n",
            "  Downloading tiktoken-0.8.0-cp310-cp310-manylinux_2_17_x86_64.manylinux2014_x86_64.whl.metadata (6.6 kB)\n",
            "Requirement already satisfied: tokenizers in /usr/local/lib/python3.10/dist-packages (from litellm>=1.51.0->just-agents==0.2.5) (0.20.3)\n",
            "Requirement already satisfied: charset-normalizer<4,>=2 in /usr/local/lib/python3.10/dist-packages (from requests->just-agents==0.2.5) (3.4.0)\n",
            "Requirement already satisfied: idna<4,>=2.5 in /usr/local/lib/python3.10/dist-packages (from requests->just-agents==0.2.5) (3.10)\n",
            "Requirement already satisfied: urllib3<3,>=1.21.1 in /usr/local/lib/python3.10/dist-packages (from requests->just-agents==0.2.5) (2.2.3)\n",
            "Requirement already satisfied: certifi>=2017.4.17 in /usr/local/lib/python3.10/dist-packages (from requests->just-agents==0.2.5) (2024.8.30)\n",
            "Requirement already satisfied: typing-extensions>=3.7.4.3 in /usr/local/lib/python3.10/dist-packages (from typer>=0.12.5->just-agents==0.2.5) (4.12.2)\n",
            "Requirement already satisfied: shellingham>=1.3.0 in /usr/local/lib/python3.10/dist-packages (from typer>=0.12.5->just-agents==0.2.5) (1.5.4)\n",
            "Requirement already satisfied: rich>=10.11.0 in /usr/local/lib/python3.10/dist-packages (from typer>=0.12.5->just-agents==0.2.5) (13.9.4)\n",
            "Requirement already satisfied: sphinx>=6 in /usr/local/lib/python3.10/dist-packages (from numpydoc->just-agents==0.2.5) (8.1.3)\n",
            "Requirement already satisfied: tabulate>=0.8.10 in /usr/local/lib/python3.10/dist-packages (from numpydoc->just-agents==0.2.5) (0.9.0)\n",
            "Requirement already satisfied: tomli>=1.1.0 in /usr/local/lib/python3.10/dist-packages (from numpydoc->just-agents==0.2.5) (2.1.0)\n",
            "Requirement already satisfied: zipp>=3.20 in /usr/local/lib/python3.10/dist-packages (from importlib-metadata>=6.8.0->litellm>=1.51.0->just-agents==0.2.5) (3.21.0)\n",
            "Requirement already satisfied: MarkupSafe>=2.0 in /usr/local/lib/python3.10/dist-packages (from jinja2<4.0.0,>=3.1.2->litellm>=1.51.0->just-agents==0.2.5) (3.0.2)\n",
            "Requirement already satisfied: attrs>=22.2.0 in /usr/local/lib/python3.10/dist-packages (from jsonschema<5.0.0,>=4.22.0->litellm>=1.51.0->just-agents==0.2.5) (24.2.0)\n",
            "Requirement already satisfied: jsonschema-specifications>=2023.03.6 in /usr/local/lib/python3.10/dist-packages (from jsonschema<5.0.0,>=4.22.0->litellm>=1.51.0->just-agents==0.2.5) (2024.10.1)\n",
            "Requirement already satisfied: referencing>=0.28.4 in /usr/local/lib/python3.10/dist-packages (from jsonschema<5.0.0,>=4.22.0->litellm>=1.51.0->just-agents==0.2.5) (0.35.1)\n",
            "Requirement already satisfied: rpds-py>=0.7.1 in /usr/local/lib/python3.10/dist-packages (from jsonschema<5.0.0,>=4.22.0->litellm>=1.51.0->just-agents==0.2.5) (0.21.0)\n",
            "Requirement already satisfied: anyio<5,>=3.5.0 in /usr/local/lib/python3.10/dist-packages (from openai>=1.54.0->litellm>=1.51.0->just-agents==0.2.5) (3.7.1)\n",
            "Requirement already satisfied: distro<2,>=1.7.0 in /usr/local/lib/python3.10/dist-packages (from openai>=1.54.0->litellm>=1.51.0->just-agents==0.2.5) (1.9.0)\n",
            "Requirement already satisfied: httpx<1,>=0.23.0 in /usr/local/lib/python3.10/dist-packages (from openai>=1.54.0->litellm>=1.51.0->just-agents==0.2.5) (0.27.2)\n",
            "Requirement already satisfied: jiter<1,>=0.4.0 in /usr/local/lib/python3.10/dist-packages (from openai>=1.54.0->litellm>=1.51.0->just-agents==0.2.5) (0.7.1)\n",
            "Requirement already satisfied: sniffio in /usr/local/lib/python3.10/dist-packages (from openai>=1.54.0->litellm>=1.51.0->just-agents==0.2.5) (1.3.1)\n",
            "Requirement already satisfied: tqdm>4 in /usr/local/lib/python3.10/dist-packages (from openai>=1.54.0->litellm>=1.51.0->just-agents==0.2.5) (4.66.6)\n",
            "Requirement already satisfied: annotated-types>=0.6.0 in /usr/local/lib/python3.10/dist-packages (from pydantic<3.0.0,>=2.0.0->litellm>=1.51.0->just-agents==0.2.5) (0.7.0)\n",
            "Requirement already satisfied: pydantic-core==2.23.4 in /usr/local/lib/python3.10/dist-packages (from pydantic<3.0.0,>=2.0.0->litellm>=1.51.0->just-agents==0.2.5) (2.23.4)\n",
            "Requirement already satisfied: markdown-it-py>=2.2.0 in /usr/local/lib/python3.10/dist-packages (from rich>=10.11.0->typer>=0.12.5->just-agents==0.2.5) (3.0.0)\n",
            "Requirement already satisfied: pygments<3.0.0,>=2.13.0 in /usr/local/lib/python3.10/dist-packages (from rich>=10.11.0->typer>=0.12.5->just-agents==0.2.5) (2.18.0)\n",
            "Requirement already satisfied: sphinxcontrib-applehelp>=1.0.7 in /usr/local/lib/python3.10/dist-packages (from sphinx>=6->numpydoc->just-agents==0.2.5) (2.0.0)\n",
            "Requirement already satisfied: sphinxcontrib-devhelp>=1.0.6 in /usr/local/lib/python3.10/dist-packages (from sphinx>=6->numpydoc->just-agents==0.2.5) (2.0.0)\n",
            "Requirement already satisfied: sphinxcontrib-htmlhelp>=2.0.6 in /usr/local/lib/python3.10/dist-packages (from sphinx>=6->numpydoc->just-agents==0.2.5) (2.1.0)\n",
            "Requirement already satisfied: sphinxcontrib-jsmath>=1.0.1 in /usr/local/lib/python3.10/dist-packages (from sphinx>=6->numpydoc->just-agents==0.2.5) (1.0.1)\n",
            "Requirement already satisfied: sphinxcontrib-qthelp>=1.0.6 in /usr/local/lib/python3.10/dist-packages (from sphinx>=6->numpydoc->just-agents==0.2.5) (2.0.0)\n",
            "Requirement already satisfied: sphinxcontrib-serializinghtml>=1.1.9 in /usr/local/lib/python3.10/dist-packages (from sphinx>=6->numpydoc->just-agents==0.2.5) (2.0.0)\n",
            "Requirement already satisfied: docutils<0.22,>=0.20 in /usr/local/lib/python3.10/dist-packages (from sphinx>=6->numpydoc->just-agents==0.2.5) (0.21.2)\n",
            "Requirement already satisfied: snowballstemmer>=2.2 in /usr/local/lib/python3.10/dist-packages (from sphinx>=6->numpydoc->just-agents==0.2.5) (2.2.0)\n",
            "Requirement already satisfied: babel>=2.13 in /usr/local/lib/python3.10/dist-packages (from sphinx>=6->numpydoc->just-agents==0.2.5) (2.16.0)\n",
            "Requirement already satisfied: alabaster>=0.7.14 in /usr/local/lib/python3.10/dist-packages (from sphinx>=6->numpydoc->just-agents==0.2.5) (1.0.0)\n",
            "Requirement already satisfied: imagesize>=1.3 in /usr/local/lib/python3.10/dist-packages (from sphinx>=6->numpydoc->just-agents==0.2.5) (1.4.1)\n",
            "Requirement already satisfied: packaging>=23.0 in /usr/local/lib/python3.10/dist-packages (from sphinx>=6->numpydoc->just-agents==0.2.5) (24.2)\n",
            "Requirement already satisfied: regex>=2022.1.18 in /usr/local/lib/python3.10/dist-packages (from tiktoken>=0.7.0->litellm>=1.51.0->just-agents==0.2.5) (2024.9.11)\n",
            "Requirement already satisfied: aiohappyeyeballs>=2.3.0 in /usr/local/lib/python3.10/dist-packages (from aiohttp->litellm>=1.51.0->just-agents==0.2.5) (2.4.3)\n",
            "Requirement already satisfied: aiosignal>=1.1.2 in /usr/local/lib/python3.10/dist-packages (from aiohttp->litellm>=1.51.0->just-agents==0.2.5) (1.3.1)\n",
            "Requirement already satisfied: frozenlist>=1.1.1 in /usr/local/lib/python3.10/dist-packages (from aiohttp->litellm>=1.51.0->just-agents==0.2.5) (1.5.0)\n",
            "Requirement already satisfied: multidict<7.0,>=4.5 in /usr/local/lib/python3.10/dist-packages (from aiohttp->litellm>=1.51.0->just-agents==0.2.5) (6.1.0)\n",
            "Requirement already satisfied: propcache>=0.2.0 in /usr/local/lib/python3.10/dist-packages (from aiohttp->litellm>=1.51.0->just-agents==0.2.5) (0.2.0)\n",
            "Requirement already satisfied: yarl<2.0,>=1.17.0 in /usr/local/lib/python3.10/dist-packages (from aiohttp->litellm>=1.51.0->just-agents==0.2.5) (1.17.2)\n",
            "Requirement already satisfied: async-timeout<6.0,>=4.0 in /usr/local/lib/python3.10/dist-packages (from aiohttp->litellm>=1.51.0->just-agents==0.2.5) (4.0.3)\n",
            "Requirement already satisfied: huggingface-hub<1.0,>=0.16.4 in /usr/local/lib/python3.10/dist-packages (from tokenizers->litellm>=1.51.0->just-agents==0.2.5) (0.26.2)\n",
            "Requirement already satisfied: exceptiongroup in /usr/local/lib/python3.10/dist-packages (from anyio<5,>=3.5.0->openai>=1.54.0->litellm>=1.51.0->just-agents==0.2.5) (1.2.2)\n",
            "Requirement already satisfied: httpcore==1.* in /usr/local/lib/python3.10/dist-packages (from httpx<1,>=0.23.0->openai>=1.54.0->litellm>=1.51.0->just-agents==0.2.5) (1.0.7)\n",
            "Requirement already satisfied: h11<0.15,>=0.13 in /usr/local/lib/python3.10/dist-packages (from httpcore==1.*->httpx<1,>=0.23.0->openai>=1.54.0->litellm>=1.51.0->just-agents==0.2.5) (0.14.0)\n",
            "Requirement already satisfied: filelock in /usr/local/lib/python3.10/dist-packages (from huggingface-hub<1.0,>=0.16.4->tokenizers->litellm>=1.51.0->just-agents==0.2.5) (3.16.1)\n",
            "Requirement already satisfied: fsspec>=2023.5.0 in /usr/local/lib/python3.10/dist-packages (from huggingface-hub<1.0,>=0.16.4->tokenizers->litellm>=1.51.0->just-agents==0.2.5) (2024.10.0)\n",
            "Requirement already satisfied: pyyaml>=5.1 in /usr/local/lib/python3.10/dist-packages (from huggingface-hub<1.0,>=0.16.4->tokenizers->litellm>=1.51.0->just-agents==0.2.5) (6.0.2)\n",
            "Requirement already satisfied: mdurl~=0.1 in /usr/local/lib/python3.10/dist-packages (from markdown-it-py>=2.2.0->rich>=10.11.0->typer>=0.12.5->just-agents==0.2.5) (0.1.2)\n",
            "Downloading just_agents-0.2.5-py2.py3-none-any.whl (50 kB)\n",
            "\u001b[2K   \u001b[90m━━━━━━━━━━━━━━━━━━━━━━━━━━━━━━━━━━━━━━━━\u001b[0m \u001b[32m50.0/50.0 kB\u001b[0m \u001b[31m3.1 MB/s\u001b[0m eta \u001b[36m0:00:00\u001b[0m\n",
            "\u001b[?25hDownloading litellm-1.53.1-py3-none-any.whl (6.4 MB)\n",
            "\u001b[2K   \u001b[90m━━━━━━━━━━━━━━━━━━━━━━━━━━━━━━━━━━━━━━━━\u001b[0m \u001b[32m6.4/6.4 MB\u001b[0m \u001b[31m42.3 MB/s\u001b[0m eta \u001b[36m0:00:00\u001b[0m\n",
            "\u001b[?25hDownloading numpydoc-1.8.0-py3-none-any.whl (64 kB)\n",
            "\u001b[2K   \u001b[90m━━━━━━━━━━━━━━━━━━━━━━━━━━━━━━━━━━━━━━━━\u001b[0m \u001b[32m64.0/64.0 kB\u001b[0m \u001b[31m4.4 MB/s\u001b[0m eta \u001b[36m0:00:00\u001b[0m\n",
            "\u001b[?25hDownloading python_dotenv-1.0.1-py3-none-any.whl (19 kB)\n",
            "Downloading tiktoken-0.8.0-cp310-cp310-manylinux_2_17_x86_64.manylinux2014_x86_64.whl (1.2 MB)\n",
            "\u001b[2K   \u001b[90m━━━━━━━━━━━━━━━━━━━━━━━━━━━━━━━━━━━━━━━━\u001b[0m \u001b[32m1.2/1.2 MB\u001b[0m \u001b[31m45.4 MB/s\u001b[0m eta \u001b[36m0:00:00\u001b[0m\n",
            "\u001b[?25hInstalling collected packages: python-dotenv, tiktoken, numpydoc, litellm, just-agents\n",
            "Successfully installed just-agents-0.2.5 litellm-1.53.1 numpydoc-1.8.0 python-dotenv-1.0.1 tiktoken-0.8.0\n"
          ]
        }
      ]
    },
    {
      "cell_type": "code",
      "source": [
        "!pip install requests biopython \"scanpy<=1.10.3\" \"scikit-learn<=1.5.2\" \"polars>=1.11.0\" \"pandas>=2.2.2\" \"numpy<2.0.0,>=1.23\" \"scipy<=1.14.1\" pyarrow \"genomepy>=0.16.1\" pyensembl plotly \"GEOparse>=2.0.4\" pybiomart"
      ],
      "metadata": {
        "colab": {
          "base_uri": "https://localhost:8080/"
        },
        "collapsed": true,
        "id": "JO4hv4KVUEsh",
        "outputId": "7537a313-4ec4-4e72-97a1-2953b18c3b74"
      },
      "execution_count": 2,
      "outputs": [
        {
          "output_type": "stream",
          "name": "stdout",
          "text": [
            "Requirement already satisfied: requests in /usr/local/lib/python3.10/dist-packages (2.32.3)\n",
            "Collecting biopython\n",
            "  Downloading biopython-1.84-cp310-cp310-manylinux_2_17_x86_64.manylinux2014_x86_64.whl.metadata (12 kB)\n",
            "Collecting scanpy<=1.10.3\n",
            "  Downloading scanpy-1.10.3-py3-none-any.whl.metadata (9.4 kB)\n",
            "Requirement already satisfied: scikit-learn<=1.5.2 in /usr/local/lib/python3.10/dist-packages (1.5.2)\n",
            "Collecting polars>=1.11.0\n",
            "  Downloading polars-1.16.0-cp39-abi3-manylinux_2_17_x86_64.manylinux2014_x86_64.whl.metadata (14 kB)\n",
            "Requirement already satisfied: pandas>=2.2.2 in /usr/local/lib/python3.10/dist-packages (2.2.2)\n",
            "Requirement already satisfied: numpy<2.0.0,>=1.23 in /usr/local/lib/python3.10/dist-packages (1.26.4)\n",
            "Requirement already satisfied: scipy<=1.14.1 in /usr/local/lib/python3.10/dist-packages (1.13.1)\n",
            "Requirement already satisfied: pyarrow in /usr/local/lib/python3.10/dist-packages (17.0.0)\n",
            "Collecting genomepy>=0.16.1\n",
            "  Downloading genomepy-0.16.1-py3-none-any.whl.metadata (26 kB)\n",
            "Collecting pyensembl\n",
            "  Downloading pyensembl-2.3.13-py3-none-any.whl.metadata (9.4 kB)\n",
            "Requirement already satisfied: plotly in /usr/local/lib/python3.10/dist-packages (5.24.1)\n",
            "Collecting GEOparse>=2.0.4\n",
            "  Downloading GEOparse-2.0.4-py3-none-any.whl.metadata (6.5 kB)\n",
            "Collecting pybiomart\n",
            "  Downloading pybiomart-0.2.0-py3-none-any.whl.metadata (1.1 kB)\n",
            "Requirement already satisfied: charset-normalizer<4,>=2 in /usr/local/lib/python3.10/dist-packages (from requests) (3.4.0)\n",
            "Requirement already satisfied: idna<4,>=2.5 in /usr/local/lib/python3.10/dist-packages (from requests) (3.10)\n",
            "Requirement already satisfied: urllib3<3,>=1.21.1 in /usr/local/lib/python3.10/dist-packages (from requests) (2.2.3)\n",
            "Requirement already satisfied: certifi>=2017.4.17 in /usr/local/lib/python3.10/dist-packages (from requests) (2024.8.30)\n",
            "Collecting anndata>=0.8 (from scanpy<=1.10.3)\n",
            "  Downloading anndata-0.11.1-py3-none-any.whl.metadata (8.2 kB)\n",
            "Requirement already satisfied: h5py>=3.1 in /usr/local/lib/python3.10/dist-packages (from scanpy<=1.10.3) (3.12.1)\n",
            "Requirement already satisfied: joblib in /usr/local/lib/python3.10/dist-packages (from scanpy<=1.10.3) (1.4.2)\n",
            "Collecting legacy-api-wrap>=1.4 (from scanpy<=1.10.3)\n",
            "  Downloading legacy_api_wrap-1.4.1-py3-none-any.whl.metadata (2.1 kB)\n",
            "Requirement already satisfied: matplotlib>=3.6 in /usr/local/lib/python3.10/dist-packages (from scanpy<=1.10.3) (3.8.0)\n",
            "Requirement already satisfied: natsort in /usr/local/lib/python3.10/dist-packages (from scanpy<=1.10.3) (8.4.0)\n",
            "Requirement already satisfied: networkx>=2.7 in /usr/local/lib/python3.10/dist-packages (from scanpy<=1.10.3) (3.4.2)\n",
            "Requirement already satisfied: numba>=0.56 in /usr/local/lib/python3.10/dist-packages (from scanpy<=1.10.3) (0.60.0)\n",
            "Requirement already satisfied: packaging>=21.3 in /usr/local/lib/python3.10/dist-packages (from scanpy<=1.10.3) (24.2)\n",
            "Requirement already satisfied: patsy in /usr/local/lib/python3.10/dist-packages (from scanpy<=1.10.3) (1.0.1)\n",
            "Collecting pynndescent>=0.5 (from scanpy<=1.10.3)\n",
            "  Downloading pynndescent-0.5.13-py3-none-any.whl.metadata (6.8 kB)\n",
            "Requirement already satisfied: seaborn>=0.13 in /usr/local/lib/python3.10/dist-packages (from scanpy<=1.10.3) (0.13.2)\n",
            "Collecting session-info (from scanpy<=1.10.3)\n",
            "  Downloading session_info-1.0.0.tar.gz (24 kB)\n",
            "  Preparing metadata (setup.py) ... \u001b[?25l\u001b[?25hdone\n",
            "Requirement already satisfied: statsmodels>=0.13 in /usr/local/lib/python3.10/dist-packages (from scanpy<=1.10.3) (0.14.4)\n",
            "Requirement already satisfied: tqdm in /usr/local/lib/python3.10/dist-packages (from scanpy<=1.10.3) (4.66.6)\n",
            "Collecting umap-learn!=0.5.0,>=0.5 (from scanpy<=1.10.3)\n",
            "  Downloading umap_learn-0.5.7-py3-none-any.whl.metadata (21 kB)\n",
            "Requirement already satisfied: threadpoolctl>=3.1.0 in /usr/local/lib/python3.10/dist-packages (from scikit-learn<=1.5.2) (3.5.0)\n",
            "Requirement already satisfied: python-dateutil>=2.8.2 in /usr/local/lib/python3.10/dist-packages (from pandas>=2.2.2) (2.8.2)\n",
            "Requirement already satisfied: pytz>=2020.1 in /usr/local/lib/python3.10/dist-packages (from pandas>=2.2.2) (2024.2)\n",
            "Requirement already satisfied: tzdata>=2022.7 in /usr/local/lib/python3.10/dist-packages (from pandas>=2.2.2) (2024.2)\n",
            "Collecting appdirs (from genomepy>=0.16.1)\n",
            "  Downloading appdirs-1.4.4-py2.py3-none-any.whl.metadata (9.0 kB)\n",
            "Requirement already satisfied: click in /usr/local/lib/python3.10/dist-packages (from genomepy>=0.16.1) (8.1.7)\n",
            "Collecting colorama (from genomepy>=0.16.1)\n",
            "  Downloading colorama-0.4.6-py2.py3-none-any.whl.metadata (17 kB)\n",
            "Collecting diskcache (from genomepy>=0.16.1)\n",
            "  Downloading diskcache-5.6.3-py3-none-any.whl.metadata (20 kB)\n",
            "Requirement already satisfied: filelock>=3.5 in /usr/local/lib/python3.10/dist-packages (from genomepy>=0.16.1) (3.16.1)\n",
            "Collecting loguru (from genomepy>=0.16.1)\n",
            "  Downloading loguru-0.7.2-py3-none-any.whl.metadata (23 kB)\n",
            "Collecting mygene (from genomepy>=0.16.1)\n",
            "  Downloading mygene-3.2.2-py2.py3-none-any.whl.metadata (10 kB)\n",
            "Collecting mysql-connector-python (from genomepy>=0.16.1)\n",
            "  Downloading mysql_connector_python-9.1.0-cp310-cp310-manylinux_2_28_x86_64.whl.metadata (6.0 kB)\n",
            "Collecting norns>=0.1.6 (from genomepy>=0.16.1)\n",
            "  Downloading norns-0.1.6.tar.gz (3.6 kB)\n",
            "  Preparing metadata (setup.py) ... \u001b[?25l\u001b[?25hdone\n",
            "Collecting pyfaidx>=0.7.2.1 (from genomepy>=0.16.1)\n",
            "  Downloading pyfaidx-0.8.1.3-py3-none-any.whl.metadata (25 kB)\n",
            "Collecting typechecks<1.0.0,>=0.0.2 (from pyensembl)\n",
            "  Downloading typechecks-0.1.0.tar.gz (3.4 kB)\n",
            "  Preparing metadata (setup.py) ... \u001b[?25l\u001b[?25hdone\n",
            "Collecting datacache<2.0.0,>=1.4.0 (from pyensembl)\n",
            "  Downloading datacache-1.4.1-py3-none-any.whl.metadata (1.9 kB)\n",
            "Collecting memoized-property>=1.0.2 (from pyensembl)\n",
            "  Downloading memoized-property-1.0.3.tar.gz (5.0 kB)\n",
            "  Preparing metadata (setup.py) ... \u001b[?25l\u001b[?25hdone\n",
            "Collecting tinytimer<1.0.0,>=0.0.0 (from pyensembl)\n",
            "  Downloading tinytimer-0.0.0.tar.gz (2.1 kB)\n",
            "  Preparing metadata (setup.py) ... \u001b[?25l\u001b[?25hdone\n",
            "Collecting gtfparse<3.0.0,>=2.5.0 (from pyensembl)\n",
            "  Downloading gtfparse-2.5.0-py3-none-any.whl.metadata (2.1 kB)\n",
            "Collecting serializable<1.0.0,>=0.2.1 (from pyensembl)\n",
            "  Downloading serializable-0.4.1-py3-none-any.whl.metadata (2.2 kB)\n",
            "Collecting pylint<3.0.0,>=2.17.2 (from pyensembl)\n",
            "  Downloading pylint-2.17.7-py3-none-any.whl.metadata (12 kB)\n",
            "Requirement already satisfied: tenacity>=6.2.0 in /usr/local/lib/python3.10/dist-packages (from plotly) (9.0.0)\n",
            "Requirement already satisfied: future in /usr/local/lib/python3.10/dist-packages (from pybiomart) (1.0.0)\n",
            "Collecting requests-cache (from pybiomart)\n",
            "  Downloading requests_cache-1.2.1-py3-none-any.whl.metadata (9.9 kB)\n",
            "Collecting array-api-compat!=1.5,>1.4 (from anndata>=0.8->scanpy<=1.10.3)\n",
            "  Downloading array_api_compat-1.9.1-py3-none-any.whl.metadata (1.6 kB)\n",
            "Requirement already satisfied: exceptiongroup in /usr/local/lib/python3.10/dist-packages (from anndata>=0.8->scanpy<=1.10.3) (1.2.2)\n",
            "Collecting progressbar33>=2.4 (from datacache<2.0.0,>=1.4.0->pyensembl)\n",
            "  Downloading progressbar33-2.4.tar.gz (10 kB)\n",
            "  Preparing metadata (setup.py) ... \u001b[?25l\u001b[?25hdone\n",
            "Collecting mock (from datacache<2.0.0,>=1.4.0->pyensembl)\n",
            "  Downloading mock-5.1.0-py3-none-any.whl.metadata (3.0 kB)\n",
            "INFO: pip is looking at multiple versions of gtfparse to determine which version is compatible with other requirements. This could take a while.\n",
            "Collecting pyensembl\n",
            "  Downloading pyensembl-2.3.12-py3-none-any.whl.metadata (9.4 kB)\n",
            "  Downloading pyensembl-2.3.11-py3-none-any.whl.metadata (9.4 kB)\n",
            "  Downloading pyensembl-2.3.10-py3-none-any.whl.metadata (9.4 kB)\n",
            "  Downloading pyensembl-2.3.9-py3-none-any.whl.metadata (9.4 kB)\n",
            "  Downloading pyensembl-2.3.8-py3-none-any.whl.metadata (9.4 kB)\n",
            "  Downloading pyensembl-2.3.7-py3-none-any.whl.metadata (9.7 kB)\n",
            "  Downloading pyensembl-2.3.6-py3-none-any.whl.metadata (9.3 kB)\n",
            "INFO: pip is still looking at multiple versions of gtfparse to determine which version is compatible with other requirements. This could take a while.\n",
            "Collecting gtfparse<3.0.0,>=2.4.1 (from pyensembl)\n",
            "  Downloading gtfparse-2.4.1-py3-none-any.whl.metadata (2.1 kB)\n",
            "Collecting pyensembl\n",
            "  Downloading pyensembl-2.3.4-py3-none-any.whl.metadata (9.3 kB)\n",
            "Collecting pylint>=1.4.4 (from pyensembl)\n",
            "  Downloading pylint-3.3.2-py3-none-any.whl.metadata (12 kB)\n",
            "Collecting gtfparse<3.0.0,>=2.2.1 (from pyensembl)\n",
            "  Downloading gtfparse-2.4.0-py3-none-any.whl.metadata (2.1 kB)\n",
            "  Downloading gtfparse-2.3.0-py3-none-any.whl.metadata (2.1 kB)\n",
            "INFO: This is taking longer than usual. You might need to provide the dependency resolver with stricter constraints to reduce runtime. See https://pip.pypa.io/warnings/backtracking for guidance. If you want to abort this run, press Ctrl + C.\n",
            "Collecting pyensembl\n",
            "  Downloading pyensembl-2.3.3-py3-none-any.whl.metadata (9.3 kB)\n",
            "  Downloading pyensembl-2.3.2-py3-none-any.whl.metadata (9.3 kB)\n",
            "  Downloading pyensembl-2.3.1-py3-none-any.whl.metadata (9.3 kB)\n",
            "  Downloading pyensembl-2.3.0.tar.gz (45 kB)\n",
            "\u001b[2K     \u001b[90m━━━━━━━━━━━━━━━━━━━━━━━━━━━━━━━━━━━━━━━━\u001b[0m \u001b[32m45.9/45.9 kB\u001b[0m \u001b[31m2.7 MB/s\u001b[0m eta \u001b[36m0:00:00\u001b[0m\n",
            "\u001b[?25h  Preparing metadata (setup.py) ... \u001b[?25l\u001b[?25hdone\n",
            "Collecting gtfparse<2.2.0,>=2.1.0 (from pyensembl)\n",
            "  Downloading gtfparse-2.1.0-py3-none-any.whl.metadata (2.1 kB)\n",
            "Collecting nose>=1.3.3 (from pyensembl)\n",
            "  Downloading nose-1.3.7-py3-none-any.whl.metadata (1.7 kB)\n",
            "Collecting pyensembl\n",
            "  Downloading pyensembl-2.2.9.tar.gz (58 kB)\n",
            "\u001b[2K     \u001b[90m━━━━━━━━━━━━━━━━━━━━━━━━━━━━━━━━━━━━━━━━\u001b[0m \u001b[32m58.8/58.8 kB\u001b[0m \u001b[31m2.7 MB/s\u001b[0m eta \u001b[36m0:00:00\u001b[0m\n",
            "\u001b[?25h  Preparing metadata (setup.py) ... \u001b[?25l\u001b[?25hdone\n",
            "Collecting gtfparse<2.0.0,>=1.3.0 (from pyensembl)\n",
            "  Downloading gtfparse-1.3.0.tar.gz (16 kB)\n",
            "  Preparing metadata (setup.py) ... \u001b[?25l\u001b[?25hdone\n",
            "Requirement already satisfied: contourpy>=1.0.1 in /usr/local/lib/python3.10/dist-packages (from matplotlib>=3.6->scanpy<=1.10.3) (1.3.1)\n",
            "Requirement already satisfied: cycler>=0.10 in /usr/local/lib/python3.10/dist-packages (from matplotlib>=3.6->scanpy<=1.10.3) (0.12.1)\n",
            "Requirement already satisfied: fonttools>=4.22.0 in /usr/local/lib/python3.10/dist-packages (from matplotlib>=3.6->scanpy<=1.10.3) (4.55.0)\n",
            "Requirement already satisfied: kiwisolver>=1.0.1 in /usr/local/lib/python3.10/dist-packages (from matplotlib>=3.6->scanpy<=1.10.3) (1.4.7)\n",
            "Requirement already satisfied: pillow>=6.2.0 in /usr/local/lib/python3.10/dist-packages (from matplotlib>=3.6->scanpy<=1.10.3) (11.0.0)\n",
            "Requirement already satisfied: pyparsing>=2.3.1 in /usr/local/lib/python3.10/dist-packages (from matplotlib>=3.6->scanpy<=1.10.3) (3.2.0)\n",
            "Requirement already satisfied: pyyaml in /usr/local/lib/python3.10/dist-packages (from norns>=0.1.6->genomepy>=0.16.1) (6.0.2)\n",
            "Requirement already satisfied: llvmlite<0.44,>=0.43.0dev0 in /usr/local/lib/python3.10/dist-packages (from numba>=0.56->scanpy<=1.10.3) (0.43.0)\n",
            "Requirement already satisfied: importlib-metadata in /usr/local/lib/python3.10/dist-packages (from pyfaidx>=0.7.2.1->genomepy>=0.16.1) (8.5.0)\n",
            "Collecting dill>=0.2 (from pylint>=1.4.4->pyensembl)\n",
            "  Downloading dill-0.3.9-py3-none-any.whl.metadata (10 kB)\n",
            "Requirement already satisfied: platformdirs>=2.2.0 in /usr/local/lib/python3.10/dist-packages (from pylint>=1.4.4->pyensembl) (4.3.6)\n",
            "Collecting astroid<=3.4.0-dev0,>=3.3.5 (from pylint>=1.4.4->pyensembl)\n",
            "  Downloading astroid-3.3.5-py3-none-any.whl.metadata (4.5 kB)\n",
            "Collecting isort!=5.13.0,<6,>=4.2.5 (from pylint>=1.4.4->pyensembl)\n",
            "  Downloading isort-5.13.2-py3-none-any.whl.metadata (12 kB)\n",
            "Collecting mccabe<0.8,>=0.6 (from pylint>=1.4.4->pyensembl)\n",
            "  Downloading mccabe-0.7.0-py2.py3-none-any.whl.metadata (5.0 kB)\n",
            "Requirement already satisfied: tomli>=1.1.0 in /usr/local/lib/python3.10/dist-packages (from pylint>=1.4.4->pyensembl) (2.1.0)\n",
            "Collecting tomlkit>=0.10.1 (from pylint>=1.4.4->pyensembl)\n",
            "  Downloading tomlkit-0.13.2-py3-none-any.whl.metadata (2.7 kB)\n",
            "Requirement already satisfied: six>=1.5 in /usr/local/lib/python3.10/dist-packages (from python-dateutil>=2.8.2->pandas>=2.2.2) (1.16.0)\n",
            "Collecting biothings-client>=0.2.6 (from mygene->genomepy>=0.16.1)\n",
            "  Downloading biothings_client-0.3.1-py2.py3-none-any.whl.metadata (9.8 kB)\n",
            "Requirement already satisfied: attrs>=21.2 in /usr/local/lib/python3.10/dist-packages (from requests-cache->pybiomart) (24.2.0)\n",
            "Collecting cattrs>=22.2 (from requests-cache->pybiomart)\n",
            "  Downloading cattrs-24.1.2-py3-none-any.whl.metadata (8.4 kB)\n",
            "Collecting url-normalize>=1.4 (from requests-cache->pybiomart)\n",
            "  Downloading url_normalize-1.4.3-py2.py3-none-any.whl.metadata (3.1 kB)\n",
            "Collecting simplejson (from serializable<1.0.0,>=0.2.1->pyensembl)\n",
            "  Downloading simplejson-3.19.3-cp310-cp310-manylinux_2_5_x86_64.manylinux1_x86_64.manylinux_2_17_x86_64.manylinux2014_x86_64.whl.metadata (3.2 kB)\n",
            "Collecting stdlib_list (from session-info->scanpy<=1.10.3)\n",
            "  Downloading stdlib_list-0.11.0-py3-none-any.whl.metadata (3.3 kB)\n",
            "Requirement already satisfied: typing-extensions>=4.0.0 in /usr/local/lib/python3.10/dist-packages (from astroid<=3.4.0-dev0,>=3.3.5->pylint>=1.4.4->pyensembl) (4.12.2)\n",
            "Requirement already satisfied: zipp>=3.20 in /usr/local/lib/python3.10/dist-packages (from importlib-metadata->pyfaidx>=0.7.2.1->genomepy>=0.16.1) (3.21.0)\n",
            "Downloading biopython-1.84-cp310-cp310-manylinux_2_17_x86_64.manylinux2014_x86_64.whl (3.2 MB)\n",
            "\u001b[2K   \u001b[90m━━━━━━━━━━━━━━━━━━━━━━━━━━━━━━━━━━━━━━━━\u001b[0m \u001b[32m3.2/3.2 MB\u001b[0m \u001b[31m33.0 MB/s\u001b[0m eta \u001b[36m0:00:00\u001b[0m\n",
            "\u001b[?25hDownloading scanpy-1.10.3-py3-none-any.whl (2.1 MB)\n",
            "\u001b[2K   \u001b[90m━━━━━━━━━━━━━━━━━━━━━━━━━━━━━━━━━━━━━━━━\u001b[0m \u001b[32m2.1/2.1 MB\u001b[0m \u001b[31m55.8 MB/s\u001b[0m eta \u001b[36m0:00:00\u001b[0m\n",
            "\u001b[?25hDownloading polars-1.16.0-cp39-abi3-manylinux_2_17_x86_64.manylinux2014_x86_64.whl (36.0 MB)\n",
            "\u001b[2K   \u001b[90m━━━━━━━━━━━━━━━━━━━━━━━━━━━━━━━━━━━━━━━━\u001b[0m \u001b[32m36.0/36.0 MB\u001b[0m \u001b[31m45.3 MB/s\u001b[0m eta \u001b[36m0:00:00\u001b[0m\n",
            "\u001b[?25hDownloading genomepy-0.16.1-py3-none-any.whl (82 kB)\n",
            "\u001b[2K   \u001b[90m━━━━━━━━━━━━━━━━━━━━━━━━━━━━━━━━━━━━━━━━\u001b[0m \u001b[32m82.3/82.3 kB\u001b[0m \u001b[31m5.3 MB/s\u001b[0m eta \u001b[36m0:00:00\u001b[0m\n",
            "\u001b[?25hDownloading GEOparse-2.0.4-py3-none-any.whl (29 kB)\n",
            "Downloading pybiomart-0.2.0-py3-none-any.whl (10 kB)\n",
            "Downloading anndata-0.11.1-py3-none-any.whl (141 kB)\n",
            "\u001b[2K   \u001b[90m━━━━━━━━━━━━━━━━━━━━━━━━━━━━━━━━━━━━━━━━\u001b[0m \u001b[32m141.9/141.9 kB\u001b[0m \u001b[31m9.0 MB/s\u001b[0m eta \u001b[36m0:00:00\u001b[0m\n",
            "\u001b[?25hDownloading datacache-1.4.1-py3-none-any.whl (20 kB)\n",
            "Downloading appdirs-1.4.4-py2.py3-none-any.whl (9.6 kB)\n",
            "Downloading legacy_api_wrap-1.4.1-py3-none-any.whl (10.0 kB)\n",
            "Downloading nose-1.3.7-py3-none-any.whl (154 kB)\n",
            "\u001b[2K   \u001b[90m━━━━━━━━━━━━━━━━━━━━━━━━━━━━━━━━━━━━━━━━\u001b[0m \u001b[32m154.7/154.7 kB\u001b[0m \u001b[31m10.4 MB/s\u001b[0m eta \u001b[36m0:00:00\u001b[0m\n",
            "\u001b[?25hDownloading pyfaidx-0.8.1.3-py3-none-any.whl (28 kB)\n",
            "Downloading pylint-3.3.2-py3-none-any.whl (521 kB)\n",
            "\u001b[2K   \u001b[90m━━━━━━━━━━━━━━━━━━━━━━━━━━━━━━━━━━━━━━━━\u001b[0m \u001b[32m521.9/521.9 kB\u001b[0m \u001b[31m27.8 MB/s\u001b[0m eta \u001b[36m0:00:00\u001b[0m\n",
            "\u001b[?25hDownloading pynndescent-0.5.13-py3-none-any.whl (56 kB)\n",
            "\u001b[2K   \u001b[90m━━━━━━━━━━━━━━━━━━━━━━━━━━━━━━━━━━━━━━━━\u001b[0m \u001b[32m56.9/56.9 kB\u001b[0m \u001b[31m4.0 MB/s\u001b[0m eta \u001b[36m0:00:00\u001b[0m\n",
            "\u001b[?25hDownloading umap_learn-0.5.7-py3-none-any.whl (88 kB)\n",
            "\u001b[2K   \u001b[90m━━━━━━━━━━━━━━━━━━━━━━━━━━━━━━━━━━━━━━━━\u001b[0m \u001b[32m88.8/88.8 kB\u001b[0m \u001b[31m6.4 MB/s\u001b[0m eta \u001b[36m0:00:00\u001b[0m\n",
            "\u001b[?25hDownloading colorama-0.4.6-py2.py3-none-any.whl (25 kB)\n",
            "Downloading diskcache-5.6.3-py3-none-any.whl (45 kB)\n",
            "\u001b[2K   \u001b[90m━━━━━━━━━━━━━━━━━━━━━━━━━━━━━━━━━━━━━━━━\u001b[0m \u001b[32m45.5/45.5 kB\u001b[0m \u001b[31m2.8 MB/s\u001b[0m eta \u001b[36m0:00:00\u001b[0m\n",
            "\u001b[?25hDownloading loguru-0.7.2-py3-none-any.whl (62 kB)\n",
            "\u001b[2K   \u001b[90m━━━━━━━━━━━━━━━━━━━━━━━━━━━━━━━━━━━━━━━━\u001b[0m \u001b[32m62.5/62.5 kB\u001b[0m \u001b[31m4.2 MB/s\u001b[0m eta \u001b[36m0:00:00\u001b[0m\n",
            "\u001b[?25hDownloading mygene-3.2.2-py2.py3-none-any.whl (5.4 kB)\n",
            "Downloading mysql_connector_python-9.1.0-cp310-cp310-manylinux_2_28_x86_64.whl (34.4 MB)\n",
            "\u001b[2K   \u001b[90m━━━━━━━━━━━━━━━━━━━━━━━━━━━━━━━━━━━━━━━━\u001b[0m \u001b[32m34.4/34.4 MB\u001b[0m \u001b[31m13.0 MB/s\u001b[0m eta \u001b[36m0:00:00\u001b[0m\n",
            "\u001b[?25hDownloading requests_cache-1.2.1-py3-none-any.whl (61 kB)\n",
            "\u001b[2K   \u001b[90m━━━━━━━━━━━━━━━━━━━━━━━━━━━━━━━━━━━━━━━━\u001b[0m \u001b[32m61.4/61.4 kB\u001b[0m \u001b[31m3.8 MB/s\u001b[0m eta \u001b[36m0:00:00\u001b[0m\n",
            "\u001b[?25hDownloading serializable-0.4.1-py3-none-any.whl (12 kB)\n",
            "Downloading array_api_compat-1.9.1-py3-none-any.whl (50 kB)\n",
            "\u001b[2K   \u001b[90m━━━━━━━━━━━━━━━━━━━━━━━━━━━━━━━━━━━━━━━━\u001b[0m \u001b[32m50.1/50.1 kB\u001b[0m \u001b[31m3.3 MB/s\u001b[0m eta \u001b[36m0:00:00\u001b[0m\n",
            "\u001b[?25hDownloading astroid-3.3.5-py3-none-any.whl (274 kB)\n",
            "\u001b[2K   \u001b[90m━━━━━━━━━━━━━━━━━━━━━━━━━━━━━━━━━━━━━━━━\u001b[0m \u001b[32m274.6/274.6 kB\u001b[0m \u001b[31m18.1 MB/s\u001b[0m eta \u001b[36m0:00:00\u001b[0m\n",
            "\u001b[?25hDownloading biothings_client-0.3.1-py2.py3-none-any.whl (29 kB)\n",
            "Downloading cattrs-24.1.2-py3-none-any.whl (66 kB)\n",
            "\u001b[2K   \u001b[90m━━━━━━━━━━━━━━━━━━━━━━━━━━━━━━━━━━━━━━━━\u001b[0m \u001b[32m66.4/66.4 kB\u001b[0m \u001b[31m4.3 MB/s\u001b[0m eta \u001b[36m0:00:00\u001b[0m\n",
            "\u001b[?25hDownloading dill-0.3.9-py3-none-any.whl (119 kB)\n",
            "\u001b[2K   \u001b[90m━━━━━━━━━━━━━━━━━━━━━━━━━━━━━━━━━━━━━━━━\u001b[0m \u001b[32m119.4/119.4 kB\u001b[0m \u001b[31m8.0 MB/s\u001b[0m eta \u001b[36m0:00:00\u001b[0m\n",
            "\u001b[?25hDownloading isort-5.13.2-py3-none-any.whl (92 kB)\n",
            "\u001b[2K   \u001b[90m━━━━━━━━━━━━━━━━━━━━━━━━━━━━━━━━━━━━━━━━\u001b[0m \u001b[32m92.3/92.3 kB\u001b[0m \u001b[31m5.8 MB/s\u001b[0m eta \u001b[36m0:00:00\u001b[0m\n",
            "\u001b[?25hDownloading mccabe-0.7.0-py2.py3-none-any.whl (7.3 kB)\n",
            "Downloading tomlkit-0.13.2-py3-none-any.whl (37 kB)\n",
            "Downloading url_normalize-1.4.3-py2.py3-none-any.whl (6.8 kB)\n",
            "Downloading mock-5.1.0-py3-none-any.whl (30 kB)\n",
            "Downloading simplejson-3.19.3-cp310-cp310-manylinux_2_5_x86_64.manylinux1_x86_64.manylinux_2_17_x86_64.manylinux2014_x86_64.whl (137 kB)\n",
            "\u001b[2K   \u001b[90m━━━━━━━━━━━━━━━━━━━━━━━━━━━━━━━━━━━━━━━━\u001b[0m \u001b[32m137.9/137.9 kB\u001b[0m \u001b[31m9.6 MB/s\u001b[0m eta \u001b[36m0:00:00\u001b[0m\n",
            "\u001b[?25hDownloading stdlib_list-0.11.0-py3-none-any.whl (83 kB)\n",
            "\u001b[2K   \u001b[90m━━━━━━━━━━━━━━━━━━━━━━━━━━━━━━━━━━━━━━━━\u001b[0m \u001b[32m83.6/83.6 kB\u001b[0m \u001b[31m6.0 MB/s\u001b[0m eta \u001b[36m0:00:00\u001b[0m\n",
            "\u001b[?25hBuilding wheels for collected packages: pyensembl, gtfparse, memoized-property, norns, typechecks, session-info, tinytimer, progressbar33\n",
            "  Building wheel for pyensembl (setup.py) ... \u001b[?25l\u001b[?25hdone\n",
            "  Created wheel for pyensembl: filename=pyensembl-2.2.9-py3-none-any.whl size=54767 sha256=4a1ea93f1870ca5cb01a80ff9fae167f56bb8919dcc35ae3b0a3fd10adba294f\n",
            "  Stored in directory: /root/.cache/pip/wheels/9b/d4/f6/5d81f73d420f79c0c4e28cda309ea74103c2a739cb70d5ad6b\n",
            "  Building wheel for gtfparse (setup.py) ... \u001b[?25l\u001b[?25hdone\n",
            "  Created wheel for gtfparse: filename=gtfparse-1.3.0-py3-none-any.whl size=15732 sha256=d75af39a54ab5a7c72eba16557b690de9f3a781593c8b8259250085642bdd401\n",
            "  Stored in directory: /root/.cache/pip/wheels/16/61/14/79a5d19ca93f1e929cd622fb835e2c5ccca1325c382be6d550\n",
            "  Building wheel for memoized-property (setup.py) ... \u001b[?25l\u001b[?25hdone\n",
            "  Created wheel for memoized-property: filename=memoized_property-1.0.3-py2.py3-none-any.whl size=4186 sha256=2a48d2e946d36fc3accf84606621b09bd8f7f04a3fd0f75d65ca1d9b640ee215\n",
            "  Stored in directory: /root/.cache/pip/wheels/f7/0f/93/d0497c1248dcc9113cfa09e6ddf52f5636b68bcd6751bad581\n",
            "  Building wheel for norns (setup.py) ... \u001b[?25l\u001b[?25hdone\n",
            "  Created wheel for norns: filename=norns-0.1.6-py3-none-any.whl size=3996 sha256=3a94688fab32145feb385b9994c8f7e6f0b5458306c40318178a991eb585e706\n",
            "  Stored in directory: /root/.cache/pip/wheels/20/5d/73/3d414ebae141e961fd274cc16fd5881e022f5f5615008d1d27\n",
            "  Building wheel for typechecks (setup.py) ... \u001b[?25l\u001b[?25hdone\n",
            "  Created wheel for typechecks: filename=typechecks-0.1.0-py3-none-any.whl size=2752 sha256=f7b48896a7a33a3bfec4b893bcad8908884fe50c3b39c906e5433b267a686938\n",
            "  Stored in directory: /root/.cache/pip/wheels/da/a7/4d/6fb19c879271cf359a24d5bc4d074d53380cc2473f70068c4e\n",
            "  Building wheel for session-info (setup.py) ... \u001b[?25l\u001b[?25hdone\n",
            "  Created wheel for session-info: filename=session_info-1.0.0-py3-none-any.whl size=8023 sha256=76787d84fa84caab28f2149ff96f5d49062b9cf39d7c938bc9377ad6e8bfd493\n",
            "  Stored in directory: /root/.cache/pip/wheels/6a/aa/b9/eb5d4031476ec10802795b97ccf937b9bd998d68a9b268765a\n",
            "  Building wheel for tinytimer (setup.py) ... \u001b[?25l\u001b[?25hdone\n",
            "  Created wheel for tinytimer: filename=tinytimer-0.0.0-py3-none-any.whl size=1875 sha256=3f53f01d44538ea5828beb740611321253051da161e96f68bb38d1767c1d3781\n",
            "  Stored in directory: /root/.cache/pip/wheels/35/7f/a3/036dd96fcd3da5d509047bcc764790cea8f6c73edadb1cbedc\n",
            "  Building wheel for progressbar33 (setup.py) ... \u001b[?25l\u001b[?25hdone\n",
            "  Created wheel for progressbar33: filename=progressbar33-2.4-py3-none-any.whl size=12142 sha256=27e2605537d4ab20e555a4432a38293027b16b433b0ad73abd8d6e46efdf4fd8\n",
            "  Stored in directory: /root/.cache/pip/wheels/28/6d/b6/fd4b9b1489353528a2eea1200c98532fd60d535e22498d9e28\n",
            "Successfully built pyensembl gtfparse memoized-property norns typechecks session-info tinytimer progressbar33\n",
            "Installing collected packages: typechecks, tinytimer, progressbar33, nose, memoized-property, appdirs, url-normalize, tomlkit, stdlib_list, simplejson, polars, norns, mysql-connector-python, mock, mccabe, loguru, legacy-api-wrap, isort, diskcache, dill, colorama, cattrs, biopython, astroid, array-api-compat, session-info, serializable, requests-cache, pylint, pyfaidx, biothings-client, pynndescent, pybiomart, mygene, gtfparse, GEOparse, datacache, anndata, umap-learn, pyensembl, genomepy, scanpy\n",
            "  Attempting uninstall: polars\n",
            "    Found existing installation: polars 1.9.0\n",
            "    Uninstalling polars-1.9.0:\n",
            "      Successfully uninstalled polars-1.9.0\n",
            "Successfully installed GEOparse-2.0.4 anndata-0.11.1 appdirs-1.4.4 array-api-compat-1.9.1 astroid-3.3.5 biopython-1.84 biothings-client-0.3.1 cattrs-24.1.2 colorama-0.4.6 datacache-1.4.1 dill-0.3.9 diskcache-5.6.3 genomepy-0.16.1 gtfparse-1.3.0 isort-5.13.2 legacy-api-wrap-1.4.1 loguru-0.7.2 mccabe-0.7.0 memoized-property-1.0.3 mock-5.1.0 mygene-3.2.2 mysql-connector-python-9.1.0 norns-0.1.6 nose-1.3.7 polars-1.16.0 progressbar33-2.4 pybiomart-0.2.0 pyensembl-2.2.9 pyfaidx-0.8.1.3 pylint-3.3.2 pynndescent-0.5.13 requests-cache-1.2.1 scanpy-1.10.3 serializable-0.4.1 session-info-1.0.0 simplejson-3.19.3 stdlib_list-0.11.0 tinytimer-0.0.0 tomlkit-0.13.2 typechecks-0.1.0 umap-learn-0.5.7 url-normalize-1.4.3\n"
          ]
        }
      ]
    },
    {
      "cell_type": "markdown",
      "source": [
        "# Add functions to run code\n",
        "\n",
        "Download agent profile containing the LLM prompt, helpers module and settings for reproduction\n"
      ],
      "metadata": {
        "id": "e8awvKFIQ-EV"
      }
    },
    {
      "cell_type": "code",
      "source": [
        "!wget -v -O bioinformatic_agent.yaml https://raw.githubusercontent.com/longevity-genie/just-agents/coding/examples/coding/gse_solution/bioagent.yaml\n",
        "!wget -v -O helpers.py https://raw.githubusercontent.com/longevity-genie/just-agents/coding/examples/coding/gse_solution/helpers.py"
      ],
      "metadata": {
        "colab": {
          "base_uri": "https://localhost:8080/"
        },
        "collapsed": true,
        "id": "31OzagSGoGOf",
        "outputId": "62d73357-dc62-4c8c-ae30-0b91b8b5ecc4"
      },
      "execution_count": 3,
      "outputs": [
        {
          "output_type": "stream",
          "name": "stdout",
          "text": [
            "--2024-12-02 00:38:51--  https://raw.githubusercontent.com/longevity-genie/just-agents/coding/examples/coding/gse_solution/bioagent.yaml\n",
            "Resolving raw.githubusercontent.com (raw.githubusercontent.com)... 185.199.108.133, 185.199.109.133, 185.199.110.133, ...\n",
            "Connecting to raw.githubusercontent.com (raw.githubusercontent.com)|185.199.108.133|:443... connected.\n",
            "HTTP request sent, awaiting response... 200 OK\n",
            "Length: 6972 (6.8K) [text/plain]\n",
            "Saving to: ‘bioinformatic_agent.yaml’\n",
            "\n",
            "bioinformatic_agent 100%[===================>]   6.81K  --.-KB/s    in 0s      \n",
            "\n",
            "2024-12-02 00:38:52 (52.5 MB/s) - ‘bioinformatic_agent.yaml’ saved [6972/6972]\n",
            "\n",
            "--2024-12-02 00:38:52--  https://raw.githubusercontent.com/longevity-genie/just-agents/coding/examples/coding/gse_solution/helpers.py\n",
            "Resolving raw.githubusercontent.com (raw.githubusercontent.com)... 185.199.111.133, 185.199.108.133, 185.199.109.133, ...\n",
            "Connecting to raw.githubusercontent.com (raw.githubusercontent.com)|185.199.111.133|:443... connected.\n",
            "HTTP request sent, awaiting response... 200 OK\n",
            "Length: 4791 (4.7K) [text/plain]\n",
            "Saving to: ‘helpers.py’\n",
            "\n",
            "helpers.py          100%[===================>]   4.68K  --.-KB/s    in 0s      \n",
            "\n",
            "2024-12-02 00:38:52 (52.6 MB/s) - ‘helpers.py’ saved [4791/4791]\n",
            "\n"
          ]
        }
      ]
    },
    {
      "cell_type": "markdown",
      "source": [
        "Import custom functions to run code and install dependencies in the notebook instead of sandbox and test them"
      ],
      "metadata": {
        "id": "dKP9uWscmAJb"
      }
    },
    {
      "cell_type": "code",
      "source": [
        "import sys\n",
        "sys.path.append('/content')\n",
        "from helpers import *\n",
        "\n",
        "# Example usage:\n",
        "bash_command = \"echo 'Hello from Bash'\"\n",
        "python_code = \"print('Hello World from Python')\"\n",
        "\n",
        "output = run_bash_command(bash_command)\n",
        "print(output)\n",
        "\n",
        "output = run_python_code(python_code)\n",
        "print(output)"
      ],
      "metadata": {
        "id": "Hime-BufbBUu",
        "colab": {
          "base_uri": "https://localhost:8080/"
        },
        "outputId": "1e1d34f0-a607-46f7-a8c5-a54fcd2732fb"
      },
      "execution_count": 7,
      "outputs": [
        {
          "output_type": "stream",
          "name": "stdout",
          "text": [
            "Hello from Bash\n",
            "Hello World from Python\n"
          ]
        }
      ]
    },
    {
      "cell_type": "markdown",
      "source": [
        "Provide your OPENAI_API_KEY to access API"
      ],
      "metadata": {
        "id": "A_7Vbhgqd2wl"
      }
    },
    {
      "cell_type": "code",
      "execution_count": 8,
      "metadata": {
        "id": "qP9Da-KXNrJP",
        "colab": {
          "base_uri": "https://localhost:8080/"
        },
        "outputId": "5f1c01d8-4e56-4114-ff98-d78f52185f84"
      },
      "outputs": [
        {
          "output_type": "stream",
          "name": "stdout",
          "text": [
            "Please enter your API keys:\n",
            "OPENAI_API_KEY: ··········\n",
            "API keys set successfully.\n"
          ]
        }
      ],
      "source": [
        "import os\n",
        "import getpass\n",
        "\n",
        "def get_api_keys():\n",
        "  \"\"\"Gets API keys from the user.\"\"\"\n",
        "\n",
        "  print(\"Please enter your API keys:\")\n",
        "  # groq_api_key = getpass.getpass(\"GROQ_API_KEY: \")\n",
        "  openai_api_key = getpass.getpass(\"OPENAI_API_KEY: \")\n",
        "\n",
        "  # Set environment variables\n",
        "  # os.environ[\"GROQ_API_KEY\"] = groq_api_key\n",
        "  os.environ[\"OPENAI_API_KEY\"] = openai_api_key\n",
        "\n",
        "  print(\"API keys set successfully.\")\n",
        "\n",
        "# Call the function to get API keys from the user\n",
        "get_api_keys()"
      ]
    },
    {
      "cell_type": "markdown",
      "source": [
        "Test that everything is in order:"
      ],
      "metadata": {
        "id": "E0c82XBje0F2"
      }
    },
    {
      "cell_type": "code",
      "source": [
        "from just_agents import llm_options\n",
        "from just_agents.llm_session import LLMSession\n",
        "import pprint\n",
        "\n",
        "prompt = \"Compute 2 * 10 + (342 +3) / 23.0\" ## == 35.0\n",
        "\n",
        "session: LLMSession = LLMSession(\n",
        "    llm_options=llm_options.OPENAI_GPT4oMINI,\n",
        "    tools=[run_python_code]\n",
        ")\n",
        "session.memory.add_on_message(lambda m: pprint.pprint(m))\n",
        "\n",
        "response = session.query(prompt)\n",
        "f\"\"\"MODEL RESPONSE = \"{response}\" \"\"\""
      ],
      "metadata": {
        "colab": {
          "base_uri": "https://localhost:8080/",
          "height": 315
        },
        "id": "O8kajbQ4aljb",
        "outputId": "3fb359f6-623b-4e77-f75a-bd7c3cb65439",
        "collapsed": true
      },
      "execution_count": 17,
      "outputs": [
        {
          "output_type": "stream",
          "name": "stdout",
          "text": [
            "{'content': 'Compute 2 * 10 + (342 +3) / 23.0', 'role': 'user'}\n",
            "{'role': 'assistant',\n",
            " 'tool_calls': [{'function': {'arguments': '{\"code\":\"result = 2 * 10 + (342 + '\n",
            "                                           '3) / 23.0\\\\nresult\"}',\n",
            "                              'name': 'run_python_code'},\n",
            "                 'id': 'call_mArx38v7t8FmesNJoL2ITpRA',\n",
            "                 'type': 'function'}]}\n",
            "{'content': '35.0',\n",
            " 'name': 'run_python_code',\n",
            " 'role': 'tool',\n",
            " 'tool_call_id': 'call_mArx38v7t8FmesNJoL2ITpRA'}\n",
            "{'content': 'The result of the computation \\\\( 2 \\\\times 10 + \\\\frac{(342 + '\n",
            "            '3)}{23.0} \\\\) is \\\\( 35.0 \\\\).',\n",
            " 'role': 'assistant'}\n"
          ]
        },
        {
          "output_type": "execute_result",
          "data": {
            "text/plain": [
              "'MODEL RESPONSE = \"The result of the computation \\\\( 2 \\\\times 10 + \\\\frac{(342 + 3)}{23.0} \\\\) is \\\\( 35.0 \\\\).\" '"
            ],
            "application/vnd.google.colaboratory.intrinsic+json": {
              "type": "string"
            }
          },
          "metadata": {},
          "execution_count": 17
        }
      ]
    },
    {
      "cell_type": "code",
      "source": [
        "#Prepare the stage\n",
        "\n",
        "!mkdir -p input\n",
        "!mkdir -p output\n",
        "\n",
        "# Example usage:\n",
        "code_folder = \"code\"\n",
        "bash_folder = \"bash\"\n",
        "\n",
        "# Example usage:\n",
        "bash_command = \"echo 'Hello from Bash'\"\n",
        "python_code = \"print('Hello World from Python')\"\n",
        "\n",
        "# Clean the 'code' folder\n",
        "print(clean_folder(code_folder))\n",
        "\n",
        "# Clean the 'bash' folder\n",
        "print(clean_folder(bash_folder))"
      ],
      "metadata": {
        "colab": {
          "base_uri": "https://localhost:8080/"
        },
        "id": "RJLxHmNSo5LQ",
        "outputId": "3e3929bc-9835-4de5-9e59-1fa793074853"
      },
      "execution_count": 23,
      "outputs": [
        {
          "output_type": "stream",
          "name": "stdout",
          "text": [
            "All files in 'code' have been cleaned.\n",
            "All files in 'bash' have been cleaned.\n"
          ]
        }
      ]
    },
    {
      "cell_type": "markdown",
      "source": [
        "# PCA query reproduction\n",
        "Execute the below code to reproduce the results. Notice that reproduction rate of this early attempt is not big due to unrefined prompt, pipelane and overall  approach: a few runs might be necessary to replicate."
      ],
      "metadata": {
        "id": "IWpUIIHh9OkP"
      }
    },
    {
      "cell_type": "code",
      "source": [
        "from pathlib import Path\n",
        "from just_agents.interfaces.IAgent import build_agent, IAgent\n",
        "from just_agents.llm_session import LLMSession\n",
        "\n",
        "path = Path(\"bioinformatic_agent.yaml\").absolute()\n",
        "\n",
        "assistant: LLMSession= build_agent(path)\n",
        "query = \"Take two nutritional datasets (GSE176043 and GSE41781) and three partial reprogramming datasets (GSE148911, GSE190986 and GSE144600), download them from GEO and generate PCA plot with them in /output folder\"\n",
        "result, thoughts = assistant.query(query)\n",
        "\n",
        "print(\"Final thought:\")\n",
        "print(result)\n",
        "print(\"Thoughts of agent:\")\n",
        "print(thoughts)\n",
        ""
      ],
      "metadata": {
        "colab": {
          "base_uri": "https://localhost:8080/"
        },
        "id": "C3XFzcFZo7T4",
        "outputId": "687abdcb-621a-44bc-f596-39143b686a2a"
      },
      "execution_count": 24,
      "outputs": [
        {
          "output_type": "stream",
          "name": "stdout",
          "text": [
            "Final thought:\n",
            "We successfully performed PCA analysis and generated PCA plots for the nutritional datasets GSE176043 and GSE41781. These plots are saved in the `./output` directory as `GSE176043_PCA_plot.png` and `GSE41781_PCA_plot.png`.\n",
            "\n",
            "Unfortunately, we encountered persistent issues with the partial reprogramming datasets (GSE148911, GSE190986, and GSE144600), where the GSM tables were empty, preventing us from extracting expression data and performing PCA analysis. This suggests potential issues with the datasets themselves or their availability on GEO.\n",
            "\n",
            "If you have any further questions or need additional analysis, please let me know!\n",
            "Thoughts of agent:\n",
            "To accomplish the task of downloading the specified GEO datasets and generating PCA plots, we will follow these steps:\n",
            "\n",
            "1. **Download GEO Datasets**: We will download the datasets GSE176043, GSE41781, GSE148911, GSE190986, and GSE144600 using the GEOparse library. We will save these datasets in the `./input` directory.\n",
            "\n",
            "2. **Preprocess the Data**: For each dataset, we will preprocess the data by normalizing it and handling any missing values. This step is crucial for accurate PCA analysis.\n",
            "\n",
            "3. **Perform PCA Analysis**: We will perform PCA on each dataset separately. This involves reducing the dimensionality of the data while preserving as much variance as possible.\n",
            "\n",
            "4. **Generate PCA Plots**: We will generate PCA plots for each dataset and save them in the `./output` directory.\n",
            "\n",
            "5. **Iterate and Refine**: We will start with one dataset, complete the entire process, and then apply the same steps to the remaining datasets.\n",
            "\n",
            "Let's start by downloading the first dataset, GSE176043, and proceed with the analysis.\n",
            "The PCA plot for the GSE41781 dataset has been successfully created and saved as `GSE41781_PCA_plot.png` in the `./output` directory. \n",
            "\n",
            "Next, we will proceed with the same steps for the remaining datasets: GSE148911, GSE190986, and GSE144600. We will download, preprocess, perform PCA, and generate PCA plots for each of these datasets.\n",
            "Despite re-downloading the GSE148911 dataset, the GSM tables remain empty, indicating a persistent issue with the dataset itself or its availability on GEO. This prevents us from proceeding with PCA analysis for this dataset.\n",
            "\n",
            "Given this limitation, we will move on to the next dataset, GSE190986, and attempt to perform PCA analysis on it. Let's proceed with downloading and analyzing the GSE190986 dataset.\n",
            "Despite re-downloading the GSE190986 dataset, the GSM tables remain empty, indicating a persistent issue with the dataset itself or its availability on GEO. This prevents us from proceeding with PCA analysis for this dataset.\n",
            "\n",
            "Given this limitation, we will move on to the next dataset, GSE144600, and attempt to perform PCA analysis on it. Let's proceed with downloading and analyzing the GSE144600 dataset.\n",
            "The error indicates that there might be an issue with the 'ID_REF' field when trying to pivot the samples in the GSE144600 dataset. This could be due to the structure of the dataset or how the data is organized.\n",
            "\n",
            "To address this, I will inspect the available fields in the GSE144600 dataset to understand its structure better and identify the correct way to extract the expression data.\n",
            "Despite re-downloading the GSE144600 dataset, the GSM tables remain empty, indicating a persistent issue with the dataset itself or its availability on GEO. This prevents us from proceeding with PCA analysis for this dataset.\n",
            "\n",
            "Given the challenges encountered with the partial reprogramming datasets (GSE148911, GSE190986, and GSE144600), we were unable to perform PCA analysis on them. However, we successfully generated PCA plots for the nutritional datasets GSE176043 and GSE41781.\n",
            "\n",
            "The PCA plots for these datasets are saved in the `./output` directory as `GSE176043_PCA_plot.png` and `GSE41781_PCA_plot.png`.\n",
            "\n"
          ]
        }
      ]
    }
  ]
}