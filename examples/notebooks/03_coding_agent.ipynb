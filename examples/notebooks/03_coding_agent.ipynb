{
  "cells": [
    {
      "cell_type": "markdown",
      "metadata": {
        "colab_type": "text",
        "id": "view-in-github"
      },
      "source": [
        "<a href=\"https://colab.research.google.com/github/longevity-genie/just-agents/blob/main/examples/notebooks/03_coding_agent.ipynb\" target=\"_parent\"><img src=\"https://colab.research.google.com/assets/colab-badge.svg\" alt=\"Open In Colab\"/></a>"
      ]
    },
    {
      "cell_type": "markdown",
      "metadata": {
        "id": "xMh-QD4m8F7V"
      },
      "source": [
        "# Coding Just-Agents tutorial\n",
        "\n",
        "In this tutorial we will develop an LLM agent that can code with just-agents library."
      ]
    },
    {
      "cell_type": "markdown",
      "metadata": {
        "id": "I-pvhtr9ZW1C"
      },
      "source": [
        "It is the third tutorial in a series of tutorials, other ones are:\n",
        "1. Basic agents tutorial\n",
        "2. Database agent tutorial\n",
        "3. Coding agent tutorial  (THIS ONE)"
      ]
    },
    {
      "cell_type": "markdown",
      "metadata": {
        "id": "1-vnEKue7nD-"
      },
      "source": [
        "Here we will write an agent that can write code and install dependencies. The default just-agents code agent uses safe non-root docker sandboxes to isolate environment from the host. However, such approach will not work with google collab, so we will write a coding agent from scratch"
      ]
    },
    {
      "cell_type": "markdown",
      "metadata": {
        "id": "BT5jfOGxZb7j"
      },
      "source": [
        "Install just-agents library and provide API keys for Groq and OpenAi"
      ]
    },
    {
      "cell_type": "code",
      "execution_count": 1,
      "metadata": {
        "colab": {
          "base_uri": "https://localhost:8080/"
        },
        "collapsed": true,
        "id": "dGi8WOSQZe2s",
        "outputId": "0cec975f-32d9-476e-c29e-8a5acf9b14f8"
      },
      "outputs": [
        {
          "name": "stdout",
          "output_type": "stream",
          "text": [
            "Collecting just-agents-coding==0.7.3\n",
            "  Downloading just_agents_coding-0.7.3-py3-none-any.whl.metadata (2.7 kB)\n",
            "Collecting just-agents-core (from just-agents-coding==0.7.3)\n",
            "  Downloading just_agents_core-0.7.3-py3-none-any.whl.metadata (4.8 kB)\n",
            "Collecting llm-sandbox>=0.2.4 (from llm-sandbox[podman]>=0.2.4->just-agents-coding==0.7.3)\n",
            "  Downloading llm_sandbox-0.2.5-py3-none-any.whl.metadata (11 kB)\n",
            "Requirement already satisfied: requests>=2.26.0 in /usr/local/lib/python3.11/dist-packages (from just-agents-coding==0.7.3) (2.32.3)\n",
            "Collecting podman<6.0.0,>=5.2.0 (from llm-sandbox[podman]>=0.2.4->just-agents-coding==0.7.3)\n",
            "  Downloading podman-5.4.0.1-py3-none-any.whl.metadata (17 kB)\n",
            "Requirement already satisfied: charset-normalizer<4,>=2 in /usr/local/lib/python3.11/dist-packages (from requests>=2.26.0->just-agents-coding==0.7.3) (3.4.2)\n",
            "Requirement already satisfied: idna<4,>=2.5 in /usr/local/lib/python3.11/dist-packages (from requests>=2.26.0->just-agents-coding==0.7.3) (3.10)\n",
            "Requirement already satisfied: urllib3<3,>=1.21.1 in /usr/local/lib/python3.11/dist-packages (from requests>=2.26.0->just-agents-coding==0.7.3) (2.4.0)\n",
            "Requirement already satisfied: certifi>=2017.4.17 in /usr/local/lib/python3.11/dist-packages (from requests>=2.26.0->just-agents-coding==0.7.3) (2025.4.26)\n",
            "Requirement already satisfied: docstring_parser>=0.16 in /usr/local/lib/python3.11/dist-packages (from just-agents-core->just-agents-coding==0.7.3) (0.16)\n",
            "Collecting litellm==1.69.2 (from just-agents-core->just-agents-coding==0.7.3)\n",
            "  Downloading litellm-1.69.2-py3-none-any.whl.metadata (37 kB)\n",
            "Collecting mcp>=1.6.0 (from just-agents-core->just-agents-coding==0.7.3)\n",
            "  Downloading mcp-1.9.0-py3-none-any.whl.metadata (26 kB)\n",
            "Requirement already satisfied: pydantic<3.0.0,>=2.0.0 in /usr/local/lib/python3.11/dist-packages (from just-agents-core->just-agents-coding==0.7.3) (2.11.4)\n",
            "Collecting python-dotenv>=1.1.0 (from just-agents-core->just-agents-coding==0.7.3)\n",
            "  Downloading python_dotenv-1.1.0-py3-none-any.whl.metadata (24 kB)\n",
            "Collecting rich>=14.0.0 (from just-agents-core->just-agents-coding==0.7.3)\n",
            "  Downloading rich-14.0.0-py3-none-any.whl.metadata (18 kB)\n",
            "Requirement already satisfied: aiohttp in /usr/local/lib/python3.11/dist-packages (from litellm==1.69.2->just-agents-core->just-agents-coding==0.7.3) (3.11.15)\n",
            "Requirement already satisfied: click in /usr/local/lib/python3.11/dist-packages (from litellm==1.69.2->just-agents-core->just-agents-coding==0.7.3) (8.2.0)\n",
            "Requirement already satisfied: httpx>=0.23.0 in /usr/local/lib/python3.11/dist-packages (from litellm==1.69.2->just-agents-core->just-agents-coding==0.7.3) (0.28.1)\n",
            "Requirement already satisfied: importlib-metadata>=6.8.0 in /usr/local/lib/python3.11/dist-packages (from litellm==1.69.2->just-agents-core->just-agents-coding==0.7.3) (8.7.0)\n",
            "Requirement already satisfied: jinja2<4.0.0,>=3.1.2 in /usr/local/lib/python3.11/dist-packages (from litellm==1.69.2->just-agents-core->just-agents-coding==0.7.3) (3.1.6)\n",
            "Requirement already satisfied: jsonschema<5.0.0,>=4.22.0 in /usr/local/lib/python3.11/dist-packages (from litellm==1.69.2->just-agents-core->just-agents-coding==0.7.3) (4.23.0)\n",
            "Collecting openai<1.76.0,>=1.68.2 (from litellm==1.69.2->just-agents-core->just-agents-coding==0.7.3)\n",
            "  Downloading openai-1.75.0-py3-none-any.whl.metadata (25 kB)\n",
            "Requirement already satisfied: tiktoken>=0.7.0 in /usr/local/lib/python3.11/dist-packages (from litellm==1.69.2->just-agents-core->just-agents-coding==0.7.3) (0.9.0)\n",
            "Requirement already satisfied: tokenizers in /usr/local/lib/python3.11/dist-packages (from litellm==1.69.2->just-agents-core->just-agents-coding==0.7.3) (0.21.1)\n",
            "Requirement already satisfied: anyio>=4.5 in /usr/local/lib/python3.11/dist-packages (from mcp>=1.6.0->just-agents-core->just-agents-coding==0.7.3) (4.9.0)\n",
            "Collecting httpx-sse>=0.4 (from mcp>=1.6.0->just-agents-core->just-agents-coding==0.7.3)\n",
            "  Downloading httpx_sse-0.4.0-py3-none-any.whl.metadata (9.0 kB)\n",
            "Collecting pydantic-settings>=2.5.2 (from mcp>=1.6.0->just-agents-core->just-agents-coding==0.7.3)\n",
            "  Downloading pydantic_settings-2.9.1-py3-none-any.whl.metadata (3.8 kB)\n",
            "Collecting python-multipart>=0.0.9 (from mcp>=1.6.0->just-agents-core->just-agents-coding==0.7.3)\n",
            "  Downloading python_multipart-0.0.20-py3-none-any.whl.metadata (1.8 kB)\n",
            "Collecting sse-starlette>=1.6.1 (from mcp>=1.6.0->just-agents-core->just-agents-coding==0.7.3)\n",
            "  Downloading sse_starlette-2.3.5-py3-none-any.whl.metadata (7.8 kB)\n",
            "Collecting starlette>=0.27 (from mcp>=1.6.0->just-agents-core->just-agents-coding==0.7.3)\n",
            "  Downloading starlette-0.46.2-py3-none-any.whl.metadata (6.2 kB)\n",
            "Collecting uvicorn>=0.23.1 (from mcp>=1.6.0->just-agents-core->just-agents-coding==0.7.3)\n",
            "  Downloading uvicorn-0.34.2-py3-none-any.whl.metadata (6.5 kB)\n",
            "Requirement already satisfied: annotated-types>=0.6.0 in /usr/local/lib/python3.11/dist-packages (from pydantic<3.0.0,>=2.0.0->just-agents-core->just-agents-coding==0.7.3) (0.7.0)\n",
            "Requirement already satisfied: pydantic-core==2.33.2 in /usr/local/lib/python3.11/dist-packages (from pydantic<3.0.0,>=2.0.0->just-agents-core->just-agents-coding==0.7.3) (2.33.2)\n",
            "Requirement already satisfied: typing-extensions>=4.12.2 in /usr/local/lib/python3.11/dist-packages (from pydantic<3.0.0,>=2.0.0->just-agents-core->just-agents-coding==0.7.3) (4.13.2)\n",
            "Requirement already satisfied: typing-inspection>=0.4.0 in /usr/local/lib/python3.11/dist-packages (from pydantic<3.0.0,>=2.0.0->just-agents-core->just-agents-coding==0.7.3) (0.4.0)\n",
            "Requirement already satisfied: markdown-it-py>=2.2.0 in /usr/local/lib/python3.11/dist-packages (from rich>=14.0.0->just-agents-core->just-agents-coding==0.7.3) (3.0.0)\n",
            "Requirement already satisfied: pygments<3.0.0,>=2.13.0 in /usr/local/lib/python3.11/dist-packages (from rich>=14.0.0->just-agents-core->just-agents-coding==0.7.3) (2.19.1)\n",
            "Requirement already satisfied: sniffio>=1.1 in /usr/local/lib/python3.11/dist-packages (from anyio>=4.5->mcp>=1.6.0->just-agents-core->just-agents-coding==0.7.3) (1.3.1)\n",
            "Requirement already satisfied: httpcore==1.* in /usr/local/lib/python3.11/dist-packages (from httpx>=0.23.0->litellm==1.69.2->just-agents-core->just-agents-coding==0.7.3) (1.0.9)\n",
            "Requirement already satisfied: h11>=0.16 in /usr/local/lib/python3.11/dist-packages (from httpcore==1.*->httpx>=0.23.0->litellm==1.69.2->just-agents-core->just-agents-coding==0.7.3) (0.16.0)\n",
            "Requirement already satisfied: zipp>=3.20 in /usr/local/lib/python3.11/dist-packages (from importlib-metadata>=6.8.0->litellm==1.69.2->just-agents-core->just-agents-coding==0.7.3) (3.21.0)\n",
            "Requirement already satisfied: MarkupSafe>=2.0 in /usr/local/lib/python3.11/dist-packages (from jinja2<4.0.0,>=3.1.2->litellm==1.69.2->just-agents-core->just-agents-coding==0.7.3) (3.0.2)\n",
            "Requirement already satisfied: attrs>=22.2.0 in /usr/local/lib/python3.11/dist-packages (from jsonschema<5.0.0,>=4.22.0->litellm==1.69.2->just-agents-core->just-agents-coding==0.7.3) (25.3.0)\n",
            "Requirement already satisfied: jsonschema-specifications>=2023.03.6 in /usr/local/lib/python3.11/dist-packages (from jsonschema<5.0.0,>=4.22.0->litellm==1.69.2->just-agents-core->just-agents-coding==0.7.3) (2025.4.1)\n",
            "Requirement already satisfied: referencing>=0.28.4 in /usr/local/lib/python3.11/dist-packages (from jsonschema<5.0.0,>=4.22.0->litellm==1.69.2->just-agents-core->just-agents-coding==0.7.3) (0.36.2)\n",
            "Requirement already satisfied: rpds-py>=0.7.1 in /usr/local/lib/python3.11/dist-packages (from jsonschema<5.0.0,>=4.22.0->litellm==1.69.2->just-agents-core->just-agents-coding==0.7.3) (0.24.0)\n",
            "Requirement already satisfied: mdurl~=0.1 in /usr/local/lib/python3.11/dist-packages (from markdown-it-py>=2.2.0->rich>=14.0.0->just-agents-core->just-agents-coding==0.7.3) (0.1.2)\n",
            "Requirement already satisfied: distro<2,>=1.7.0 in /usr/local/lib/python3.11/dist-packages (from openai<1.76.0,>=1.68.2->litellm==1.69.2->just-agents-core->just-agents-coding==0.7.3) (1.9.0)\n",
            "Requirement already satisfied: jiter<1,>=0.4.0 in /usr/local/lib/python3.11/dist-packages (from openai<1.76.0,>=1.68.2->litellm==1.69.2->just-agents-core->just-agents-coding==0.7.3) (0.9.0)\n",
            "Requirement already satisfied: tqdm>4 in /usr/local/lib/python3.11/dist-packages (from openai<1.76.0,>=1.68.2->litellm==1.69.2->just-agents-core->just-agents-coding==0.7.3) (4.67.1)\n",
            "Requirement already satisfied: regex>=2022.1.18 in /usr/local/lib/python3.11/dist-packages (from tiktoken>=0.7.0->litellm==1.69.2->just-agents-core->just-agents-coding==0.7.3) (2024.11.6)\n",
            "Requirement already satisfied: aiohappyeyeballs>=2.3.0 in /usr/local/lib/python3.11/dist-packages (from aiohttp->litellm==1.69.2->just-agents-core->just-agents-coding==0.7.3) (2.6.1)\n",
            "Requirement already satisfied: aiosignal>=1.1.2 in /usr/local/lib/python3.11/dist-packages (from aiohttp->litellm==1.69.2->just-agents-core->just-agents-coding==0.7.3) (1.3.2)\n",
            "Requirement already satisfied: frozenlist>=1.1.1 in /usr/local/lib/python3.11/dist-packages (from aiohttp->litellm==1.69.2->just-agents-core->just-agents-coding==0.7.3) (1.6.0)\n",
            "Requirement already satisfied: multidict<7.0,>=4.5 in /usr/local/lib/python3.11/dist-packages (from aiohttp->litellm==1.69.2->just-agents-core->just-agents-coding==0.7.3) (6.4.3)\n",
            "Requirement already satisfied: propcache>=0.2.0 in /usr/local/lib/python3.11/dist-packages (from aiohttp->litellm==1.69.2->just-agents-core->just-agents-coding==0.7.3) (0.3.1)\n",
            "Requirement already satisfied: yarl<2.0,>=1.17.0 in /usr/local/lib/python3.11/dist-packages (from aiohttp->litellm==1.69.2->just-agents-core->just-agents-coding==0.7.3) (1.20.0)\n",
            "Requirement already satisfied: huggingface-hub<1.0,>=0.16.4 in /usr/local/lib/python3.11/dist-packages (from tokenizers->litellm==1.69.2->just-agents-core->just-agents-coding==0.7.3) (0.31.2)\n",
            "Requirement already satisfied: filelock in /usr/local/lib/python3.11/dist-packages (from huggingface-hub<1.0,>=0.16.4->tokenizers->litellm==1.69.2->just-agents-core->just-agents-coding==0.7.3) (3.18.0)\n",
            "Requirement already satisfied: fsspec>=2023.5.0 in /usr/local/lib/python3.11/dist-packages (from huggingface-hub<1.0,>=0.16.4->tokenizers->litellm==1.69.2->just-agents-core->just-agents-coding==0.7.3) (2025.3.2)\n",
            "Requirement already satisfied: packaging>=20.9 in /usr/local/lib/python3.11/dist-packages (from huggingface-hub<1.0,>=0.16.4->tokenizers->litellm==1.69.2->just-agents-core->just-agents-coding==0.7.3) (24.2)\n",
            "Requirement already satisfied: pyyaml>=5.1 in /usr/local/lib/python3.11/dist-packages (from huggingface-hub<1.0,>=0.16.4->tokenizers->litellm==1.69.2->just-agents-core->just-agents-coding==0.7.3) (6.0.2)\n",
            "Downloading just_agents_coding-0.7.3-py3-none-any.whl (3.0 kB)\n",
            "Downloading llm_sandbox-0.2.5-py3-none-any.whl (21 kB)\n",
            "Downloading just_agents_core-0.7.3-py3-none-any.whl (80 kB)\n",
            "\u001b[2K   \u001b[90m━━━━━━━━━━━━━━━━━━━━━━━━━━━━━━━━━━━━━━━━\u001b[0m \u001b[32m80.1/80.1 kB\u001b[0m \u001b[31m6.9 MB/s\u001b[0m eta \u001b[36m0:00:00\u001b[0m\n",
            "\u001b[?25hDownloading litellm-1.69.2-py3-none-any.whl (7.7 MB)\n",
            "\u001b[2K   \u001b[90m━━━━━━━━━━━━━━━━━━━━━━━━━━━━━━━━━━━━━━━━\u001b[0m \u001b[32m7.7/7.7 MB\u001b[0m \u001b[31m59.1 MB/s\u001b[0m eta \u001b[36m0:00:00\u001b[0m\n",
            "\u001b[?25hDownloading mcp-1.9.0-py3-none-any.whl (125 kB)\n",
            "\u001b[2K   \u001b[90m━━━━━━━━━━━━━━━━━━━━━━━━━━━━━━━━━━━━━━━━\u001b[0m \u001b[32m125.1/125.1 kB\u001b[0m \u001b[31m9.2 MB/s\u001b[0m eta \u001b[36m0:00:00\u001b[0m\n",
            "\u001b[?25hDownloading podman-5.4.0.1-py3-none-any.whl (84 kB)\n",
            "\u001b[2K   \u001b[90m━━━━━━━━━━━━━━━━━━━━━━━━━━━━━━━━━━━━━━━━\u001b[0m \u001b[32m84.5/84.5 kB\u001b[0m \u001b[31m5.8 MB/s\u001b[0m eta \u001b[36m0:00:00\u001b[0m\n",
            "\u001b[?25hDownloading python_dotenv-1.1.0-py3-none-any.whl (20 kB)\n",
            "Downloading rich-14.0.0-py3-none-any.whl (243 kB)\n",
            "\u001b[2K   \u001b[90m━━━━━━━━━━━━━━━━━━━━━━━━━━━━━━━━━━━━━━━━\u001b[0m \u001b[32m243.2/243.2 kB\u001b[0m \u001b[31m13.8 MB/s\u001b[0m eta \u001b[36m0:00:00\u001b[0m\n",
            "\u001b[?25hDownloading httpx_sse-0.4.0-py3-none-any.whl (7.8 kB)\n",
            "Downloading openai-1.75.0-py3-none-any.whl (646 kB)\n",
            "\u001b[2K   \u001b[90m━━━━━━━━━━━━━━━━━━━━━━━━━━━━━━━━━━━━━━━━\u001b[0m \u001b[32m647.0/647.0 kB\u001b[0m \u001b[31m27.8 MB/s\u001b[0m eta \u001b[36m0:00:00\u001b[0m\n",
            "\u001b[?25hDownloading pydantic_settings-2.9.1-py3-none-any.whl (44 kB)\n",
            "\u001b[2K   \u001b[90m━━━━━━━━━━━━━━━━━━━━━━━━━━━━━━━━━━━━━━━━\u001b[0m \u001b[32m44.4/44.4 kB\u001b[0m \u001b[31m3.4 MB/s\u001b[0m eta \u001b[36m0:00:00\u001b[0m\n",
            "\u001b[?25hDownloading python_multipart-0.0.20-py3-none-any.whl (24 kB)\n",
            "Downloading sse_starlette-2.3.5-py3-none-any.whl (10 kB)\n",
            "Downloading starlette-0.46.2-py3-none-any.whl (72 kB)\n",
            "\u001b[2K   \u001b[90m━━━━━━━━━━━━━━━━━━━━━━━━━━━━━━━━━━━━━━━━\u001b[0m \u001b[32m72.0/72.0 kB\u001b[0m \u001b[31m6.0 MB/s\u001b[0m eta \u001b[36m0:00:00\u001b[0m\n",
            "\u001b[?25hDownloading uvicorn-0.34.2-py3-none-any.whl (62 kB)\n",
            "\u001b[2K   \u001b[90m━━━━━━━━━━━━━━━━━━━━━━━━━━━━━━━━━━━━━━━━\u001b[0m \u001b[32m62.5/62.5 kB\u001b[0m \u001b[31m5.0 MB/s\u001b[0m eta \u001b[36m0:00:00\u001b[0m\n",
            "\u001b[?25hInstalling collected packages: uvicorn, python-multipart, python-dotenv, llm-sandbox, httpx-sse, starlette, rich, podman, sse-starlette, pydantic-settings, openai, mcp, litellm, just-agents-core, just-agents-coding\n",
            "  Attempting uninstall: rich\n",
            "    Found existing installation: rich 13.9.4\n",
            "    Uninstalling rich-13.9.4:\n",
            "      Successfully uninstalled rich-13.9.4\n",
            "  Attempting uninstall: openai\n",
            "    Found existing installation: openai 1.78.1\n",
            "    Uninstalling openai-1.78.1:\n",
            "      Successfully uninstalled openai-1.78.1\n",
            "\u001b[31mERROR: pip's dependency resolver does not currently take into account all the packages that are installed. This behaviour is the source of the following dependency conflicts.\n",
            "bigframes 2.4.0 requires rich<14,>=12.4.4, but you have rich 14.0.0 which is incompatible.\u001b[0m\u001b[31m\n",
            "\u001b[0mSuccessfully installed httpx-sse-0.4.0 just-agents-coding-0.7.3 just-agents-core-0.7.3 litellm-1.69.2 llm-sandbox-0.2.5 mcp-1.9.0 openai-1.75.0 podman-5.4.0.1 pydantic-settings-2.9.1 python-dotenv-1.1.0 python-multipart-0.0.20 rich-14.0.0 sse-starlette-2.3.5 starlette-0.46.2 uvicorn-0.34.2\n",
            "Collecting just-agents-examples==0.7.3\n",
            "  Downloading just_agents_examples-0.7.3-py3-none-any.whl.metadata (1.1 kB)\n",
            "Collecting docker>=7.1.0 (from just-agents-examples==0.7.3)\n",
            "  Downloading docker-7.1.0-py3-none-any.whl.metadata (3.8 kB)\n",
            "Requirement already satisfied: just-agents-coding in /usr/local/lib/python3.11/dist-packages (from just-agents-examples==0.7.3) (0.7.3)\n",
            "Collecting just-agents-router (from just-agents-examples==0.7.3)\n",
            "  Downloading just_agents_router-0.7.3-py3-none-any.whl.metadata (2.3 kB)\n",
            "Collecting just-agents-tools (from just-agents-examples==0.7.3)\n",
            "  Downloading just_agents_tools-0.7.3-py3-none-any.whl.metadata (1.7 kB)\n",
            "Collecting just-agents-web (from just-agents-examples==0.7.3)\n",
            "  Downloading just_agents_web-0.7.3-py3-none-any.whl.metadata (2.2 kB)\n",
            "Requirement already satisfied: requests>=2.26.0 in /usr/local/lib/python3.11/dist-packages (from docker>=7.1.0->just-agents-examples==0.7.3) (2.32.3)\n",
            "Requirement already satisfied: urllib3>=1.26.0 in /usr/local/lib/python3.11/dist-packages (from docker>=7.1.0->just-agents-examples==0.7.3) (2.4.0)\n",
            "Requirement already satisfied: just-agents-core in /usr/local/lib/python3.11/dist-packages (from just-agents-coding->just-agents-examples==0.7.3) (0.7.3)\n",
            "Requirement already satisfied: llm-sandbox>=0.2.4 in /usr/local/lib/python3.11/dist-packages (from llm-sandbox[podman]>=0.2.4->just-agents-coding->just-agents-examples==0.7.3) (0.2.5)\n",
            "Collecting semanticscholar>=0.10.0 (from just-agents-tools->just-agents-examples==0.7.3)\n",
            "  Downloading semanticscholar-0.10.0-py3-none-any.whl.metadata (3.8 kB)\n",
            "Collecting aiofiles>=24.1.0 (from just-agents-web->just-agents-examples==0.7.3)\n",
            "  Downloading aiofiles-24.1.0-py3-none-any.whl.metadata (10 kB)\n",
            "Collecting coolname>=2.2.0 (from just-agents-web->just-agents-examples==0.7.3)\n",
            "  Downloading coolname-2.2.0-py2.py3-none-any.whl.metadata (6.2 kB)\n",
            "Collecting fastapi>=0.115.12 (from just-agents-web->just-agents-examples==0.7.3)\n",
            "  Downloading fastapi-0.115.12-py3-none-any.whl.metadata (27 kB)\n",
            "Collecting fastmcp>=2.2.10 (from just-agents-web->just-agents-examples==0.7.3)\n",
            "  Downloading fastmcp-2.4.0-py3-none-any.whl.metadata (16 kB)\n",
            "Collecting pycomfort>=0.0.18 (from just-agents-web->just-agents-examples==0.7.3)\n",
            "  Downloading pycomfort-0.0.18-py3-none-any.whl.metadata (7.0 kB)\n",
            "Requirement already satisfied: python-dotenv>=1.1.0 in /usr/local/lib/python3.11/dist-packages (from just-agents-web->just-agents-examples==0.7.3) (1.1.0)\n",
            "Requirement already satisfied: uvicorn>=0.34.0 in /usr/local/lib/python3.11/dist-packages (from just-agents-web->just-agents-examples==0.7.3) (0.34.2)\n",
            "Requirement already satisfied: starlette<0.47.0,>=0.40.0 in /usr/local/lib/python3.11/dist-packages (from fastapi>=0.115.12->just-agents-web->just-agents-examples==0.7.3) (0.46.2)\n",
            "Requirement already satisfied: pydantic!=1.8,!=1.8.1,!=2.0.0,!=2.0.1,!=2.1.0,<3.0.0,>=1.7.4 in /usr/local/lib/python3.11/dist-packages (from fastapi>=0.115.12->just-agents-web->just-agents-examples==0.7.3) (2.11.4)\n",
            "Requirement already satisfied: typing-extensions>=4.8.0 in /usr/local/lib/python3.11/dist-packages (from fastapi>=0.115.12->just-agents-web->just-agents-examples==0.7.3) (4.13.2)\n",
            "Collecting exceptiongroup>=1.2.2 (from fastmcp>=2.2.10->just-agents-web->just-agents-examples==0.7.3)\n",
            "  Downloading exceptiongroup-1.3.0-py3-none-any.whl.metadata (6.7 kB)\n",
            "Requirement already satisfied: httpx>=0.28.1 in /usr/local/lib/python3.11/dist-packages (from fastmcp>=2.2.10->just-agents-web->just-agents-examples==0.7.3) (0.28.1)\n",
            "Requirement already satisfied: mcp<2.0.0,>=1.9.0 in /usr/local/lib/python3.11/dist-packages (from fastmcp>=2.2.10->just-agents-web->just-agents-examples==0.7.3) (1.9.0)\n",
            "Collecting openapi-pydantic>=0.5.1 (from fastmcp>=2.2.10->just-agents-web->just-agents-examples==0.7.3)\n",
            "  Downloading openapi_pydantic-0.5.1-py3-none-any.whl.metadata (10 kB)\n",
            "Requirement already satisfied: rich>=13.9.4 in /usr/local/lib/python3.11/dist-packages (from fastmcp>=2.2.10->just-agents-web->just-agents-examples==0.7.3) (14.0.0)\n",
            "Requirement already satisfied: typer>=0.15.2 in /usr/local/lib/python3.11/dist-packages (from fastmcp>=2.2.10->just-agents-web->just-agents-examples==0.7.3) (0.15.3)\n",
            "Requirement already satisfied: websockets>=14.0 in /usr/local/lib/python3.11/dist-packages (from fastmcp>=2.2.10->just-agents-web->just-agents-examples==0.7.3) (15.0.1)\n",
            "Requirement already satisfied: podman<6.0.0,>=5.2.0 in /usr/local/lib/python3.11/dist-packages (from llm-sandbox[podman]>=0.2.4->just-agents-coding->just-agents-examples==0.7.3) (5.4.0.1)\n",
            "Collecting Deprecated>=1.2.15 (from pycomfort>=0.0.18->just-agents-web->just-agents-examples==0.7.3)\n",
            "  Downloading Deprecated-1.2.18-py2.py3-none-any.whl.metadata (5.7 kB)\n",
            "Collecting eliot>=1.17.5 (from pycomfort>=0.0.18->just-agents-web->just-agents-examples==0.7.3)\n",
            "  Downloading eliot-1.17.5-py3-none-any.whl.metadata (4.6 kB)\n",
            "Collecting eliot-tree>=24.0.0 (from pycomfort>=0.0.18->just-agents-web->just-agents-examples==0.7.3)\n",
            "  Downloading eliot_tree-24.0.0-py3-none-any.whl.metadata (10 kB)\n",
            "Requirement already satisfied: more-itertools>=10.6.0 in /usr/local/lib/python3.11/dist-packages (from pycomfort>=0.0.18->just-agents-web->just-agents-examples==0.7.3) (10.7.0)\n",
            "Collecting pyfunctional<=1.5.0 (from pycomfort>=0.0.18->just-agents-web->just-agents-examples==0.7.3)\n",
            "  Downloading pyfunctional-1.5.0-py3-none-any.whl.metadata (40 kB)\n",
            "\u001b[2K     \u001b[90m━━━━━━━━━━━━━━━━━━━━━━━━━━━━━━━━━━━━━━━━\u001b[0m \u001b[32m40.4/40.4 kB\u001b[0m \u001b[31m3.5 MB/s\u001b[0m eta \u001b[36m0:00:00\u001b[0m\n",
            "\u001b[?25hRequirement already satisfied: charset-normalizer<4,>=2 in /usr/local/lib/python3.11/dist-packages (from requests>=2.26.0->docker>=7.1.0->just-agents-examples==0.7.3) (3.4.2)\n",
            "Requirement already satisfied: idna<4,>=2.5 in /usr/local/lib/python3.11/dist-packages (from requests>=2.26.0->docker>=7.1.0->just-agents-examples==0.7.3) (3.10)\n",
            "Requirement already satisfied: certifi>=2017.4.17 in /usr/local/lib/python3.11/dist-packages (from requests>=2.26.0->docker>=7.1.0->just-agents-examples==0.7.3) (2025.4.26)\n",
            "Requirement already satisfied: tenacity in /usr/local/lib/python3.11/dist-packages (from semanticscholar>=0.10.0->just-agents-tools->just-agents-examples==0.7.3) (9.1.2)\n",
            "Requirement already satisfied: nest_asyncio in /usr/local/lib/python3.11/dist-packages (from semanticscholar>=0.10.0->just-agents-tools->just-agents-examples==0.7.3) (1.6.0)\n",
            "Requirement already satisfied: click>=7.0 in /usr/local/lib/python3.11/dist-packages (from uvicorn>=0.34.0->just-agents-web->just-agents-examples==0.7.3) (8.2.0)\n",
            "Requirement already satisfied: h11>=0.8 in /usr/local/lib/python3.11/dist-packages (from uvicorn>=0.34.0->just-agents-web->just-agents-examples==0.7.3) (0.16.0)\n",
            "Requirement already satisfied: docstring_parser>=0.16 in /usr/local/lib/python3.11/dist-packages (from just-agents-core->just-agents-coding->just-agents-examples==0.7.3) (0.16)\n",
            "Requirement already satisfied: litellm==1.69.2 in /usr/local/lib/python3.11/dist-packages (from just-agents-core->just-agents-coding->just-agents-examples==0.7.3) (1.69.2)\n",
            "Requirement already satisfied: aiohttp in /usr/local/lib/python3.11/dist-packages (from litellm==1.69.2->just-agents-core->just-agents-coding->just-agents-examples==0.7.3) (3.11.15)\n",
            "Requirement already satisfied: importlib-metadata>=6.8.0 in /usr/local/lib/python3.11/dist-packages (from litellm==1.69.2->just-agents-core->just-agents-coding->just-agents-examples==0.7.3) (8.7.0)\n",
            "Requirement already satisfied: jinja2<4.0.0,>=3.1.2 in /usr/local/lib/python3.11/dist-packages (from litellm==1.69.2->just-agents-core->just-agents-coding->just-agents-examples==0.7.3) (3.1.6)\n",
            "Requirement already satisfied: jsonschema<5.0.0,>=4.22.0 in /usr/local/lib/python3.11/dist-packages (from litellm==1.69.2->just-agents-core->just-agents-coding->just-agents-examples==0.7.3) (4.23.0)\n",
            "Requirement already satisfied: openai<1.76.0,>=1.68.2 in /usr/local/lib/python3.11/dist-packages (from litellm==1.69.2->just-agents-core->just-agents-coding->just-agents-examples==0.7.3) (1.75.0)\n",
            "Requirement already satisfied: tiktoken>=0.7.0 in /usr/local/lib/python3.11/dist-packages (from litellm==1.69.2->just-agents-core->just-agents-coding->just-agents-examples==0.7.3) (0.9.0)\n",
            "Requirement already satisfied: tokenizers in /usr/local/lib/python3.11/dist-packages (from litellm==1.69.2->just-agents-core->just-agents-coding->just-agents-examples==0.7.3) (0.21.1)\n",
            "Requirement already satisfied: wrapt<2,>=1.10 in /usr/local/lib/python3.11/dist-packages (from Deprecated>=1.2.15->pycomfort>=0.0.18->just-agents-web->just-agents-examples==0.7.3) (1.17.2)\n",
            "Collecting zope.interface (from eliot>=1.17.5->pycomfort>=0.0.18->just-agents-web->just-agents-examples==0.7.3)\n",
            "  Downloading zope.interface-7.2-cp311-cp311-manylinux_2_5_x86_64.manylinux1_x86_64.manylinux_2_17_x86_64.manylinux2014_x86_64.whl.metadata (44 kB)\n",
            "\u001b[2K     \u001b[90m━━━━━━━━━━━━━━━━━━━━━━━━━━━━━━━━━━━━━━━━\u001b[0m \u001b[32m44.4/44.4 kB\u001b[0m \u001b[31m3.9 MB/s\u001b[0m eta \u001b[36m0:00:00\u001b[0m\n",
            "\u001b[?25hCollecting pyrsistent>=0.11.8 (from eliot>=1.17.5->pycomfort>=0.0.18->just-agents-web->just-agents-examples==0.7.3)\n",
            "  Downloading pyrsistent-0.20.0-cp311-cp311-manylinux_2_17_x86_64.manylinux2014_x86_64.whl.metadata (27 kB)\n",
            "Collecting boltons>=19.0.1 (from eliot>=1.17.5->pycomfort>=0.0.18->just-agents-web->just-agents-examples==0.7.3)\n",
            "  Downloading boltons-25.0.0-py3-none-any.whl.metadata (6.5 kB)\n",
            "Requirement already satisfied: orjson in /usr/local/lib/python3.11/dist-packages (from eliot>=1.17.5->pycomfort>=0.0.18->just-agents-web->just-agents-examples==0.7.3) (3.10.18)\n",
            "Requirement already satisfied: six>=1.13.0 in /usr/local/lib/python3.11/dist-packages (from eliot-tree>=24.0.0->pycomfort>=0.0.18->just-agents-web->just-agents-examples==0.7.3) (1.17.0)\n",
            "Collecting jmespath>=0.7.1 (from eliot-tree>=24.0.0->pycomfort>=0.0.18->just-agents-web->just-agents-examples==0.7.3)\n",
            "  Downloading jmespath-1.0.1-py3-none-any.whl.metadata (7.6 kB)\n",
            "Collecting iso8601>=0.1.10 (from eliot-tree>=24.0.0->pycomfort>=0.0.18->just-agents-web->just-agents-examples==0.7.3)\n",
            "  Downloading iso8601-2.1.0-py3-none-any.whl.metadata (3.7 kB)\n",
            "Collecting colored>=1.4.2 (from eliot-tree>=24.0.0->pycomfort>=0.0.18->just-agents-web->just-agents-examples==0.7.3)\n",
            "  Downloading colored-2.3.0-py3-none-any.whl.metadata (3.6 kB)\n",
            "Requirement already satisfied: toolz>=0.8.2 in /usr/local/lib/python3.11/dist-packages (from eliot-tree>=24.0.0->pycomfort>=0.0.18->just-agents-web->just-agents-examples==0.7.3) (0.12.1)\n",
            "Requirement already satisfied: anyio in /usr/local/lib/python3.11/dist-packages (from httpx>=0.28.1->fastmcp>=2.2.10->just-agents-web->just-agents-examples==0.7.3) (4.9.0)\n",
            "Requirement already satisfied: httpcore==1.* in /usr/local/lib/python3.11/dist-packages (from httpx>=0.28.1->fastmcp>=2.2.10->just-agents-web->just-agents-examples==0.7.3) (1.0.9)\n",
            "Requirement already satisfied: httpx-sse>=0.4 in /usr/local/lib/python3.11/dist-packages (from mcp<2.0.0,>=1.9.0->fastmcp>=2.2.10->just-agents-web->just-agents-examples==0.7.3) (0.4.0)\n",
            "Requirement already satisfied: pydantic-settings>=2.5.2 in /usr/local/lib/python3.11/dist-packages (from mcp<2.0.0,>=1.9.0->fastmcp>=2.2.10->just-agents-web->just-agents-examples==0.7.3) (2.9.1)\n",
            "Requirement already satisfied: python-multipart>=0.0.9 in /usr/local/lib/python3.11/dist-packages (from mcp<2.0.0,>=1.9.0->fastmcp>=2.2.10->just-agents-web->just-agents-examples==0.7.3) (0.0.20)\n",
            "Requirement already satisfied: sse-starlette>=1.6.1 in /usr/local/lib/python3.11/dist-packages (from mcp<2.0.0,>=1.9.0->fastmcp>=2.2.10->just-agents-web->just-agents-examples==0.7.3) (2.3.5)\n",
            "Requirement already satisfied: annotated-types>=0.6.0 in /usr/local/lib/python3.11/dist-packages (from pydantic!=1.8,!=1.8.1,!=2.0.0,!=2.0.1,!=2.1.0,<3.0.0,>=1.7.4->fastapi>=0.115.12->just-agents-web->just-agents-examples==0.7.3) (0.7.0)\n",
            "Requirement already satisfied: pydantic-core==2.33.2 in /usr/local/lib/python3.11/dist-packages (from pydantic!=1.8,!=1.8.1,!=2.0.0,!=2.0.1,!=2.1.0,<3.0.0,>=1.7.4->fastapi>=0.115.12->just-agents-web->just-agents-examples==0.7.3) (2.33.2)\n",
            "Requirement already satisfied: typing-inspection>=0.4.0 in /usr/local/lib/python3.11/dist-packages (from pydantic!=1.8,!=1.8.1,!=2.0.0,!=2.0.1,!=2.1.0,<3.0.0,>=1.7.4->fastapi>=0.115.12->just-agents-web->just-agents-examples==0.7.3) (0.4.0)\n",
            "Requirement already satisfied: dill>=0.2.5 in /usr/local/lib/python3.11/dist-packages (from pyfunctional<=1.5.0->pycomfort>=0.0.18->just-agents-web->just-agents-examples==0.7.3) (0.3.7)\n",
            "Requirement already satisfied: tabulate<=1.0.0 in /usr/local/lib/python3.11/dist-packages (from pyfunctional<=1.5.0->pycomfort>=0.0.18->just-agents-web->just-agents-examples==0.7.3) (0.9.0)\n",
            "Requirement already satisfied: markdown-it-py>=2.2.0 in /usr/local/lib/python3.11/dist-packages (from rich>=13.9.4->fastmcp>=2.2.10->just-agents-web->just-agents-examples==0.7.3) (3.0.0)\n",
            "Requirement already satisfied: pygments<3.0.0,>=2.13.0 in /usr/local/lib/python3.11/dist-packages (from rich>=13.9.4->fastmcp>=2.2.10->just-agents-web->just-agents-examples==0.7.3) (2.19.1)\n",
            "Requirement already satisfied: shellingham>=1.3.0 in /usr/local/lib/python3.11/dist-packages (from typer>=0.15.2->fastmcp>=2.2.10->just-agents-web->just-agents-examples==0.7.3) (1.5.4)\n",
            "Requirement already satisfied: sniffio>=1.1 in /usr/local/lib/python3.11/dist-packages (from anyio->httpx>=0.28.1->fastmcp>=2.2.10->just-agents-web->just-agents-examples==0.7.3) (1.3.1)\n",
            "Requirement already satisfied: zipp>=3.20 in /usr/local/lib/python3.11/dist-packages (from importlib-metadata>=6.8.0->litellm==1.69.2->just-agents-core->just-agents-coding->just-agents-examples==0.7.3) (3.21.0)\n",
            "Requirement already satisfied: MarkupSafe>=2.0 in /usr/local/lib/python3.11/dist-packages (from jinja2<4.0.0,>=3.1.2->litellm==1.69.2->just-agents-core->just-agents-coding->just-agents-examples==0.7.3) (3.0.2)\n",
            "Requirement already satisfied: attrs>=22.2.0 in /usr/local/lib/python3.11/dist-packages (from jsonschema<5.0.0,>=4.22.0->litellm==1.69.2->just-agents-core->just-agents-coding->just-agents-examples==0.7.3) (25.3.0)\n",
            "Requirement already satisfied: jsonschema-specifications>=2023.03.6 in /usr/local/lib/python3.11/dist-packages (from jsonschema<5.0.0,>=4.22.0->litellm==1.69.2->just-agents-core->just-agents-coding->just-agents-examples==0.7.3) (2025.4.1)\n",
            "Requirement already satisfied: referencing>=0.28.4 in /usr/local/lib/python3.11/dist-packages (from jsonschema<5.0.0,>=4.22.0->litellm==1.69.2->just-agents-core->just-agents-coding->just-agents-examples==0.7.3) (0.36.2)\n",
            "Requirement already satisfied: rpds-py>=0.7.1 in /usr/local/lib/python3.11/dist-packages (from jsonschema<5.0.0,>=4.22.0->litellm==1.69.2->just-agents-core->just-agents-coding->just-agents-examples==0.7.3) (0.24.0)\n",
            "Requirement already satisfied: mdurl~=0.1 in /usr/local/lib/python3.11/dist-packages (from markdown-it-py>=2.2.0->rich>=13.9.4->fastmcp>=2.2.10->just-agents-web->just-agents-examples==0.7.3) (0.1.2)\n",
            "Requirement already satisfied: distro<2,>=1.7.0 in /usr/local/lib/python3.11/dist-packages (from openai<1.76.0,>=1.68.2->litellm==1.69.2->just-agents-core->just-agents-coding->just-agents-examples==0.7.3) (1.9.0)\n",
            "Requirement already satisfied: jiter<1,>=0.4.0 in /usr/local/lib/python3.11/dist-packages (from openai<1.76.0,>=1.68.2->litellm==1.69.2->just-agents-core->just-agents-coding->just-agents-examples==0.7.3) (0.9.0)\n",
            "Requirement already satisfied: tqdm>4 in /usr/local/lib/python3.11/dist-packages (from openai<1.76.0,>=1.68.2->litellm==1.69.2->just-agents-core->just-agents-coding->just-agents-examples==0.7.3) (4.67.1)\n",
            "Requirement already satisfied: regex>=2022.1.18 in /usr/local/lib/python3.11/dist-packages (from tiktoken>=0.7.0->litellm==1.69.2->just-agents-core->just-agents-coding->just-agents-examples==0.7.3) (2024.11.6)\n",
            "Requirement already satisfied: aiohappyeyeballs>=2.3.0 in /usr/local/lib/python3.11/dist-packages (from aiohttp->litellm==1.69.2->just-agents-core->just-agents-coding->just-agents-examples==0.7.3) (2.6.1)\n",
            "Requirement already satisfied: aiosignal>=1.1.2 in /usr/local/lib/python3.11/dist-packages (from aiohttp->litellm==1.69.2->just-agents-core->just-agents-coding->just-agents-examples==0.7.3) (1.3.2)\n",
            "Requirement already satisfied: frozenlist>=1.1.1 in /usr/local/lib/python3.11/dist-packages (from aiohttp->litellm==1.69.2->just-agents-core->just-agents-coding->just-agents-examples==0.7.3) (1.6.0)\n",
            "Requirement already satisfied: multidict<7.0,>=4.5 in /usr/local/lib/python3.11/dist-packages (from aiohttp->litellm==1.69.2->just-agents-core->just-agents-coding->just-agents-examples==0.7.3) (6.4.3)\n",
            "Requirement already satisfied: propcache>=0.2.0 in /usr/local/lib/python3.11/dist-packages (from aiohttp->litellm==1.69.2->just-agents-core->just-agents-coding->just-agents-examples==0.7.3) (0.3.1)\n",
            "Requirement already satisfied: yarl<2.0,>=1.17.0 in /usr/local/lib/python3.11/dist-packages (from aiohttp->litellm==1.69.2->just-agents-core->just-agents-coding->just-agents-examples==0.7.3) (1.20.0)\n",
            "Requirement already satisfied: huggingface-hub<1.0,>=0.16.4 in /usr/local/lib/python3.11/dist-packages (from tokenizers->litellm==1.69.2->just-agents-core->just-agents-coding->just-agents-examples==0.7.3) (0.31.2)\n",
            "Requirement already satisfied: setuptools in /usr/local/lib/python3.11/dist-packages (from zope.interface->eliot>=1.17.5->pycomfort>=0.0.18->just-agents-web->just-agents-examples==0.7.3) (75.2.0)\n",
            "Requirement already satisfied: filelock in /usr/local/lib/python3.11/dist-packages (from huggingface-hub<1.0,>=0.16.4->tokenizers->litellm==1.69.2->just-agents-core->just-agents-coding->just-agents-examples==0.7.3) (3.18.0)\n",
            "Requirement already satisfied: fsspec>=2023.5.0 in /usr/local/lib/python3.11/dist-packages (from huggingface-hub<1.0,>=0.16.4->tokenizers->litellm==1.69.2->just-agents-core->just-agents-coding->just-agents-examples==0.7.3) (2025.3.2)\n",
            "Requirement already satisfied: packaging>=20.9 in /usr/local/lib/python3.11/dist-packages (from huggingface-hub<1.0,>=0.16.4->tokenizers->litellm==1.69.2->just-agents-core->just-agents-coding->just-agents-examples==0.7.3) (24.2)\n",
            "Requirement already satisfied: pyyaml>=5.1 in /usr/local/lib/python3.11/dist-packages (from huggingface-hub<1.0,>=0.16.4->tokenizers->litellm==1.69.2->just-agents-core->just-agents-coding->just-agents-examples==0.7.3) (6.0.2)\n",
            "Downloading just_agents_examples-0.7.3-py3-none-any.whl (51 kB)\n",
            "\u001b[2K   \u001b[90m━━━━━━━━━━━━━━━━━━━━━━━━━━━━━━━━━━━━━━━━\u001b[0m \u001b[32m52.0/52.0 kB\u001b[0m \u001b[31m4.8 MB/s\u001b[0m eta \u001b[36m0:00:00\u001b[0m\n",
            "\u001b[?25hDownloading docker-7.1.0-py3-none-any.whl (147 kB)\n",
            "\u001b[2K   \u001b[90m━━━━━━━━━━━━━━━━━━━━━━━━━━━━━━━━━━━━━━━━\u001b[0m \u001b[32m147.8/147.8 kB\u001b[0m \u001b[31m13.7 MB/s\u001b[0m eta \u001b[36m0:00:00\u001b[0m\n",
            "\u001b[?25hDownloading just_agents_router-0.7.3-py3-none-any.whl (4.4 kB)\n",
            "Downloading just_agents_tools-0.7.3-py3-none-any.whl (12 kB)\n",
            "Downloading just_agents_web-0.7.3-py3-none-any.whl (26 kB)\n",
            "Downloading aiofiles-24.1.0-py3-none-any.whl (15 kB)\n",
            "Downloading coolname-2.2.0-py2.py3-none-any.whl (37 kB)\n",
            "Downloading fastapi-0.115.12-py3-none-any.whl (95 kB)\n",
            "\u001b[2K   \u001b[90m━━━━━━━━━━━━━━━━━━━━━━━━━━━━━━━━━━━━━━━━\u001b[0m \u001b[32m95.2/95.2 kB\u001b[0m \u001b[31m9.9 MB/s\u001b[0m eta \u001b[36m0:00:00\u001b[0m\n",
            "\u001b[?25hDownloading fastmcp-2.4.0-py3-none-any.whl (101 kB)\n",
            "\u001b[2K   \u001b[90m━━━━━━━━━━━━━━━━━━━━━━━━━━━━━━━━━━━━━━━━\u001b[0m \u001b[32m101.1/101.1 kB\u001b[0m \u001b[31m10.2 MB/s\u001b[0m eta \u001b[36m0:00:00\u001b[0m\n",
            "\u001b[?25hDownloading pycomfort-0.0.18-py3-none-any.whl (14 kB)\n",
            "Downloading semanticscholar-0.10.0-py3-none-any.whl (22 kB)\n",
            "Downloading Deprecated-1.2.18-py2.py3-none-any.whl (10.0 kB)\n",
            "Downloading eliot-1.17.5-py3-none-any.whl (113 kB)\n",
            "\u001b[2K   \u001b[90m━━━━━━━━━━━━━━━━━━━━━━━━━━━━━━━━━━━━━━━━\u001b[0m \u001b[32m113.7/113.7 kB\u001b[0m \u001b[31m11.0 MB/s\u001b[0m eta \u001b[36m0:00:00\u001b[0m\n",
            "\u001b[?25hDownloading eliot_tree-24.0.0-py3-none-any.whl (40 kB)\n",
            "\u001b[2K   \u001b[90m━━━━━━━━━━━━━━━━━━━━━━━━━━━━━━━━━━━━━━━━\u001b[0m \u001b[32m40.2/40.2 kB\u001b[0m \u001b[31m3.3 MB/s\u001b[0m eta \u001b[36m0:00:00\u001b[0m\n",
            "\u001b[?25hDownloading exceptiongroup-1.3.0-py3-none-any.whl (16 kB)\n",
            "Downloading openapi_pydantic-0.5.1-py3-none-any.whl (96 kB)\n",
            "\u001b[2K   \u001b[90m━━━━━━━━━━━━━━━━━━━━━━━━━━━━━━━━━━━━━━━━\u001b[0m \u001b[32m96.4/96.4 kB\u001b[0m \u001b[31m6.0 MB/s\u001b[0m eta \u001b[36m0:00:00\u001b[0m\n",
            "\u001b[?25hDownloading pyfunctional-1.5.0-py3-none-any.whl (53 kB)\n",
            "\u001b[2K   \u001b[90m━━━━━━━━━━━━━━━━━━━━━━━━━━━━━━━━━━━━━━━━\u001b[0m \u001b[32m53.1/53.1 kB\u001b[0m \u001b[31m4.7 MB/s\u001b[0m eta \u001b[36m0:00:00\u001b[0m\n",
            "\u001b[?25hDownloading boltons-25.0.0-py3-none-any.whl (194 kB)\n",
            "\u001b[2K   \u001b[90m━━━━━━━━━━━━━━━━━━━━━━━━━━━━━━━━━━━━━━━━\u001b[0m \u001b[32m194.2/194.2 kB\u001b[0m \u001b[31m16.6 MB/s\u001b[0m eta \u001b[36m0:00:00\u001b[0m\n",
            "\u001b[?25hDownloading colored-2.3.0-py3-none-any.whl (18 kB)\n",
            "Downloading iso8601-2.1.0-py3-none-any.whl (7.5 kB)\n",
            "Downloading jmespath-1.0.1-py3-none-any.whl (20 kB)\n",
            "Downloading pyrsistent-0.20.0-cp311-cp311-manylinux_2_17_x86_64.manylinux2014_x86_64.whl (120 kB)\n",
            "\u001b[2K   \u001b[90m━━━━━━━━━━━━━━━━━━━━━━━━━━━━━━━━━━━━━━━━\u001b[0m \u001b[32m120.0/120.0 kB\u001b[0m \u001b[31m11.7 MB/s\u001b[0m eta \u001b[36m0:00:00\u001b[0m\n",
            "\u001b[?25hDownloading zope.interface-7.2-cp311-cp311-manylinux_2_5_x86_64.manylinux1_x86_64.manylinux_2_17_x86_64.manylinux2014_x86_64.whl (259 kB)\n",
            "\u001b[2K   \u001b[90m━━━━━━━━━━━━━━━━━━━━━━━━━━━━━━━━━━━━━━━━\u001b[0m \u001b[32m259.8/259.8 kB\u001b[0m \u001b[31m18.4 MB/s\u001b[0m eta \u001b[36m0:00:00\u001b[0m\n",
            "\u001b[?25hInstalling collected packages: coolname, zope.interface, pyrsistent, pyfunctional, jmespath, iso8601, exceptiongroup, Deprecated, colored, boltons, aiofiles, eliot, docker, semanticscholar, openapi-pydantic, fastapi, eliot-tree, pycomfort, just-agents-tools, fastmcp, just-agents-web, just-agents-router, just-agents-examples\n",
            "Successfully installed Deprecated-1.2.18 aiofiles-24.1.0 boltons-25.0.0 colored-2.3.0 coolname-2.2.0 docker-7.1.0 eliot-1.17.5 eliot-tree-24.0.0 exceptiongroup-1.3.0 fastapi-0.115.12 fastmcp-2.4.0 iso8601-2.1.0 jmespath-1.0.1 just-agents-examples-0.7.3 just-agents-router-0.7.3 just-agents-tools-0.7.3 just-agents-web-0.7.3 openapi-pydantic-0.5.1 pycomfort-0.0.18 pyfunctional-1.5.0 pyrsistent-0.20.0 semanticscholar-0.10.0 zope.interface-7.2\n"
          ]
        }
      ],
      "source": [
        "!pip install just-agents-coding==0.7.4\n",
        "!pip install just-agents-examples==0.7.4"
      ]
    },
    {
      "cell_type": "code",
      "execution_count": 2,
      "metadata": {
        "colab": {
          "base_uri": "https://localhost:8080/"
        },
        "collapsed": true,
        "id": "AAeKVTq0Zgo-",
        "outputId": "9b9b615b-fcc5-43cd-88a4-e361adc062e6"
      },
      "outputs": [
        {
          "name": "stdout",
          "output_type": "stream",
          "text": [
            "Please enter your API keys:\n",
            "GROQ_API_KEY: ··········\n",
            "GROQ_API key set successfully.\n"
          ]
        }
      ],
      "source": [
        "import os\n",
        "import getpass\n",
        "from dotenv import load_dotenv\n",
        "\n",
        "def get_api_keys():\n",
        "  \"\"\"Gets API keys from the user.\"\"\"\n",
        "  load_dotenv(override=True)\n",
        "\n",
        "  # Check if GROQ_API_KEY is already set in environment\n",
        "  groq_api_key = os.environ.get(\"GROQ_API_KEY\")\n",
        "  openai_api_key = os.environ.get(\"OPENAI_API_KEY\")\n",
        "\n",
        "  # Only prompt for key if not already set\n",
        "  if not groq_api_key:\n",
        "    print(\"Please enter your API keys:\")\n",
        "    groq_api_key = getpass.getpass(\"GROQ_API_KEY: \")\n",
        "    # Set environment variable\n",
        "    os.environ[\"GROQ_API_KEY\"] = groq_api_key\n",
        "    print(\"GROQ_API key set successfully.\")\n",
        "  else:\n",
        "    print(\"GROQ API key already set in environment.\")\n",
        "\n",
        "\n",
        "# Call the function to get API keys from the user\n",
        "get_api_keys()"
      ]
    },
    {
      "cell_type": "markdown",
      "metadata": {
        "id": "z_UqGQ-jaGgq"
      },
      "source": [
        "### Run functions to run code\n",
        "\n",
        "Writing custom functions to run code and install dependencies"
      ]
    },
    {
      "cell_type": "code",
      "execution_count": 3,
      "metadata": {
        "id": "Hime-BufbBUu"
      },
      "outputs": [],
      "source": [
        "# Define the function\n",
        "import io\n",
        "import contextlib\n",
        "\n",
        "def run_python_code(code: str):\n",
        "    \"\"\"\n",
        "    code: str # python code to run\n",
        "    \"\"\"\n",
        "    output = io.StringIO()\n",
        "    error = io.StringIO()\n",
        "\n",
        "    try:\n",
        "        with contextlib.redirect_stdout(output), contextlib.redirect_stderr(error):\n",
        "            exec(code)\n",
        "        result = output.getvalue()\n",
        "        if result:\n",
        "            return result.strip()\n",
        "        else:\n",
        "            return \"No output.\"\n",
        "    except Exception as e:\n",
        "        return f\"Error: {str(e)}\""
      ]
    },
    {
      "cell_type": "markdown",
      "metadata": {
        "id": "9tIM7nM0bDST"
      },
      "source": [
        "Let's test that code generation works"
      ]
    },
    {
      "cell_type": "code",
      "execution_count": 4,
      "metadata": {
        "colab": {
          "base_uri": "https://localhost:8080/",
          "height": 35
        },
        "collapsed": true,
        "id": "85UAQb8qbHJI",
        "outputId": "740c45b7-8a0e-4d9d-8cb8-56c4a8008471"
      },
      "outputs": [
        {
          "data": {
            "application/vnd.google.colaboratory.intrinsic+json": {
              "type": "string"
            },
            "text/plain": [
              "'Hello World'"
            ]
          },
          "execution_count": 4,
          "metadata": {},
          "output_type": "execute_result"
        }
      ],
      "source": [
        "run_python_code(\"print('Hello World')\")"
      ]
    },
    {
      "cell_type": "code",
      "execution_count": 5,
      "metadata": {
        "colab": {
          "base_uri": "https://localhost:8080/",
          "height": 289
        },
        "collapsed": true,
        "id": "O8kajbQ4aljb",
        "outputId": "d71f6d3d-ac42-47b1-c1b7-b652596c58df"
      },
      "outputs": [
        {
          "data": {
            "text/html": [
              "<pre style=\"white-space:pre;overflow-x:auto;line-height:normal;font-family:Menlo,'DejaVu Sans Mono',consolas,'Courier New',monospace\"><span style=\"color: #ffff00; text-decoration-color: #ffff00\">╭───────────────────────────────────────────────────</span><span style=\"color: #808000; text-decoration-color: #808000; font-weight: bold\"> [System] </span><span style=\"color: #ffff00; text-decoration-color: #ffff00\">────────────────────────────────────────────────────╮</span>\n",
              "<span style=\"color: #ffff00; text-decoration-color: #ffff00\">│</span> You are a helpful AI assistant                                                                                  <span style=\"color: #ffff00; text-decoration-color: #ffff00\">│</span>\n",
              "<span style=\"color: #ffff00; text-decoration-color: #ffff00\">╰─────────────────────────────────────────────────────────────────────────────────────────────────────────────────╯</span>\n",
              "</pre>\n"
            ],
            "text/plain": [
              "\u001b[93m╭─\u001b[0m\u001b[93m──────────────────────────────────────────────────\u001b[0m\u001b[1;33m [System] \u001b[0m\u001b[93m───────────────────────────────────────────────────\u001b[0m\u001b[93m─╮\u001b[0m\n",
              "\u001b[93m│\u001b[0m You are a helpful AI assistant                                                                                  \u001b[93m│\u001b[0m\n",
              "\u001b[93m╰─────────────────────────────────────────────────────────────────────────────────────────────────────────────────╯\u001b[0m\n"
            ]
          },
          "metadata": {},
          "output_type": "display_data"
        },
        {
          "data": {
            "text/html": [
              "<pre style=\"white-space:pre;overflow-x:auto;line-height:normal;font-family:Menlo,'DejaVu Sans Mono',consolas,'Courier New',monospace\"><span style=\"color: #00ff00; text-decoration-color: #00ff00\">╭────────────────────────────────────────────────────</span><span style=\"color: #008000; text-decoration-color: #008000; font-weight: bold\"> [User] </span><span style=\"color: #00ff00; text-decoration-color: #00ff00\">─────────────────────────────────────────────────────╮</span>\n",
              "<span style=\"color: #00ff00; text-decoration-color: #00ff00\">│</span> Compute 2 * 10 + (342 +3) / 23.0                                                                                <span style=\"color: #00ff00; text-decoration-color: #00ff00\">│</span>\n",
              "<span style=\"color: #00ff00; text-decoration-color: #00ff00\">╰─────────────────────────────────────────────────────────────────────────────────────────────────────────────────╯</span>\n",
              "</pre>\n"
            ],
            "text/plain": [
              "\u001b[92m╭─\u001b[0m\u001b[92m───────────────────────────────────────────────────\u001b[0m\u001b[1;32m [User] \u001b[0m\u001b[92m────────────────────────────────────────────────────\u001b[0m\u001b[92m─╮\u001b[0m\n",
              "\u001b[92m│\u001b[0m Compute 2 * 10 + (342 +3) / 23.0                                                                                \u001b[92m│\u001b[0m\n",
              "\u001b[92m╰─────────────────────────────────────────────────────────────────────────────────────────────────────────────────╯\u001b[0m\n"
            ]
          },
          "metadata": {},
          "output_type": "display_data"
        },
        {
          "data": {
            "text/html": [
              "<pre style=\"white-space:pre;overflow-x:auto;line-height:normal;font-family:Menlo,'DejaVu Sans Mono',consolas,'Courier New',monospace\"><span style=\"color: #000080; text-decoration-color: #000080\">╭──────────────────────────────────────────────────</span><span style=\"color: #000080; text-decoration-color: #000080; font-weight: bold\"> [Assistant] </span><span style=\"color: #000080; text-decoration-color: #000080\">──────────────────────────────────────────────────╮</span>\n",
              "<span style=\"color: #000080; text-decoration-color: #000080\">│</span> Tool Call to <span style=\"color: #800080; text-decoration-color: #800080; font-weight: bold\">run_python_code</span>:                                                                                   <span style=\"color: #000080; text-decoration-color: #000080\">│</span>\n",
              "<span style=\"color: #000080; text-decoration-color: #000080\">│</span> {\"code\":\"print(2 * 10 + (342 + 3) / 23.0)\"}                                                                     <span style=\"color: #000080; text-decoration-color: #000080\">│</span>\n",
              "<span style=\"color: #000080; text-decoration-color: #000080\">╰─────────────────────────────────────────────────────────────────────────────────────────────────────────────────╯</span>\n",
              "</pre>\n"
            ],
            "text/plain": [
              "\u001b[34m╭─\u001b[0m\u001b[34m─────────────────────────────────────────────────\u001b[0m\u001b[1;34m [Assistant] \u001b[0m\u001b[34m─────────────────────────────────────────────────\u001b[0m\u001b[34m─╮\u001b[0m\n",
              "\u001b[34m│\u001b[0m Tool Call to \u001b[1;35mrun_python_code\u001b[0m:                                                                                   \u001b[34m│\u001b[0m\n",
              "\u001b[34m│\u001b[0m {\"code\":\"print(2 * 10 + (342 + 3) / 23.0)\"}                                                                     \u001b[34m│\u001b[0m\n",
              "\u001b[34m╰─────────────────────────────────────────────────────────────────────────────────────────────────────────────────╯\u001b[0m\n"
            ]
          },
          "metadata": {},
          "output_type": "display_data"
        },
        {
          "data": {
            "text/html": [
              "<pre style=\"white-space:pre;overflow-x:auto;line-height:normal;font-family:Menlo,'DejaVu Sans Mono',consolas,'Courier New',monospace\"><span style=\"color: #ff00ff; text-decoration-color: #ff00ff\">╭────────────────────────────────────────────────────</span><span style=\"color: #800080; text-decoration-color: #800080; font-weight: bold\"> [Tool] </span><span style=\"color: #ff00ff; text-decoration-color: #ff00ff\">─────────────────────────────────────────────────────╮</span>\n",
              "<span style=\"color: #ff00ff; text-decoration-color: #ff00ff\">│</span> Response from <span style=\"color: #800080; text-decoration-color: #800080; font-weight: bold\">run_python_code</span>:                                                                                  <span style=\"color: #ff00ff; text-decoration-color: #ff00ff\">│</span>\n",
              "<span style=\"color: #ff00ff; text-decoration-color: #ff00ff\">│</span> 35.0                                                                                                            <span style=\"color: #ff00ff; text-decoration-color: #ff00ff\">│</span>\n",
              "<span style=\"color: #ff00ff; text-decoration-color: #ff00ff\">╰─────────────────────────────────────────────────────────────────────────────────────────────────────────────────╯</span>\n",
              "</pre>\n"
            ],
            "text/plain": [
              "\u001b[95m╭─\u001b[0m\u001b[95m───────────────────────────────────────────────────\u001b[0m\u001b[1;35m [Tool] \u001b[0m\u001b[95m────────────────────────────────────────────────────\u001b[0m\u001b[95m─╮\u001b[0m\n",
              "\u001b[95m│\u001b[0m Response from \u001b[1;35mrun_python_code\u001b[0m:                                                                                  \u001b[95m│\u001b[0m\n",
              "\u001b[95m│\u001b[0m 35.0                                                                                                            \u001b[95m│\u001b[0m\n",
              "\u001b[95m╰─────────────────────────────────────────────────────────────────────────────────────────────────────────────────╯\u001b[0m\n"
            ]
          },
          "metadata": {},
          "output_type": "display_data"
        },
        {
          "data": {
            "text/html": [
              "<pre style=\"white-space:pre;overflow-x:auto;line-height:normal;font-family:Menlo,'DejaVu Sans Mono',consolas,'Courier New',monospace\"><span style=\"color: #0000ff; text-decoration-color: #0000ff\">╭──────────────────────────────────────────────────</span><span style=\"color: #000080; text-decoration-color: #000080; font-weight: bold\"> [Assistant] </span><span style=\"color: #0000ff; text-decoration-color: #0000ff\">──────────────────────────────────────────────────╮</span>\n",
              "<span style=\"color: #0000ff; text-decoration-color: #0000ff\">│</span> The result of the computation is 35.0.                                                                          <span style=\"color: #0000ff; text-decoration-color: #0000ff\">│</span>\n",
              "<span style=\"color: #0000ff; text-decoration-color: #0000ff\">╰─────────────────────────────────────────────────────────────────────────────────────────────────────────────────╯</span>\n",
              "</pre>\n"
            ],
            "text/plain": [
              "\u001b[94m╭─\u001b[0m\u001b[94m─────────────────────────────────────────────────\u001b[0m\u001b[1;34m [Assistant] \u001b[0m\u001b[94m─────────────────────────────────────────────────\u001b[0m\u001b[94m─╮\u001b[0m\n",
              "\u001b[94m│\u001b[0m The result of the computation is 35.0.                                                                          \u001b[94m│\u001b[0m\n",
              "\u001b[94m╰─────────────────────────────────────────────────────────────────────────────────────────────────────────────────╯\u001b[0m\n"
            ]
          },
          "metadata": {},
          "output_type": "display_data"
        }
      ],
      "source": [
        "from just_agents import llm_options\n",
        "from just_agents.base_agent import BaseAgent\n",
        "\n",
        "prompt = \"Compute 2 * 10 + (342 +3) / 23.0\"\n",
        "\n",
        "agent: BaseAgent = BaseAgent(\n",
        "    llm_options=llm_options.LLAMA3_3,\n",
        "    tools=[run_python_code]\n",
        ")\n",
        "response = agent.query(prompt)\n",
        "f\"\"\"MODEL RESPONSE = \"{response}\" \"\"\"\n",
        "agent.memory.pretty_print_all_messages()"
      ]
    },
    {
      "cell_type": "markdown",
      "metadata": {
        "id": "hhLqOlBAg4ew"
      },
      "source": [
        "# Dependency hell management"
      ]
    },
    {
      "cell_type": "markdown",
      "metadata": {
        "id": "NOZFuSv4ciSH"
      },
      "source": [
        "But what if it does not have dependencies installed?"
      ]
    },
    {
      "cell_type": "code",
      "execution_count": 6,
      "metadata": {
        "colab": {
          "base_uri": "https://localhost:8080/",
          "height": 52
        },
        "collapsed": true,
        "id": "SatGdw47gy-_",
        "outputId": "6472ec83-87a9-4403-a747-94b7fecf8ccf"
      },
      "outputs": [
        {
          "data": {
            "application/vnd.google.colaboratory.intrinsic+json": {
              "type": "string"
            },
            "text/plain": [
              "'The translation of the DNA sequence \"ATGCATAGGTAG\" is not provided as the Biopython library is not available in this environment. However, the sequence can be translated manually or using an online tool. The sequence translates to the amino acid sequence \"MAV\".'"
            ]
          },
          "execution_count": 6,
          "metadata": {},
          "output_type": "execute_result"
        }
      ],
      "source": [
        "agent.query(\"translate ATGCATAGGTAG with biopython\")"
      ]
    },
    {
      "cell_type": "code",
      "execution_count": 7,
      "metadata": {
        "colab": {
          "base_uri": "https://localhost:8080/"
        },
        "collapsed": true,
        "id": "X95ZKLSOcwlx",
        "outputId": "45da57bc-8ff2-487b-c14c-c6b27d3c7ffb"
      },
      "outputs": [
        {
          "name": "stdout",
          "output_type": "stream",
          "text": [
            "total 16\n",
            "drwxr-xr-x 1 root root 4096 May 14 13:38 .\n",
            "drwxr-xr-x 1 root root 4096 May 22 15:40 ..\n",
            "drwxr-xr-x 4 root root 4096 May 14 13:38 .config\n",
            "drwxr-xr-x 1 root root 4096 May 14 13:38 sample_data\n"
          ]
        }
      ],
      "source": [
        "import subprocess\n",
        "\n",
        "def execute_bash(command: str):\n",
        "    \"\"\"\n",
        "    Executes a Bash command and returns the output or error message.\n",
        "\n",
        "    Parameters:\n",
        "    command (st): Bash command as a string.\n",
        "\n",
        "    Returns:\n",
        "    str: The output or error message from executing the command.\n",
        "    \"\"\"\n",
        "    try:\n",
        "        result = subprocess.run(command, shell=True, text=True, capture_output=True)\n",
        "        if result.returncode == 0:\n",
        "            return result.stdout.strip() if result.stdout else \"No output.\"\n",
        "        else:\n",
        "            return f\"Error: {result.stderr.strip()}\"\n",
        "    except Exception as e:\n",
        "        return f\"Exception: {str(e)}\"\n",
        "\n",
        "# Example usage:\n",
        "bash_command = \"ls -la\"\n",
        "output = execute_bash(bash_command)\n",
        "print(output)\n"
      ]
    },
    {
      "cell_type": "code",
      "execution_count": 8,
      "metadata": {
        "colab": {
          "base_uri": "https://localhost:8080/",
          "height": 677
        },
        "collapsed": true,
        "id": "3aKHivPXf3Ad",
        "outputId": "bd8ce82f-e739-4d82-d544-5716eb6220a3"
      },
      "outputs": [
        {
          "name": "stdout",
          "output_type": "stream",
          "text": [
            "{'content': 'Install biopython with pip', 'role': user}\n",
            "{'content': 'You are a helpful AI assistant', 'role': system}\n",
            "{'role': 'assistant',\n",
            " 'tool_calls': [{'function': {'arguments': '{\"command\":\"pip install '\n",
            "                                           'biopython\"}',\n",
            "                              'name': 'execute_bash'},\n",
            "                 'id': 'call_bhzp',\n",
            "                 'type': 'function'}]}\n",
            "{'content': 'Collecting biopython\\n'\n",
            "            '  Downloading '\n",
            "            'biopython-1.85-cp311-cp311-manylinux_2_17_x86_64.manylinux2014_x86_64.whl.metadata '\n",
            "            '(13 kB)\\n'\n",
            "            'Requirement already satisfied: numpy in '\n",
            "            '/usr/local/lib/python3.11/dist-packages (from biopython) (2.0.2)\\n'\n",
            "            'Downloading '\n",
            "            'biopython-1.85-cp311-cp311-manylinux_2_17_x86_64.manylinux2014_x86_64.whl '\n",
            "            '(3.3 MB)\\n'\n",
            "            '   ━━━━━━━━━━━━━━━━━━━━━━━━━━━━━━━━━━━━━━━━ 3.3/3.3 MB 77.1 MB/s '\n",
            "            'eta 0:00:00\\n'\n",
            "            'Installing collected packages: biopython\\n'\n",
            "            'Successfully installed biopython-1.85',\n",
            " 'name': 'execute_bash',\n",
            " 'role': 'tool',\n",
            " 'tool_call_id': 'call_bhzp'}\n",
            "{'role': 'assistant',\n",
            " 'tool_calls': [{'function': {'arguments': '{\"code\":\"import Bio; '\n",
            "                                           'print(Bio.__version__)\"}',\n",
            "                              'name': 'run_python_code'},\n",
            "                 'id': 'call_msp7',\n",
            "                 'type': 'function'}]}\n",
            "{'content': '1.85',\n",
            " 'name': 'run_python_code',\n",
            " 'role': 'tool',\n",
            " 'tool_call_id': 'call_msp7'}\n",
            "{'content': 'The installation of biopython was successful. The version of '\n",
            "            'biopython installed is 1.85.',\n",
            " 'role': 'assistant'}\n"
          ]
        },
        {
          "data": {
            "application/vnd.google.colaboratory.intrinsic+json": {
              "type": "string"
            },
            "text/plain": [
              "'The installation of biopython was successful. The version of biopython installed is 1.85.'"
            ]
          },
          "execution_count": 8,
          "metadata": {},
          "output_type": "execute_result"
        }
      ],
      "source": [
        "from just_agents import llm_options\n",
        "from just_agents.base_agent import BaseAgent\n",
        "import pprint\n",
        "\n",
        "\n",
        "agent: BaseAgent = BaseAgent(\n",
        "    llm_options=llm_options.LLAMA4_SCOUT,\n",
        "    tools=[run_python_code, execute_bash]\n",
        ")\n",
        "agent.memory.add_on_message(lambda m: pprint.pprint(m))\n",
        "\n",
        "result = agent.query(\"Install biopython with pip\")\n",
        "result"
      ]
    },
    {
      "cell_type": "code",
      "execution_count": null,
      "metadata": {
        "colab": {
          "base_uri": "https://localhost:8080/",
          "height": 1000
        },
        "id": "IGpWtGoXgU2W",
        "outputId": "fd254d23-ac2b-47b7-b8af-a1dcb3acfd51"
      },
      "outputs": [
        {
          "name": "stdout",
          "output_type": "stream",
          "text": [
            "{'content': 'translate ATGCATAGGTAG with biopython', 'role': user}\n",
            "{'content': 'You are a helpful AI assistant', 'role': system}\n",
            "{'role': 'assistant',\n",
            " 'tool_calls': [{'function': {'arguments': '{\"code\": \"from Bio.Seq import Seq; '\n",
            "                                           \"seq = Seq('ATGCATAGGTAG'); \"\n",
            "                                           'print(seq.translate())\"}',\n",
            "                              'name': 'run_python_code'},\n",
            "                 'id': 'call_ab0w',\n",
            "                 'type': 'function'}]}\n",
            "{'content': 'MHR*',\n",
            " 'name': 'run_python_code',\n",
            " 'role': 'tool',\n",
            " 'tool_call_id': 'call_ab0w'}\n",
            "{'content': \"The translation of the DNA sequence 'ATGCATAGGTAG' is 'MHR*'. \\n\"\n",
            "            '\\n'\n",
            "            \"Here's a breakdown of the translation:\\n\"\n",
            "            '\\n'\n",
            "            '- ATG: M (Methionine)\\n'\n",
            "            '- CAT: H (Histidine)\\n'\n",
            "            '- AGG: R (Arginine)\\n'\n",
            "            '- TAG: * (Stop codon)\\n'\n",
            "            '\\n'\n",
            "            \"So, the protein sequence is 'MHR' followed by a stop codon '*'.\",\n",
            " 'role': 'assistant'}\n"
          ]
        },
        {
          "data": {
            "text/html": [
              "<pre style=\"white-space:pre;overflow-x:auto;line-height:normal;font-family:Menlo,'DejaVu Sans Mono',consolas,'Courier New',monospace\"><span style=\"color: #ffff00; text-decoration-color: #ffff00\">╭───────────────────────────────────────────────────</span><span style=\"color: #808000; text-decoration-color: #808000; font-weight: bold\"> [System] </span><span style=\"color: #ffff00; text-decoration-color: #ffff00\">────────────────────────────────────────────────────╮</span>\n",
              "<span style=\"color: #ffff00; text-decoration-color: #ffff00\">│</span> You are a helpful AI assistant                                                                                  <span style=\"color: #ffff00; text-decoration-color: #ffff00\">│</span>\n",
              "<span style=\"color: #ffff00; text-decoration-color: #ffff00\">╰─────────────────────────────────────────────────────────────────────────────────────────────────────────────────╯</span>\n",
              "</pre>\n"
            ],
            "text/plain": [
              "\u001b[93m╭─\u001b[0m\u001b[93m──────────────────────────────────────────────────\u001b[0m\u001b[1;33m [System] \u001b[0m\u001b[93m───────────────────────────────────────────────────\u001b[0m\u001b[93m─╮\u001b[0m\n",
              "\u001b[93m│\u001b[0m You are a helpful AI assistant                                                                                  \u001b[93m│\u001b[0m\n",
              "\u001b[93m╰─────────────────────────────────────────────────────────────────────────────────────────────────────────────────╯\u001b[0m\n"
            ]
          },
          "metadata": {},
          "output_type": "display_data"
        },
        {
          "data": {
            "text/html": [
              "<pre style=\"white-space:pre;overflow-x:auto;line-height:normal;font-family:Menlo,'DejaVu Sans Mono',consolas,'Courier New',monospace\"><span style=\"color: #00ff00; text-decoration-color: #00ff00\">╭────────────────────────────────────────────────────</span><span style=\"color: #008000; text-decoration-color: #008000; font-weight: bold\"> [User] </span><span style=\"color: #00ff00; text-decoration-color: #00ff00\">─────────────────────────────────────────────────────╮</span>\n",
              "<span style=\"color: #00ff00; text-decoration-color: #00ff00\">│</span> Install biopython with pip                                                                                      <span style=\"color: #00ff00; text-decoration-color: #00ff00\">│</span>\n",
              "<span style=\"color: #00ff00; text-decoration-color: #00ff00\">╰─────────────────────────────────────────────────────────────────────────────────────────────────────────────────╯</span>\n",
              "</pre>\n"
            ],
            "text/plain": [
              "\u001b[92m╭─\u001b[0m\u001b[92m───────────────────────────────────────────────────\u001b[0m\u001b[1;32m [User] \u001b[0m\u001b[92m────────────────────────────────────────────────────\u001b[0m\u001b[92m─╮\u001b[0m\n",
              "\u001b[92m│\u001b[0m Install biopython with pip                                                                                      \u001b[92m│\u001b[0m\n",
              "\u001b[92m╰─────────────────────────────────────────────────────────────────────────────────────────────────────────────────╯\u001b[0m\n"
            ]
          },
          "metadata": {},
          "output_type": "display_data"
        },
        {
          "data": {
            "text/html": [
              "<pre style=\"white-space:pre;overflow-x:auto;line-height:normal;font-family:Menlo,'DejaVu Sans Mono',consolas,'Courier New',monospace\"><span style=\"color: #000080; text-decoration-color: #000080\">╭──────────────────────────────────────────────────</span><span style=\"color: #000080; text-decoration-color: #000080; font-weight: bold\"> [Assistant] </span><span style=\"color: #000080; text-decoration-color: #000080\">──────────────────────────────────────────────────╮</span>\n",
              "<span style=\"color: #000080; text-decoration-color: #000080\">│</span> Tool Call to <span style=\"color: #800080; text-decoration-color: #800080; font-weight: bold\">execute_bash</span>:                                                                                      <span style=\"color: #000080; text-decoration-color: #000080\">│</span>\n",
              "<span style=\"color: #000080; text-decoration-color: #000080\">│</span> {\"command\": \"pip install biopython\"}                                                                            <span style=\"color: #000080; text-decoration-color: #000080\">│</span>\n",
              "<span style=\"color: #000080; text-decoration-color: #000080\">╰─────────────────────────────────────────────────────────────────────────────────────────────────────────────────╯</span>\n",
              "</pre>\n"
            ],
            "text/plain": [
              "\u001b[34m╭─\u001b[0m\u001b[34m─────────────────────────────────────────────────\u001b[0m\u001b[1;34m [Assistant] \u001b[0m\u001b[34m─────────────────────────────────────────────────\u001b[0m\u001b[34m─╮\u001b[0m\n",
              "\u001b[34m│\u001b[0m Tool Call to \u001b[1;35mexecute_bash\u001b[0m:                                                                                      \u001b[34m│\u001b[0m\n",
              "\u001b[34m│\u001b[0m {\"command\": \"pip install biopython\"}                                                                            \u001b[34m│\u001b[0m\n",
              "\u001b[34m╰─────────────────────────────────────────────────────────────────────────────────────────────────────────────────╯\u001b[0m\n"
            ]
          },
          "metadata": {},
          "output_type": "display_data"
        },
        {
          "data": {
            "text/html": [
              "<pre style=\"white-space:pre;overflow-x:auto;line-height:normal;font-family:Menlo,'DejaVu Sans Mono',consolas,'Courier New',monospace\"><span style=\"color: #ff00ff; text-decoration-color: #ff00ff\">╭────────────────────────────────────────────────────</span><span style=\"color: #800080; text-decoration-color: #800080; font-weight: bold\"> [Tool] </span><span style=\"color: #ff00ff; text-decoration-color: #ff00ff\">─────────────────────────────────────────────────────╮</span>\n",
              "<span style=\"color: #ff00ff; text-decoration-color: #ff00ff\">│</span> Response from <span style=\"color: #800080; text-decoration-color: #800080; font-weight: bold\">execute_bash</span>:                                                                                     <span style=\"color: #ff00ff; text-decoration-color: #ff00ff\">│</span>\n",
              "<span style=\"color: #ff00ff; text-decoration-color: #ff00ff\">│</span> Collecting biopython                                                                                            <span style=\"color: #ff00ff; text-decoration-color: #ff00ff\">│</span>\n",
              "<span style=\"color: #ff00ff; text-decoration-color: #ff00ff\">│</span>   Downloading biopython-1.85-cp311-cp311-manylinux_2_17_x86_64.manylinux2014_x86_64.whl.metadata (13 kB)        <span style=\"color: #ff00ff; text-decoration-color: #ff00ff\">│</span>\n",
              "<span style=\"color: #ff00ff; text-decoration-color: #ff00ff\">│</span> Requirement already satisfied: numpy in /usr/local/lib/python3.11/dist-packages (from biopython) (2.0.2)        <span style=\"color: #ff00ff; text-decoration-color: #ff00ff\">│</span>\n",
              "<span style=\"color: #ff00ff; text-decoration-color: #ff00ff\">│</span> Downloading biopython-1.85-cp311-cp311-manylinux_2_17_x86_64.manylinux2014_x86_64.whl (3.3 MB)                  <span style=\"color: #ff00ff; text-decoration-color: #ff00ff\">│</span>\n",
              "<span style=\"color: #ff00ff; text-decoration-color: #ff00ff\">│</span>    ━━━━━━━━━━━━━━━━━━━━━━━━━━━━━━━━━━━━━━━━ 3.3/3.3 MB 29.3 MB/s eta 0:00:00                                    <span style=\"color: #ff00ff; text-decoration-color: #ff00ff\">│</span>\n",
              "<span style=\"color: #ff00ff; text-decoration-color: #ff00ff\">│</span> Installing collected packages: biopython                                                                        <span style=\"color: #ff00ff; text-decoration-color: #ff00ff\">│</span>\n",
              "<span style=\"color: #ff00ff; text-decoration-color: #ff00ff\">│</span> Successfully installed biopython-1.85                                                                           <span style=\"color: #ff00ff; text-decoration-color: #ff00ff\">│</span>\n",
              "<span style=\"color: #ff00ff; text-decoration-color: #ff00ff\">╰─────────────────────────────────────────────────────────────────────────────────────────────────────────────────╯</span>\n",
              "</pre>\n"
            ],
            "text/plain": [
              "\u001b[95m╭─\u001b[0m\u001b[95m───────────────────────────────────────────────────\u001b[0m\u001b[1;35m [Tool] \u001b[0m\u001b[95m────────────────────────────────────────────────────\u001b[0m\u001b[95m─╮\u001b[0m\n",
              "\u001b[95m│\u001b[0m Response from \u001b[1;35mexecute_bash\u001b[0m:                                                                                     \u001b[95m│\u001b[0m\n",
              "\u001b[95m│\u001b[0m Collecting biopython                                                                                            \u001b[95m│\u001b[0m\n",
              "\u001b[95m│\u001b[0m   Downloading biopython-1.85-cp311-cp311-manylinux_2_17_x86_64.manylinux2014_x86_64.whl.metadata (13 kB)        \u001b[95m│\u001b[0m\n",
              "\u001b[95m│\u001b[0m Requirement already satisfied: numpy in /usr/local/lib/python3.11/dist-packages (from biopython) (2.0.2)        \u001b[95m│\u001b[0m\n",
              "\u001b[95m│\u001b[0m Downloading biopython-1.85-cp311-cp311-manylinux_2_17_x86_64.manylinux2014_x86_64.whl (3.3 MB)                  \u001b[95m│\u001b[0m\n",
              "\u001b[95m│\u001b[0m    ━━━━━━━━━━━━━━━━━━━━━━━━━━━━━━━━━━━━━━━━ 3.3/3.3 MB 29.3 MB/s eta 0:00:00                                    \u001b[95m│\u001b[0m\n",
              "\u001b[95m│\u001b[0m Installing collected packages: biopython                                                                        \u001b[95m│\u001b[0m\n",
              "\u001b[95m│\u001b[0m Successfully installed biopython-1.85                                                                           \u001b[95m│\u001b[0m\n",
              "\u001b[95m╰─────────────────────────────────────────────────────────────────────────────────────────────────────────────────╯\u001b[0m\n"
            ]
          },
          "metadata": {},
          "output_type": "display_data"
        },
        {
          "data": {
            "text/html": [
              "<pre style=\"white-space:pre;overflow-x:auto;line-height:normal;font-family:Menlo,'DejaVu Sans Mono',consolas,'Courier New',monospace\"><span style=\"color: #000080; text-decoration-color: #000080\">╭──────────────────────────────────────────────────</span><span style=\"color: #000080; text-decoration-color: #000080; font-weight: bold\"> [Assistant] </span><span style=\"color: #000080; text-decoration-color: #000080\">──────────────────────────────────────────────────╮</span>\n",
              "<span style=\"color: #000080; text-decoration-color: #000080\">│</span> Tool Call to <span style=\"color: #800080; text-decoration-color: #800080; font-weight: bold\">run_python_code</span>:                                                                                   <span style=\"color: #000080; text-decoration-color: #000080\">│</span>\n",
              "<span style=\"color: #000080; text-decoration-color: #000080\">│</span> {\"code\": \"import Bio; print(Bio.__version__)\"}                                                                  <span style=\"color: #000080; text-decoration-color: #000080\">│</span>\n",
              "<span style=\"color: #000080; text-decoration-color: #000080\">╰─────────────────────────────────────────────────────────────────────────────────────────────────────────────────╯</span>\n",
              "</pre>\n"
            ],
            "text/plain": [
              "\u001b[34m╭─\u001b[0m\u001b[34m─────────────────────────────────────────────────\u001b[0m\u001b[1;34m [Assistant] \u001b[0m\u001b[34m─────────────────────────────────────────────────\u001b[0m\u001b[34m─╮\u001b[0m\n",
              "\u001b[34m│\u001b[0m Tool Call to \u001b[1;35mrun_python_code\u001b[0m:                                                                                   \u001b[34m│\u001b[0m\n",
              "\u001b[34m│\u001b[0m {\"code\": \"import Bio; print(Bio.__version__)\"}                                                                  \u001b[34m│\u001b[0m\n",
              "\u001b[34m╰─────────────────────────────────────────────────────────────────────────────────────────────────────────────────╯\u001b[0m\n"
            ]
          },
          "metadata": {},
          "output_type": "display_data"
        },
        {
          "data": {
            "text/html": [
              "<pre style=\"white-space:pre;overflow-x:auto;line-height:normal;font-family:Menlo,'DejaVu Sans Mono',consolas,'Courier New',monospace\"><span style=\"color: #ff00ff; text-decoration-color: #ff00ff\">╭────────────────────────────────────────────────────</span><span style=\"color: #800080; text-decoration-color: #800080; font-weight: bold\"> [Tool] </span><span style=\"color: #ff00ff; text-decoration-color: #ff00ff\">─────────────────────────────────────────────────────╮</span>\n",
              "<span style=\"color: #ff00ff; text-decoration-color: #ff00ff\">│</span> Response from <span style=\"color: #800080; text-decoration-color: #800080; font-weight: bold\">run_python_code</span>:                                                                                  <span style=\"color: #ff00ff; text-decoration-color: #ff00ff\">│</span>\n",
              "<span style=\"color: #ff00ff; text-decoration-color: #ff00ff\">│</span> 1.85                                                                                                            <span style=\"color: #ff00ff; text-decoration-color: #ff00ff\">│</span>\n",
              "<span style=\"color: #ff00ff; text-decoration-color: #ff00ff\">╰─────────────────────────────────────────────────────────────────────────────────────────────────────────────────╯</span>\n",
              "</pre>\n"
            ],
            "text/plain": [
              "\u001b[95m╭─\u001b[0m\u001b[95m───────────────────────────────────────────────────\u001b[0m\u001b[1;35m [Tool] \u001b[0m\u001b[95m────────────────────────────────────────────────────\u001b[0m\u001b[95m─╮\u001b[0m\n",
              "\u001b[95m│\u001b[0m Response from \u001b[1;35mrun_python_code\u001b[0m:                                                                                  \u001b[95m│\u001b[0m\n",
              "\u001b[95m│\u001b[0m 1.85                                                                                                            \u001b[95m│\u001b[0m\n",
              "\u001b[95m╰─────────────────────────────────────────────────────────────────────────────────────────────────────────────────╯\u001b[0m\n"
            ]
          },
          "metadata": {},
          "output_type": "display_data"
        },
        {
          "data": {
            "text/html": [
              "<pre style=\"white-space:pre;overflow-x:auto;line-height:normal;font-family:Menlo,'DejaVu Sans Mono',consolas,'Courier New',monospace\"><span style=\"color: #0000ff; text-decoration-color: #0000ff\">╭──────────────────────────────────────────────────</span><span style=\"color: #000080; text-decoration-color: #000080; font-weight: bold\"> [Assistant] </span><span style=\"color: #0000ff; text-decoration-color: #0000ff\">──────────────────────────────────────────────────╮</span>\n",
              "<span style=\"color: #0000ff; text-decoration-color: #0000ff\">│</span> The installation of biopython was successful. The version of biopython installed is 1.85.                       <span style=\"color: #0000ff; text-decoration-color: #0000ff\">│</span>\n",
              "<span style=\"color: #0000ff; text-decoration-color: #0000ff\">╰─────────────────────────────────────────────────────────────────────────────────────────────────────────────────╯</span>\n",
              "</pre>\n"
            ],
            "text/plain": [
              "\u001b[94m╭─\u001b[0m\u001b[94m─────────────────────────────────────────────────\u001b[0m\u001b[1;34m [Assistant] \u001b[0m\u001b[94m─────────────────────────────────────────────────\u001b[0m\u001b[94m─╮\u001b[0m\n",
              "\u001b[94m│\u001b[0m The installation of biopython was successful. The version of biopython installed is 1.85.                       \u001b[94m│\u001b[0m\n",
              "\u001b[94m╰─────────────────────────────────────────────────────────────────────────────────────────────────────────────────╯\u001b[0m\n"
            ]
          },
          "metadata": {},
          "output_type": "display_data"
        },
        {
          "data": {
            "text/html": [
              "<pre style=\"white-space:pre;overflow-x:auto;line-height:normal;font-family:Menlo,'DejaVu Sans Mono',consolas,'Courier New',monospace\"><span style=\"color: #00ff00; text-decoration-color: #00ff00\">╭────────────────────────────────────────────────────</span><span style=\"color: #008000; text-decoration-color: #008000; font-weight: bold\"> [User] </span><span style=\"color: #00ff00; text-decoration-color: #00ff00\">─────────────────────────────────────────────────────╮</span>\n",
              "<span style=\"color: #00ff00; text-decoration-color: #00ff00\">│</span> translate ATGCATAGGTAG with biopython                                                                           <span style=\"color: #00ff00; text-decoration-color: #00ff00\">│</span>\n",
              "<span style=\"color: #00ff00; text-decoration-color: #00ff00\">╰─────────────────────────────────────────────────────────────────────────────────────────────────────────────────╯</span>\n",
              "</pre>\n"
            ],
            "text/plain": [
              "\u001b[92m╭─\u001b[0m\u001b[92m───────────────────────────────────────────────────\u001b[0m\u001b[1;32m [User] \u001b[0m\u001b[92m────────────────────────────────────────────────────\u001b[0m\u001b[92m─╮\u001b[0m\n",
              "\u001b[92m│\u001b[0m translate ATGCATAGGTAG with biopython                                                                           \u001b[92m│\u001b[0m\n",
              "\u001b[92m╰─────────────────────────────────────────────────────────────────────────────────────────────────────────────────╯\u001b[0m\n"
            ]
          },
          "metadata": {},
          "output_type": "display_data"
        },
        {
          "data": {
            "text/html": [
              "<pre style=\"white-space:pre;overflow-x:auto;line-height:normal;font-family:Menlo,'DejaVu Sans Mono',consolas,'Courier New',monospace\"><span style=\"color: #000080; text-decoration-color: #000080\">╭──────────────────────────────────────────────────</span><span style=\"color: #000080; text-decoration-color: #000080; font-weight: bold\"> [Assistant] </span><span style=\"color: #000080; text-decoration-color: #000080\">──────────────────────────────────────────────────╮</span>\n",
              "<span style=\"color: #000080; text-decoration-color: #000080\">│</span> Tool Call to <span style=\"color: #800080; text-decoration-color: #800080; font-weight: bold\">run_python_code</span>:                                                                                   <span style=\"color: #000080; text-decoration-color: #000080\">│</span>\n",
              "<span style=\"color: #000080; text-decoration-color: #000080\">│</span> {\"code\": \"from Bio.Seq import Seq; seq = Seq('ATGCATAGGTAG'); print(seq.translate())\"}                          <span style=\"color: #000080; text-decoration-color: #000080\">│</span>\n",
              "<span style=\"color: #000080; text-decoration-color: #000080\">╰─────────────────────────────────────────────────────────────────────────────────────────────────────────────────╯</span>\n",
              "</pre>\n"
            ],
            "text/plain": [
              "\u001b[34m╭─\u001b[0m\u001b[34m─────────────────────────────────────────────────\u001b[0m\u001b[1;34m [Assistant] \u001b[0m\u001b[34m─────────────────────────────────────────────────\u001b[0m\u001b[34m─╮\u001b[0m\n",
              "\u001b[34m│\u001b[0m Tool Call to \u001b[1;35mrun_python_code\u001b[0m:                                                                                   \u001b[34m│\u001b[0m\n",
              "\u001b[34m│\u001b[0m {\"code\": \"from Bio.Seq import Seq; seq = Seq('ATGCATAGGTAG'); print(seq.translate())\"}                          \u001b[34m│\u001b[0m\n",
              "\u001b[34m╰─────────────────────────────────────────────────────────────────────────────────────────────────────────────────╯\u001b[0m\n"
            ]
          },
          "metadata": {},
          "output_type": "display_data"
        },
        {
          "data": {
            "text/html": [
              "<pre style=\"white-space:pre;overflow-x:auto;line-height:normal;font-family:Menlo,'DejaVu Sans Mono',consolas,'Courier New',monospace\"><span style=\"color: #ff00ff; text-decoration-color: #ff00ff\">╭────────────────────────────────────────────────────</span><span style=\"color: #800080; text-decoration-color: #800080; font-weight: bold\"> [Tool] </span><span style=\"color: #ff00ff; text-decoration-color: #ff00ff\">─────────────────────────────────────────────────────╮</span>\n",
              "<span style=\"color: #ff00ff; text-decoration-color: #ff00ff\">│</span> Response from <span style=\"color: #800080; text-decoration-color: #800080; font-weight: bold\">run_python_code</span>:                                                                                  <span style=\"color: #ff00ff; text-decoration-color: #ff00ff\">│</span>\n",
              "<span style=\"color: #ff00ff; text-decoration-color: #ff00ff\">│</span> MHR*                                                                                                            <span style=\"color: #ff00ff; text-decoration-color: #ff00ff\">│</span>\n",
              "<span style=\"color: #ff00ff; text-decoration-color: #ff00ff\">╰─────────────────────────────────────────────────────────────────────────────────────────────────────────────────╯</span>\n",
              "</pre>\n"
            ],
            "text/plain": [
              "\u001b[95m╭─\u001b[0m\u001b[95m───────────────────────────────────────────────────\u001b[0m\u001b[1;35m [Tool] \u001b[0m\u001b[95m────────────────────────────────────────────────────\u001b[0m\u001b[95m─╮\u001b[0m\n",
              "\u001b[95m│\u001b[0m Response from \u001b[1;35mrun_python_code\u001b[0m:                                                                                  \u001b[95m│\u001b[0m\n",
              "\u001b[95m│\u001b[0m MHR*                                                                                                            \u001b[95m│\u001b[0m\n",
              "\u001b[95m╰─────────────────────────────────────────────────────────────────────────────────────────────────────────────────╯\u001b[0m\n"
            ]
          },
          "metadata": {},
          "output_type": "display_data"
        },
        {
          "data": {
            "text/html": [
              "<pre style=\"white-space:pre;overflow-x:auto;line-height:normal;font-family:Menlo,'DejaVu Sans Mono',consolas,'Courier New',monospace\"><span style=\"color: #0000ff; text-decoration-color: #0000ff\">╭──────────────────────────────────────────────────</span><span style=\"color: #000080; text-decoration-color: #000080; font-weight: bold\"> [Assistant] </span><span style=\"color: #0000ff; text-decoration-color: #0000ff\">──────────────────────────────────────────────────╮</span>\n",
              "<span style=\"color: #0000ff; text-decoration-color: #0000ff\">│</span> The translation of the DNA sequence 'ATGCATAGGTAG' is 'MHR*'.                                                   <span style=\"color: #0000ff; text-decoration-color: #0000ff\">│</span>\n",
              "<span style=\"color: #0000ff; text-decoration-color: #0000ff\">│</span>                                                                                                                 <span style=\"color: #0000ff; text-decoration-color: #0000ff\">│</span>\n",
              "<span style=\"color: #0000ff; text-decoration-color: #0000ff\">│</span> Here's a breakdown of the translation:                                                                          <span style=\"color: #0000ff; text-decoration-color: #0000ff\">│</span>\n",
              "<span style=\"color: #0000ff; text-decoration-color: #0000ff\">│</span>                                                                                                                 <span style=\"color: #0000ff; text-decoration-color: #0000ff\">│</span>\n",
              "<span style=\"color: #0000ff; text-decoration-color: #0000ff\">│</span> - ATG: M (Methionine)                                                                                           <span style=\"color: #0000ff; text-decoration-color: #0000ff\">│</span>\n",
              "<span style=\"color: #0000ff; text-decoration-color: #0000ff\">│</span> - CAT: H (Histidine)                                                                                            <span style=\"color: #0000ff; text-decoration-color: #0000ff\">│</span>\n",
              "<span style=\"color: #0000ff; text-decoration-color: #0000ff\">│</span> - AGG: R (Arginine)                                                                                             <span style=\"color: #0000ff; text-decoration-color: #0000ff\">│</span>\n",
              "<span style=\"color: #0000ff; text-decoration-color: #0000ff\">│</span> - TAG: * (Stop codon)                                                                                           <span style=\"color: #0000ff; text-decoration-color: #0000ff\">│</span>\n",
              "<span style=\"color: #0000ff; text-decoration-color: #0000ff\">│</span>                                                                                                                 <span style=\"color: #0000ff; text-decoration-color: #0000ff\">│</span>\n",
              "<span style=\"color: #0000ff; text-decoration-color: #0000ff\">│</span> So, the protein sequence is 'MHR' followed by a stop codon '*'.                                                 <span style=\"color: #0000ff; text-decoration-color: #0000ff\">│</span>\n",
              "<span style=\"color: #0000ff; text-decoration-color: #0000ff\">╰─────────────────────────────────────────────────────────────────────────────────────────────────────────────────╯</span>\n",
              "</pre>\n"
            ],
            "text/plain": [
              "\u001b[94m╭─\u001b[0m\u001b[94m─────────────────────────────────────────────────\u001b[0m\u001b[1;34m [Assistant] \u001b[0m\u001b[94m─────────────────────────────────────────────────\u001b[0m\u001b[94m─╮\u001b[0m\n",
              "\u001b[94m│\u001b[0m The translation of the DNA sequence 'ATGCATAGGTAG' is 'MHR*'.                                                   \u001b[94m│\u001b[0m\n",
              "\u001b[94m│\u001b[0m                                                                                                                 \u001b[94m│\u001b[0m\n",
              "\u001b[94m│\u001b[0m Here's a breakdown of the translation:                                                                          \u001b[94m│\u001b[0m\n",
              "\u001b[94m│\u001b[0m                                                                                                                 \u001b[94m│\u001b[0m\n",
              "\u001b[94m│\u001b[0m - ATG: M (Methionine)                                                                                           \u001b[94m│\u001b[0m\n",
              "\u001b[94m│\u001b[0m - CAT: H (Histidine)                                                                                            \u001b[94m│\u001b[0m\n",
              "\u001b[94m│\u001b[0m - AGG: R (Arginine)                                                                                             \u001b[94m│\u001b[0m\n",
              "\u001b[94m│\u001b[0m - TAG: * (Stop codon)                                                                                           \u001b[94m│\u001b[0m\n",
              "\u001b[94m│\u001b[0m                                                                                                                 \u001b[94m│\u001b[0m\n",
              "\u001b[94m│\u001b[0m So, the protein sequence is 'MHR' followed by a stop codon '*'.                                                 \u001b[94m│\u001b[0m\n",
              "\u001b[94m╰─────────────────────────────────────────────────────────────────────────────────────────────────────────────────╯\u001b[0m\n"
            ]
          },
          "metadata": {},
          "output_type": "display_data"
        }
      ],
      "source": [
        "agent.query(\"translate ATGCATAGGTAG with biopython\")\n",
        "agent.memory.pretty_print_all_messages()"
      ]
    },
    {
      "cell_type": "markdown",
      "metadata": {
        "id": "P2GcvbuwtYxB"
      },
      "source": [
        "## BioCypher + BioChatter: Semantic Interaction with Biomedical Knowledge Graphs\n",
        "\n",
        "In this cell, we demonstrate the integration of **BioCypher**, a flexible framework for building and querying biomedical knowledge graphs, with an agent using **BioChatter**, a natural language interface for interacting with those graphs using LLMs.\n",
        "\n",
        "![BioChatter knowledge graphs](https://biocypher.org/BioCypher/assets/img/graphical-abstract-biocypher.png)\n",
        "\n",
        "BioCypher allows structured ingestion of heterogeneous biomedical data into a graph database (e.g., Neo4j), preserving biological semantics. BioChatter enables users to query and explore this knowledge graph using conversational prompts, abstracting away query language complexity and enhancing accessibility.\n",
        "\n",
        "We'll now explore a practical example of interacting with the graph via natural language and ask it about some drug iteractions"
      ]
    },
    {
      "cell_type": "code",
      "execution_count": 22,
      "metadata": {
        "colab": {
          "base_uri": "https://localhost:8080/",
          "height": 805
        },
        "id": "rx9VtjBOgevZ",
        "outputId": "a2f9a012-735e-43ea-cf1c-4a357bab1411"
      },
      "outputs": [
        {
          "name": "stderr",
          "output_type": "stream",
          "text": [
            "/usr/local/lib/python3.11/dist-packages/pydantic/main.py:463: UserWarning: Pydantic serializer warnings:\n",
            "  PydanticSerializationUnexpectedValue(Expected `int` - serialized value may not be as expected [input_value=1747931733.8456812, input_type=float])\n",
            "  return self.__pydantic_serializer__.to_python(\n"
          ]
        },
        {
          "data": {
            "text/html": [
              "<pre style=\"white-space:pre;overflow-x:auto;line-height:normal;font-family:Menlo,'DejaVu Sans Mono',consolas,'Courier New',monospace\"><span style=\"color: #00ff00; text-decoration-color: #00ff00\">╭────────────────────────────────────────────────────</span><span style=\"color: #008000; text-decoration-color: #008000; font-weight: bold\"> [User] </span><span style=\"color: #00ff00; text-decoration-color: #00ff00\">─────────────────────────────────────────────────────╮</span>\n",
              "<span style=\"color: #00ff00; text-decoration-color: #00ff00\">│</span> What drug interactions of Metformin do you know? What are these interactions ?                                  <span style=\"color: #00ff00; text-decoration-color: #00ff00\">│</span>\n",
              "<span style=\"color: #00ff00; text-decoration-color: #00ff00\">╰─────────────────────────────────────────────────────────────────────────────────────────────────────────────────╯</span>\n",
              "</pre>\n"
            ],
            "text/plain": [
              "\u001b[92m╭─\u001b[0m\u001b[92m───────────────────────────────────────────────────\u001b[0m\u001b[1;32m [User] \u001b[0m\u001b[92m────────────────────────────────────────────────────\u001b[0m\u001b[92m─╮\u001b[0m\n",
              "\u001b[92m│\u001b[0m What drug interactions of Metformin do you know? What are these interactions ?                                  \u001b[92m│\u001b[0m\n",
              "\u001b[92m╰─────────────────────────────────────────────────────────────────────────────────────────────────────────────────╯\u001b[0m\n"
            ]
          },
          "metadata": {},
          "output_type": "display_data"
        },
        {
          "data": {
            "text/html": [
              "<pre style=\"white-space:pre;overflow-x:auto;line-height:normal;font-family:Menlo,'DejaVu Sans Mono',consolas,'Courier New',monospace\"><span style=\"color: #0000ff; text-decoration-color: #0000ff\">╭──────────────────────────────────────────────────</span><span style=\"color: #000080; text-decoration-color: #000080; font-weight: bold\"> [Assistant] </span><span style=\"color: #0000ff; text-decoration-color: #0000ff\">──────────────────────────────────────────────────╮</span>\n",
              "<span style=\"color: #0000ff; text-decoration-color: #0000ff\">│</span> Metformin, an oral antihyperglycemic agent primarily used in the management of type 2 diabetes, has several     <span style=\"color: #0000ff; text-decoration-color: #0000ff\">│</span>\n",
              "<span style=\"color: #0000ff; text-decoration-color: #0000ff\">│</span> known drug interactions that may affect its efficacy and safety. Below are some notable interactions:           <span style=\"color: #0000ff; text-decoration-color: #0000ff\">│</span>\n",
              "<span style=\"color: #0000ff; text-decoration-color: #0000ff\">│</span>                                                                                                                 <span style=\"color: #0000ff; text-decoration-color: #0000ff\">│</span>\n",
              "<span style=\"color: #0000ff; text-decoration-color: #0000ff\">│</span> 1. **Abemaciclib**: This drug, used in cancer treatment, may interact with Metformin, potentially affecting     <span style=\"color: #0000ff; text-decoration-color: #0000ff\">│</span>\n",
              "<span style=\"color: #0000ff; text-decoration-color: #0000ff\">│</span> blood glucose levels.                                                                                           <span style=\"color: #0000ff; text-decoration-color: #0000ff\">│</span>\n",
              "<span style=\"color: #0000ff; text-decoration-color: #0000ff\">│</span>                                                                                                                 <span style=\"color: #0000ff; text-decoration-color: #0000ff\">│</span>\n",
              "<span style=\"color: #0000ff; text-decoration-color: #0000ff\">│</span> 2. **Methimazole**: An antithyroid medication that may influence Metformin's effectiveness in glycemic control. <span style=\"color: #0000ff; text-decoration-color: #0000ff\">│</span>\n",
              "<span style=\"color: #0000ff; text-decoration-color: #0000ff\">│</span>                                                                                                                 <span style=\"color: #0000ff; text-decoration-color: #0000ff\">│</span>\n",
              "<span style=\"color: #0000ff; text-decoration-color: #0000ff\">│</span> 3. **Hydrocortisone (topical)**: Corticosteroids can increase blood glucose levels, which may counteract the    <span style=\"color: #0000ff; text-decoration-color: #0000ff\">│</span>\n",
              "<span style=\"color: #0000ff; text-decoration-color: #0000ff\">│</span> effects of Metformin.                                                                                           <span style=\"color: #0000ff; text-decoration-color: #0000ff\">│</span>\n",
              "<span style=\"color: #0000ff; text-decoration-color: #0000ff\">│</span>                                                                                                                 <span style=\"color: #0000ff; text-decoration-color: #0000ff\">│</span>\n",
              "<span style=\"color: #0000ff; text-decoration-color: #0000ff\">│</span> 4. **Epoprostenol**: This medication, used for pulmonary arterial hypertension, may have interactions that      <span style=\"color: #0000ff; text-decoration-color: #0000ff\">│</span>\n",
              "<span style=\"color: #0000ff; text-decoration-color: #0000ff\">│</span> could affect Metformin's pharmacodynamics.                                                                      <span style=\"color: #0000ff; text-decoration-color: #0000ff\">│</span>\n",
              "<span style=\"color: #0000ff; text-decoration-color: #0000ff\">│</span>                                                                                                                 <span style=\"color: #0000ff; text-decoration-color: #0000ff\">│</span>\n",
              "<span style=\"color: #0000ff; text-decoration-color: #0000ff\">│</span> 5. **Tafenoquine**: An antimalarial drug that may interact with Metformin, potentially leading to altered       <span style=\"color: #0000ff; text-decoration-color: #0000ff\">│</span>\n",
              "<span style=\"color: #0000ff; text-decoration-color: #0000ff\">│</span> glucose metabolism.                                                                                             <span style=\"color: #0000ff; text-decoration-color: #0000ff\">│</span>\n",
              "<span style=\"color: #0000ff; text-decoration-color: #0000ff\">│</span>                                                                                                                 <span style=\"color: #0000ff; text-decoration-color: #0000ff\">│</span>\n",
              "<span style=\"color: #0000ff; text-decoration-color: #0000ff\">│</span> 6. **Pentamidine**: This medication can cause hypoglycemia, which may be exacerbated by Metformin.              <span style=\"color: #0000ff; text-decoration-color: #0000ff\">│</span>\n",
              "<span style=\"color: #0000ff; text-decoration-color: #0000ff\">│</span>                                                                                                                 <span style=\"color: #0000ff; text-decoration-color: #0000ff\">│</span>\n",
              "<span style=\"color: #0000ff; text-decoration-color: #0000ff\">│</span> 7. **Promethazine**: An antihistamine that may have effects on blood glucose levels when used concurrently with <span style=\"color: #0000ff; text-decoration-color: #0000ff\">│</span>\n",
              "<span style=\"color: #0000ff; text-decoration-color: #0000ff\">│</span> Metformin.                                                                                                      <span style=\"color: #0000ff; text-decoration-color: #0000ff\">│</span>\n",
              "<span style=\"color: #0000ff; text-decoration-color: #0000ff\">│</span>                                                                                                                 <span style=\"color: #0000ff; text-decoration-color: #0000ff\">│</span>\n",
              "<span style=\"color: #0000ff; text-decoration-color: #0000ff\">│</span> 8. **Heparin**: Anticoagulants like Heparin may interact with Metformin, necessitating careful monitoring of    <span style=\"color: #0000ff; text-decoration-color: #0000ff\">│</span>\n",
              "<span style=\"color: #0000ff; text-decoration-color: #0000ff\">│</span> blood glucose levels.                                                                                           <span style=\"color: #0000ff; text-decoration-color: #0000ff\">│</span>\n",
              "<span style=\"color: #0000ff; text-decoration-color: #0000ff\">│</span>                                                                                                                 <span style=\"color: #0000ff; text-decoration-color: #0000ff\">│</span>\n",
              "<span style=\"color: #0000ff; text-decoration-color: #0000ff\">│</span> 9. **Docetaxel**: A chemotherapy agent that may influence Metformin's action and glucose control.               <span style=\"color: #0000ff; text-decoration-color: #0000ff\">│</span>\n",
              "<span style=\"color: #0000ff; text-decoration-color: #0000ff\">│</span>                                                                                                                 <span style=\"color: #0000ff; text-decoration-color: #0000ff\">│</span>\n",
              "<span style=\"color: #0000ff; text-decoration-color: #0000ff\">│</span> 10. **Anastrozole**: This aromatase inhibitor may have interactions that could affect Metformin's efficacy.     <span style=\"color: #0000ff; text-decoration-color: #0000ff\">│</span>\n",
              "<span style=\"color: #0000ff; text-decoration-color: #0000ff\">│</span>                                                                                                                 <span style=\"color: #0000ff; text-decoration-color: #0000ff\">│</span>\n",
              "<span style=\"color: #0000ff; text-decoration-color: #0000ff\">│</span> It is crucial to consult a healthcare professional before making any changes to medication regimens, as these   <span style=\"color: #0000ff; text-decoration-color: #0000ff\">│</span>\n",
              "<span style=\"color: #0000ff; text-decoration-color: #0000ff\">│</span> interactions can vary based on individual patient factors and other concurrent medications.                     <span style=\"color: #0000ff; text-decoration-color: #0000ff\">│</span>\n",
              "<span style=\"color: #0000ff; text-decoration-color: #0000ff\">│</span>                                                                                                                 <span style=\"color: #0000ff; text-decoration-color: #0000ff\">│</span>\n",
              "<span style=\"color: #0000ff; text-decoration-color: #0000ff\">│</span> For further exploration of these interactions, the following Cypher query can be used:                          <span style=\"color: #0000ff; text-decoration-color: #0000ff\">│</span>\n",
              "<span style=\"color: #0000ff; text-decoration-color: #0000ff\">│</span>                                                                                                                 <span style=\"color: #0000ff; text-decoration-color: #0000ff\">│</span>\n",
              "<span style=\"color: #0000ff; text-decoration-color: #0000ff\">│</span> ```cypher                                                                                                       <span style=\"color: #0000ff; text-decoration-color: #0000ff\">│</span>\n",
              "<span style=\"color: #0000ff; text-decoration-color: #0000ff\">│</span> MATCH (d:Drug {name: 'Metformin'})-[:DrugInteraction]-&gt;(i)                                                      <span style=\"color: #0000ff; text-decoration-color: #0000ff\">│</span>\n",
              "<span style=\"color: #0000ff; text-decoration-color: #0000ff\">│</span> RETURN d, i                                                                                                     <span style=\"color: #0000ff; text-decoration-color: #0000ff\">│</span>\n",
              "<span style=\"color: #0000ff; text-decoration-color: #0000ff\">│</span> ```                                                                                                             <span style=\"color: #0000ff; text-decoration-color: #0000ff\">│</span>\n",
              "<span style=\"color: #0000ff; text-decoration-color: #0000ff\">│</span>                                                                                                                 <span style=\"color: #0000ff; text-decoration-color: #0000ff\">│</span>\n",
              "<span style=\"color: #0000ff; text-decoration-color: #0000ff\">│</span> This query retrieves information about drugs that interact with Metformin, allowing for a more comprehensive    <span style=\"color: #0000ff; text-decoration-color: #0000ff\">│</span>\n",
              "<span style=\"color: #0000ff; text-decoration-color: #0000ff\">│</span> understanding of potential interactions.                                                                        <span style=\"color: #0000ff; text-decoration-color: #0000ff\">│</span>\n",
              "<span style=\"color: #0000ff; text-decoration-color: #0000ff\">╰─────────────────────────────────────────────────────────────────────────────────────────────────────────────────╯</span>\n",
              "</pre>\n"
            ],
            "text/plain": [
              "\u001b[94m╭─\u001b[0m\u001b[94m─────────────────────────────────────────────────\u001b[0m\u001b[1;34m [Assistant] \u001b[0m\u001b[94m─────────────────────────────────────────────────\u001b[0m\u001b[94m─╮\u001b[0m\n",
              "\u001b[94m│\u001b[0m Metformin, an oral antihyperglycemic agent primarily used in the management of type 2 diabetes, has several     \u001b[94m│\u001b[0m\n",
              "\u001b[94m│\u001b[0m known drug interactions that may affect its efficacy and safety. Below are some notable interactions:           \u001b[94m│\u001b[0m\n",
              "\u001b[94m│\u001b[0m                                                                                                                 \u001b[94m│\u001b[0m\n",
              "\u001b[94m│\u001b[0m 1. **Abemaciclib**: This drug, used in cancer treatment, may interact with Metformin, potentially affecting     \u001b[94m│\u001b[0m\n",
              "\u001b[94m│\u001b[0m blood glucose levels.                                                                                           \u001b[94m│\u001b[0m\n",
              "\u001b[94m│\u001b[0m                                                                                                                 \u001b[94m│\u001b[0m\n",
              "\u001b[94m│\u001b[0m 2. **Methimazole**: An antithyroid medication that may influence Metformin's effectiveness in glycemic control. \u001b[94m│\u001b[0m\n",
              "\u001b[94m│\u001b[0m                                                                                                                 \u001b[94m│\u001b[0m\n",
              "\u001b[94m│\u001b[0m 3. **Hydrocortisone (topical)**: Corticosteroids can increase blood glucose levels, which may counteract the    \u001b[94m│\u001b[0m\n",
              "\u001b[94m│\u001b[0m effects of Metformin.                                                                                           \u001b[94m│\u001b[0m\n",
              "\u001b[94m│\u001b[0m                                                                                                                 \u001b[94m│\u001b[0m\n",
              "\u001b[94m│\u001b[0m 4. **Epoprostenol**: This medication, used for pulmonary arterial hypertension, may have interactions that      \u001b[94m│\u001b[0m\n",
              "\u001b[94m│\u001b[0m could affect Metformin's pharmacodynamics.                                                                      \u001b[94m│\u001b[0m\n",
              "\u001b[94m│\u001b[0m                                                                                                                 \u001b[94m│\u001b[0m\n",
              "\u001b[94m│\u001b[0m 5. **Tafenoquine**: An antimalarial drug that may interact with Metformin, potentially leading to altered       \u001b[94m│\u001b[0m\n",
              "\u001b[94m│\u001b[0m glucose metabolism.                                                                                             \u001b[94m│\u001b[0m\n",
              "\u001b[94m│\u001b[0m                                                                                                                 \u001b[94m│\u001b[0m\n",
              "\u001b[94m│\u001b[0m 6. **Pentamidine**: This medication can cause hypoglycemia, which may be exacerbated by Metformin.              \u001b[94m│\u001b[0m\n",
              "\u001b[94m│\u001b[0m                                                                                                                 \u001b[94m│\u001b[0m\n",
              "\u001b[94m│\u001b[0m 7. **Promethazine**: An antihistamine that may have effects on blood glucose levels when used concurrently with \u001b[94m│\u001b[0m\n",
              "\u001b[94m│\u001b[0m Metformin.                                                                                                      \u001b[94m│\u001b[0m\n",
              "\u001b[94m│\u001b[0m                                                                                                                 \u001b[94m│\u001b[0m\n",
              "\u001b[94m│\u001b[0m 8. **Heparin**: Anticoagulants like Heparin may interact with Metformin, necessitating careful monitoring of    \u001b[94m│\u001b[0m\n",
              "\u001b[94m│\u001b[0m blood glucose levels.                                                                                           \u001b[94m│\u001b[0m\n",
              "\u001b[94m│\u001b[0m                                                                                                                 \u001b[94m│\u001b[0m\n",
              "\u001b[94m│\u001b[0m 9. **Docetaxel**: A chemotherapy agent that may influence Metformin's action and glucose control.               \u001b[94m│\u001b[0m\n",
              "\u001b[94m│\u001b[0m                                                                                                                 \u001b[94m│\u001b[0m\n",
              "\u001b[94m│\u001b[0m 10. **Anastrozole**: This aromatase inhibitor may have interactions that could affect Metformin's efficacy.     \u001b[94m│\u001b[0m\n",
              "\u001b[94m│\u001b[0m                                                                                                                 \u001b[94m│\u001b[0m\n",
              "\u001b[94m│\u001b[0m It is crucial to consult a healthcare professional before making any changes to medication regimens, as these   \u001b[94m│\u001b[0m\n",
              "\u001b[94m│\u001b[0m interactions can vary based on individual patient factors and other concurrent medications.                     \u001b[94m│\u001b[0m\n",
              "\u001b[94m│\u001b[0m                                                                                                                 \u001b[94m│\u001b[0m\n",
              "\u001b[94m│\u001b[0m For further exploration of these interactions, the following Cypher query can be used:                          \u001b[94m│\u001b[0m\n",
              "\u001b[94m│\u001b[0m                                                                                                                 \u001b[94m│\u001b[0m\n",
              "\u001b[94m│\u001b[0m ```cypher                                                                                                       \u001b[94m│\u001b[0m\n",
              "\u001b[94m│\u001b[0m MATCH (d:Drug {name: 'Metformin'})-[:DrugInteraction]->(i)                                                      \u001b[94m│\u001b[0m\n",
              "\u001b[94m│\u001b[0m RETURN d, i                                                                                                     \u001b[94m│\u001b[0m\n",
              "\u001b[94m│\u001b[0m ```                                                                                                             \u001b[94m│\u001b[0m\n",
              "\u001b[94m│\u001b[0m                                                                                                                 \u001b[94m│\u001b[0m\n",
              "\u001b[94m│\u001b[0m This query retrieves information about drugs that interact with Metformin, allowing for a more comprehensive    \u001b[94m│\u001b[0m\n",
              "\u001b[94m│\u001b[0m understanding of potential interactions.                                                                        \u001b[94m│\u001b[0m\n",
              "\u001b[94m╰─────────────────────────────────────────────────────────────────────────────────────────────────────────────────╯\u001b[0m\n"
            ]
          },
          "metadata": {},
          "output_type": "display_data"
        }
      ],
      "source": [
        "from just_agents.llm_options import LLMOptions\n",
        "from just_agents.base_agent import BaseAgent\n",
        "import pprint\n",
        "\n",
        "knowledge_graph_endpoint : LLMOptions = {\n",
        "    \"model\" : \"drugs_gpt-4o-mini\",\n",
        "    \"api_base\" : \"https://drugskg-api.longevity-genie.info/biochatter_api/\",\n",
        "    \"api_key\" : \"biochatter\"\n",
        "}\n",
        "\n",
        "kg_rag_agent: BaseAgent = BaseAgent(\n",
        "    llm_options=knowledge_graph_endpoint,\n",
        "    send_system_prompt=False,\n",
        "    tools=[]\n",
        ")\n",
        "\n",
        "result = kg_rag_agent.query(\"What drug interactions of Metformin do you know? What are these interactions ?\")\n",
        "kg_rag_agent.memory.pretty_print_all_messages()"
      ]
    },
    {
      "cell_type": "markdown",
      "metadata": {
        "id": "h-6mfrpX1CjO"
      },
      "source": [
        "Let's now check some other compoound, a popular Ozempic drug for example, using the unpatented name Semaglutide"
      ]
    },
    {
      "cell_type": "code",
      "execution_count": 23,
      "metadata": {
        "colab": {
          "base_uri": "https://localhost:8080/",
          "height": 1000
        },
        "id": "_uJKBfVN065I",
        "outputId": "4c3d00d2-9ad0-4d1e-bd68-be894a9117f0"
      },
      "outputs": [
        {
          "name": "stderr",
          "output_type": "stream",
          "text": [
            "/usr/local/lib/python3.11/dist-packages/pydantic/main.py:463: UserWarning: Pydantic serializer warnings:\n",
            "  PydanticSerializationUnexpectedValue(Expected `int` - serialized value may not be as expected [input_value=1747931743.9821866, input_type=float])\n",
            "  return self.__pydantic_serializer__.to_python(\n"
          ]
        },
        {
          "data": {
            "text/html": [
              "<pre style=\"white-space:pre;overflow-x:auto;line-height:normal;font-family:Menlo,'DejaVu Sans Mono',consolas,'Courier New',monospace\"><span style=\"color: #00ff00; text-decoration-color: #00ff00\">╭────────────────────────────────────────────────────</span><span style=\"color: #008000; text-decoration-color: #008000; font-weight: bold\"> [User] </span><span style=\"color: #00ff00; text-decoration-color: #00ff00\">─────────────────────────────────────────────────────╮</span>\n",
              "<span style=\"color: #00ff00; text-decoration-color: #00ff00\">│</span> What drug interactions of Metformin do you know? What are these interactions ?                                  <span style=\"color: #00ff00; text-decoration-color: #00ff00\">│</span>\n",
              "<span style=\"color: #00ff00; text-decoration-color: #00ff00\">╰─────────────────────────────────────────────────────────────────────────────────────────────────────────────────╯</span>\n",
              "</pre>\n"
            ],
            "text/plain": [
              "\u001b[92m╭─\u001b[0m\u001b[92m───────────────────────────────────────────────────\u001b[0m\u001b[1;32m [User] \u001b[0m\u001b[92m────────────────────────────────────────────────────\u001b[0m\u001b[92m─╮\u001b[0m\n",
              "\u001b[92m│\u001b[0m What drug interactions of Metformin do you know? What are these interactions ?                                  \u001b[92m│\u001b[0m\n",
              "\u001b[92m╰─────────────────────────────────────────────────────────────────────────────────────────────────────────────────╯\u001b[0m\n"
            ]
          },
          "metadata": {},
          "output_type": "display_data"
        },
        {
          "data": {
            "text/html": [
              "<pre style=\"white-space:pre;overflow-x:auto;line-height:normal;font-family:Menlo,'DejaVu Sans Mono',consolas,'Courier New',monospace\"><span style=\"color: #0000ff; text-decoration-color: #0000ff\">╭──────────────────────────────────────────────────</span><span style=\"color: #000080; text-decoration-color: #000080; font-weight: bold\"> [Assistant] </span><span style=\"color: #0000ff; text-decoration-color: #0000ff\">──────────────────────────────────────────────────╮</span>\n",
              "<span style=\"color: #0000ff; text-decoration-color: #0000ff\">│</span> Metformin, an oral antihyperglycemic agent primarily used in the management of type 2 diabetes, has several     <span style=\"color: #0000ff; text-decoration-color: #0000ff\">│</span>\n",
              "<span style=\"color: #0000ff; text-decoration-color: #0000ff\">│</span> known drug interactions that may affect its efficacy and safety. Below are some notable interactions:           <span style=\"color: #0000ff; text-decoration-color: #0000ff\">│</span>\n",
              "<span style=\"color: #0000ff; text-decoration-color: #0000ff\">│</span>                                                                                                                 <span style=\"color: #0000ff; text-decoration-color: #0000ff\">│</span>\n",
              "<span style=\"color: #0000ff; text-decoration-color: #0000ff\">│</span> 1. **Abemaciclib**: This drug, used in cancer treatment, may interact with Metformin, potentially affecting     <span style=\"color: #0000ff; text-decoration-color: #0000ff\">│</span>\n",
              "<span style=\"color: #0000ff; text-decoration-color: #0000ff\">│</span> blood glucose levels.                                                                                           <span style=\"color: #0000ff; text-decoration-color: #0000ff\">│</span>\n",
              "<span style=\"color: #0000ff; text-decoration-color: #0000ff\">│</span>                                                                                                                 <span style=\"color: #0000ff; text-decoration-color: #0000ff\">│</span>\n",
              "<span style=\"color: #0000ff; text-decoration-color: #0000ff\">│</span> 2. **Methimazole**: An antithyroid medication that may influence Metformin's effectiveness in glycemic control. <span style=\"color: #0000ff; text-decoration-color: #0000ff\">│</span>\n",
              "<span style=\"color: #0000ff; text-decoration-color: #0000ff\">│</span>                                                                                                                 <span style=\"color: #0000ff; text-decoration-color: #0000ff\">│</span>\n",
              "<span style=\"color: #0000ff; text-decoration-color: #0000ff\">│</span> 3. **Hydrocortisone (topical)**: Corticosteroids can increase blood glucose levels, which may counteract the    <span style=\"color: #0000ff; text-decoration-color: #0000ff\">│</span>\n",
              "<span style=\"color: #0000ff; text-decoration-color: #0000ff\">│</span> effects of Metformin.                                                                                           <span style=\"color: #0000ff; text-decoration-color: #0000ff\">│</span>\n",
              "<span style=\"color: #0000ff; text-decoration-color: #0000ff\">│</span>                                                                                                                 <span style=\"color: #0000ff; text-decoration-color: #0000ff\">│</span>\n",
              "<span style=\"color: #0000ff; text-decoration-color: #0000ff\">│</span> 4. **Epoprostenol**: This medication, used for pulmonary arterial hypertension, may have interactions that      <span style=\"color: #0000ff; text-decoration-color: #0000ff\">│</span>\n",
              "<span style=\"color: #0000ff; text-decoration-color: #0000ff\">│</span> could affect Metformin's pharmacodynamics.                                                                      <span style=\"color: #0000ff; text-decoration-color: #0000ff\">│</span>\n",
              "<span style=\"color: #0000ff; text-decoration-color: #0000ff\">│</span>                                                                                                                 <span style=\"color: #0000ff; text-decoration-color: #0000ff\">│</span>\n",
              "<span style=\"color: #0000ff; text-decoration-color: #0000ff\">│</span> 5. **Tafenoquine**: An antimalarial drug that may interact with Metformin, potentially leading to altered       <span style=\"color: #0000ff; text-decoration-color: #0000ff\">│</span>\n",
              "<span style=\"color: #0000ff; text-decoration-color: #0000ff\">│</span> glucose metabolism.                                                                                             <span style=\"color: #0000ff; text-decoration-color: #0000ff\">│</span>\n",
              "<span style=\"color: #0000ff; text-decoration-color: #0000ff\">│</span>                                                                                                                 <span style=\"color: #0000ff; text-decoration-color: #0000ff\">│</span>\n",
              "<span style=\"color: #0000ff; text-decoration-color: #0000ff\">│</span> 6. **Pentamidine**: This medication can cause hypoglycemia, which may be exacerbated by Metformin.              <span style=\"color: #0000ff; text-decoration-color: #0000ff\">│</span>\n",
              "<span style=\"color: #0000ff; text-decoration-color: #0000ff\">│</span>                                                                                                                 <span style=\"color: #0000ff; text-decoration-color: #0000ff\">│</span>\n",
              "<span style=\"color: #0000ff; text-decoration-color: #0000ff\">│</span> 7. **Promethazine**: An antihistamine that may have effects on blood glucose levels when used concurrently with <span style=\"color: #0000ff; text-decoration-color: #0000ff\">│</span>\n",
              "<span style=\"color: #0000ff; text-decoration-color: #0000ff\">│</span> Metformin.                                                                                                      <span style=\"color: #0000ff; text-decoration-color: #0000ff\">│</span>\n",
              "<span style=\"color: #0000ff; text-decoration-color: #0000ff\">│</span>                                                                                                                 <span style=\"color: #0000ff; text-decoration-color: #0000ff\">│</span>\n",
              "<span style=\"color: #0000ff; text-decoration-color: #0000ff\">│</span> 8. **Heparin**: Anticoagulants like Heparin may interact with Metformin, necessitating careful monitoring of    <span style=\"color: #0000ff; text-decoration-color: #0000ff\">│</span>\n",
              "<span style=\"color: #0000ff; text-decoration-color: #0000ff\">│</span> blood glucose levels.                                                                                           <span style=\"color: #0000ff; text-decoration-color: #0000ff\">│</span>\n",
              "<span style=\"color: #0000ff; text-decoration-color: #0000ff\">│</span>                                                                                                                 <span style=\"color: #0000ff; text-decoration-color: #0000ff\">│</span>\n",
              "<span style=\"color: #0000ff; text-decoration-color: #0000ff\">│</span> 9. **Docetaxel**: A chemotherapy agent that may influence Metformin's action and glucose control.               <span style=\"color: #0000ff; text-decoration-color: #0000ff\">│</span>\n",
              "<span style=\"color: #0000ff; text-decoration-color: #0000ff\">│</span>                                                                                                                 <span style=\"color: #0000ff; text-decoration-color: #0000ff\">│</span>\n",
              "<span style=\"color: #0000ff; text-decoration-color: #0000ff\">│</span> 10. **Anastrozole**: This aromatase inhibitor may have interactions that could affect Metformin's efficacy.     <span style=\"color: #0000ff; text-decoration-color: #0000ff\">│</span>\n",
              "<span style=\"color: #0000ff; text-decoration-color: #0000ff\">│</span>                                                                                                                 <span style=\"color: #0000ff; text-decoration-color: #0000ff\">│</span>\n",
              "<span style=\"color: #0000ff; text-decoration-color: #0000ff\">│</span> It is crucial to consult a healthcare professional before making any changes to medication regimens, as these   <span style=\"color: #0000ff; text-decoration-color: #0000ff\">│</span>\n",
              "<span style=\"color: #0000ff; text-decoration-color: #0000ff\">│</span> interactions can vary based on individual patient factors and other concurrent medications.                     <span style=\"color: #0000ff; text-decoration-color: #0000ff\">│</span>\n",
              "<span style=\"color: #0000ff; text-decoration-color: #0000ff\">│</span>                                                                                                                 <span style=\"color: #0000ff; text-decoration-color: #0000ff\">│</span>\n",
              "<span style=\"color: #0000ff; text-decoration-color: #0000ff\">│</span> For further exploration of these interactions, the following Cypher query can be used:                          <span style=\"color: #0000ff; text-decoration-color: #0000ff\">│</span>\n",
              "<span style=\"color: #0000ff; text-decoration-color: #0000ff\">│</span>                                                                                                                 <span style=\"color: #0000ff; text-decoration-color: #0000ff\">│</span>\n",
              "<span style=\"color: #0000ff; text-decoration-color: #0000ff\">│</span> ```cypher                                                                                                       <span style=\"color: #0000ff; text-decoration-color: #0000ff\">│</span>\n",
              "<span style=\"color: #0000ff; text-decoration-color: #0000ff\">│</span> MATCH (d:Drug {name: 'Metformin'})-[:DrugInteraction]-&gt;(i)                                                      <span style=\"color: #0000ff; text-decoration-color: #0000ff\">│</span>\n",
              "<span style=\"color: #0000ff; text-decoration-color: #0000ff\">│</span> RETURN d, i                                                                                                     <span style=\"color: #0000ff; text-decoration-color: #0000ff\">│</span>\n",
              "<span style=\"color: #0000ff; text-decoration-color: #0000ff\">│</span> ```                                                                                                             <span style=\"color: #0000ff; text-decoration-color: #0000ff\">│</span>\n",
              "<span style=\"color: #0000ff; text-decoration-color: #0000ff\">│</span>                                                                                                                 <span style=\"color: #0000ff; text-decoration-color: #0000ff\">│</span>\n",
              "<span style=\"color: #0000ff; text-decoration-color: #0000ff\">│</span> This query retrieves information about drugs that interact with Metformin, allowing for a more comprehensive    <span style=\"color: #0000ff; text-decoration-color: #0000ff\">│</span>\n",
              "<span style=\"color: #0000ff; text-decoration-color: #0000ff\">│</span> understanding of potential interactions.                                                                        <span style=\"color: #0000ff; text-decoration-color: #0000ff\">│</span>\n",
              "<span style=\"color: #0000ff; text-decoration-color: #0000ff\">╰─────────────────────────────────────────────────────────────────────────────────────────────────────────────────╯</span>\n",
              "</pre>\n"
            ],
            "text/plain": [
              "\u001b[94m╭─\u001b[0m\u001b[94m─────────────────────────────────────────────────\u001b[0m\u001b[1;34m [Assistant] \u001b[0m\u001b[94m─────────────────────────────────────────────────\u001b[0m\u001b[94m─╮\u001b[0m\n",
              "\u001b[94m│\u001b[0m Metformin, an oral antihyperglycemic agent primarily used in the management of type 2 diabetes, has several     \u001b[94m│\u001b[0m\n",
              "\u001b[94m│\u001b[0m known drug interactions that may affect its efficacy and safety. Below are some notable interactions:           \u001b[94m│\u001b[0m\n",
              "\u001b[94m│\u001b[0m                                                                                                                 \u001b[94m│\u001b[0m\n",
              "\u001b[94m│\u001b[0m 1. **Abemaciclib**: This drug, used in cancer treatment, may interact with Metformin, potentially affecting     \u001b[94m│\u001b[0m\n",
              "\u001b[94m│\u001b[0m blood glucose levels.                                                                                           \u001b[94m│\u001b[0m\n",
              "\u001b[94m│\u001b[0m                                                                                                                 \u001b[94m│\u001b[0m\n",
              "\u001b[94m│\u001b[0m 2. **Methimazole**: An antithyroid medication that may influence Metformin's effectiveness in glycemic control. \u001b[94m│\u001b[0m\n",
              "\u001b[94m│\u001b[0m                                                                                                                 \u001b[94m│\u001b[0m\n",
              "\u001b[94m│\u001b[0m 3. **Hydrocortisone (topical)**: Corticosteroids can increase blood glucose levels, which may counteract the    \u001b[94m│\u001b[0m\n",
              "\u001b[94m│\u001b[0m effects of Metformin.                                                                                           \u001b[94m│\u001b[0m\n",
              "\u001b[94m│\u001b[0m                                                                                                                 \u001b[94m│\u001b[0m\n",
              "\u001b[94m│\u001b[0m 4. **Epoprostenol**: This medication, used for pulmonary arterial hypertension, may have interactions that      \u001b[94m│\u001b[0m\n",
              "\u001b[94m│\u001b[0m could affect Metformin's pharmacodynamics.                                                                      \u001b[94m│\u001b[0m\n",
              "\u001b[94m│\u001b[0m                                                                                                                 \u001b[94m│\u001b[0m\n",
              "\u001b[94m│\u001b[0m 5. **Tafenoquine**: An antimalarial drug that may interact with Metformin, potentially leading to altered       \u001b[94m│\u001b[0m\n",
              "\u001b[94m│\u001b[0m glucose metabolism.                                                                                             \u001b[94m│\u001b[0m\n",
              "\u001b[94m│\u001b[0m                                                                                                                 \u001b[94m│\u001b[0m\n",
              "\u001b[94m│\u001b[0m 6. **Pentamidine**: This medication can cause hypoglycemia, which may be exacerbated by Metformin.              \u001b[94m│\u001b[0m\n",
              "\u001b[94m│\u001b[0m                                                                                                                 \u001b[94m│\u001b[0m\n",
              "\u001b[94m│\u001b[0m 7. **Promethazine**: An antihistamine that may have effects on blood glucose levels when used concurrently with \u001b[94m│\u001b[0m\n",
              "\u001b[94m│\u001b[0m Metformin.                                                                                                      \u001b[94m│\u001b[0m\n",
              "\u001b[94m│\u001b[0m                                                                                                                 \u001b[94m│\u001b[0m\n",
              "\u001b[94m│\u001b[0m 8. **Heparin**: Anticoagulants like Heparin may interact with Metformin, necessitating careful monitoring of    \u001b[94m│\u001b[0m\n",
              "\u001b[94m│\u001b[0m blood glucose levels.                                                                                           \u001b[94m│\u001b[0m\n",
              "\u001b[94m│\u001b[0m                                                                                                                 \u001b[94m│\u001b[0m\n",
              "\u001b[94m│\u001b[0m 9. **Docetaxel**: A chemotherapy agent that may influence Metformin's action and glucose control.               \u001b[94m│\u001b[0m\n",
              "\u001b[94m│\u001b[0m                                                                                                                 \u001b[94m│\u001b[0m\n",
              "\u001b[94m│\u001b[0m 10. **Anastrozole**: This aromatase inhibitor may have interactions that could affect Metformin's efficacy.     \u001b[94m│\u001b[0m\n",
              "\u001b[94m│\u001b[0m                                                                                                                 \u001b[94m│\u001b[0m\n",
              "\u001b[94m│\u001b[0m It is crucial to consult a healthcare professional before making any changes to medication regimens, as these   \u001b[94m│\u001b[0m\n",
              "\u001b[94m│\u001b[0m interactions can vary based on individual patient factors and other concurrent medications.                     \u001b[94m│\u001b[0m\n",
              "\u001b[94m│\u001b[0m                                                                                                                 \u001b[94m│\u001b[0m\n",
              "\u001b[94m│\u001b[0m For further exploration of these interactions, the following Cypher query can be used:                          \u001b[94m│\u001b[0m\n",
              "\u001b[94m│\u001b[0m                                                                                                                 \u001b[94m│\u001b[0m\n",
              "\u001b[94m│\u001b[0m ```cypher                                                                                                       \u001b[94m│\u001b[0m\n",
              "\u001b[94m│\u001b[0m MATCH (d:Drug {name: 'Metformin'})-[:DrugInteraction]->(i)                                                      \u001b[94m│\u001b[0m\n",
              "\u001b[94m│\u001b[0m RETURN d, i                                                                                                     \u001b[94m│\u001b[0m\n",
              "\u001b[94m│\u001b[0m ```                                                                                                             \u001b[94m│\u001b[0m\n",
              "\u001b[94m│\u001b[0m                                                                                                                 \u001b[94m│\u001b[0m\n",
              "\u001b[94m│\u001b[0m This query retrieves information about drugs that interact with Metformin, allowing for a more comprehensive    \u001b[94m│\u001b[0m\n",
              "\u001b[94m│\u001b[0m understanding of potential interactions.                                                                        \u001b[94m│\u001b[0m\n",
              "\u001b[94m╰─────────────────────────────────────────────────────────────────────────────────────────────────────────────────╯\u001b[0m\n"
            ]
          },
          "metadata": {},
          "output_type": "display_data"
        },
        {
          "data": {
            "text/html": [
              "<pre style=\"white-space:pre;overflow-x:auto;line-height:normal;font-family:Menlo,'DejaVu Sans Mono',consolas,'Courier New',monospace\"><span style=\"color: #00ff00; text-decoration-color: #00ff00\">╭────────────────────────────────────────────────────</span><span style=\"color: #008000; text-decoration-color: #008000; font-weight: bold\"> [User] </span><span style=\"color: #00ff00; text-decoration-color: #00ff00\">─────────────────────────────────────────────────────╮</span>\n",
              "<span style=\"color: #00ff00; text-decoration-color: #00ff00\">│</span> What drug interactions of Semaglutide are you aware of?                                                         <span style=\"color: #00ff00; text-decoration-color: #00ff00\">│</span>\n",
              "<span style=\"color: #00ff00; text-decoration-color: #00ff00\">╰─────────────────────────────────────────────────────────────────────────────────────────────────────────────────╯</span>\n",
              "</pre>\n"
            ],
            "text/plain": [
              "\u001b[92m╭─\u001b[0m\u001b[92m───────────────────────────────────────────────────\u001b[0m\u001b[1;32m [User] \u001b[0m\u001b[92m────────────────────────────────────────────────────\u001b[0m\u001b[92m─╮\u001b[0m\n",
              "\u001b[92m│\u001b[0m What drug interactions of Semaglutide are you aware of?                                                         \u001b[92m│\u001b[0m\n",
              "\u001b[92m╰─────────────────────────────────────────────────────────────────────────────────────────────────────────────────╯\u001b[0m\n"
            ]
          },
          "metadata": {},
          "output_type": "display_data"
        },
        {
          "data": {
            "text/html": [
              "<pre style=\"white-space:pre;overflow-x:auto;line-height:normal;font-family:Menlo,'DejaVu Sans Mono',consolas,'Courier New',monospace\"><span style=\"color: #0000ff; text-decoration-color: #0000ff\">╭──────────────────────────────────────────────────</span><span style=\"color: #000080; text-decoration-color: #000080; font-weight: bold\"> [Assistant] </span><span style=\"color: #0000ff; text-decoration-color: #0000ff\">──────────────────────────────────────────────────╮</span>\n",
              "<span style=\"color: #0000ff; text-decoration-color: #0000ff\">│</span> Semaglutide, a glucagon-like peptide-1 (GLP-1) receptor agonist used for the treatment of type 2 diabetes and   <span style=\"color: #0000ff; text-decoration-color: #0000ff\">│</span>\n",
              "<span style=\"color: #0000ff; text-decoration-color: #0000ff\">│</span> obesity, has several known drug interactions. Below are the notable interactions:                               <span style=\"color: #0000ff; text-decoration-color: #0000ff\">│</span>\n",
              "<span style=\"color: #0000ff; text-decoration-color: #0000ff\">│</span>                                                                                                                 <span style=\"color: #0000ff; text-decoration-color: #0000ff\">│</span>\n",
              "<span style=\"color: #0000ff; text-decoration-color: #0000ff\">│</span> 1. **Tagraxofusp**: This drug, used in the treatment of certain cancers, may interact with Semaglutide,         <span style=\"color: #0000ff; text-decoration-color: #0000ff\">│</span>\n",
              "<span style=\"color: #0000ff; text-decoration-color: #0000ff\">│</span> potentially affecting its efficacy or safety.                                                                   <span style=\"color: #0000ff; text-decoration-color: #0000ff\">│</span>\n",
              "<span style=\"color: #0000ff; text-decoration-color: #0000ff\">│</span>                                                                                                                 <span style=\"color: #0000ff; text-decoration-color: #0000ff\">│</span>\n",
              "<span style=\"color: #0000ff; text-decoration-color: #0000ff\">│</span> 2. **Turmeric**: This herbal supplement may influence the pharmacodynamics of Semaglutide, although the exact   <span style=\"color: #0000ff; text-decoration-color: #0000ff\">│</span>\n",
              "<span style=\"color: #0000ff; text-decoration-color: #0000ff\">│</span> mechanism and clinical significance require further investigation.                                              <span style=\"color: #0000ff; text-decoration-color: #0000ff\">│</span>\n",
              "<span style=\"color: #0000ff; text-decoration-color: #0000ff\">│</span>                                                                                                                 <span style=\"color: #0000ff; text-decoration-color: #0000ff\">│</span>\n",
              "<span style=\"color: #0000ff; text-decoration-color: #0000ff\">│</span> 3. **Somapacitan**: A long-acting growth hormone derivative that may have interactions with Semaglutide,        <span style=\"color: #0000ff; text-decoration-color: #0000ff\">│</span>\n",
              "<span style=\"color: #0000ff; text-decoration-color: #0000ff\">│</span> necessitating careful monitoring.                                                                               <span style=\"color: #0000ff; text-decoration-color: #0000ff\">│</span>\n",
              "<span style=\"color: #0000ff; text-decoration-color: #0000ff\">│</span>                                                                                                                 <span style=\"color: #0000ff; text-decoration-color: #0000ff\">│</span>\n",
              "<span style=\"color: #0000ff; text-decoration-color: #0000ff\">│</span> 4. **Lithium Carbonate**: This medication, commonly used for bipolar disorder, may interact with Semaglutide,   <span style=\"color: #0000ff; text-decoration-color: #0000ff\">│</span>\n",
              "<span style=\"color: #0000ff; text-decoration-color: #0000ff\">│</span> potentially affecting blood glucose levels.                                                                     <span style=\"color: #0000ff; text-decoration-color: #0000ff\">│</span>\n",
              "<span style=\"color: #0000ff; text-decoration-color: #0000ff\">│</span>                                                                                                                 <span style=\"color: #0000ff; text-decoration-color: #0000ff\">│</span>\n",
              "<span style=\"color: #0000ff; text-decoration-color: #0000ff\">│</span> 5. **Calaspargase Pegol**: An enzyme used in the treatment of acute lymphoblastic leukemia, which may have      <span style=\"color: #0000ff; text-decoration-color: #0000ff\">│</span>\n",
              "<span style=\"color: #0000ff; text-decoration-color: #0000ff\">│</span> interactions with Semaglutide.                                                                                  <span style=\"color: #0000ff; text-decoration-color: #0000ff\">│</span>\n",
              "<span style=\"color: #0000ff; text-decoration-color: #0000ff\">│</span>                                                                                                                 <span style=\"color: #0000ff; text-decoration-color: #0000ff\">│</span>\n",
              "<span style=\"color: #0000ff; text-decoration-color: #0000ff\">│</span> It is essential to consult a healthcare professional before making any changes to medication regimens, as these <span style=\"color: #0000ff; text-decoration-color: #0000ff\">│</span>\n",
              "<span style=\"color: #0000ff; text-decoration-color: #0000ff\">│</span> interactions can vary based on individual patient factors and other concurrent medications.                     <span style=\"color: #0000ff; text-decoration-color: #0000ff\">│</span>\n",
              "<span style=\"color: #0000ff; text-decoration-color: #0000ff\">│</span>                                                                                                                 <span style=\"color: #0000ff; text-decoration-color: #0000ff\">│</span>\n",
              "<span style=\"color: #0000ff; text-decoration-color: #0000ff\">│</span> For further exploration of these interactions, the following Cypher query can be used:                          <span style=\"color: #0000ff; text-decoration-color: #0000ff\">│</span>\n",
              "<span style=\"color: #0000ff; text-decoration-color: #0000ff\">│</span>                                                                                                                 <span style=\"color: #0000ff; text-decoration-color: #0000ff\">│</span>\n",
              "<span style=\"color: #0000ff; text-decoration-color: #0000ff\">│</span> ```cypher                                                                                                       <span style=\"color: #0000ff; text-decoration-color: #0000ff\">│</span>\n",
              "<span style=\"color: #0000ff; text-decoration-color: #0000ff\">│</span> MATCH (d:Drug {name: 'Semaglutide'})-[:DrugInteraction]-&gt;(i)                                                    <span style=\"color: #0000ff; text-decoration-color: #0000ff\">│</span>\n",
              "<span style=\"color: #0000ff; text-decoration-color: #0000ff\">│</span> RETURN d, i                                                                                                     <span style=\"color: #0000ff; text-decoration-color: #0000ff\">│</span>\n",
              "<span style=\"color: #0000ff; text-decoration-color: #0000ff\">│</span> ```                                                                                                             <span style=\"color: #0000ff; text-decoration-color: #0000ff\">│</span>\n",
              "<span style=\"color: #0000ff; text-decoration-color: #0000ff\">│</span>                                                                                                                 <span style=\"color: #0000ff; text-decoration-color: #0000ff\">│</span>\n",
              "<span style=\"color: #0000ff; text-decoration-color: #0000ff\">│</span> This query retrieves information about drugs that interact with Semaglutide, allowing for a more comprehensive  <span style=\"color: #0000ff; text-decoration-color: #0000ff\">│</span>\n",
              "<span style=\"color: #0000ff; text-decoration-color: #0000ff\">│</span> understanding of potential interactions.                                                                        <span style=\"color: #0000ff; text-decoration-color: #0000ff\">│</span>\n",
              "<span style=\"color: #0000ff; text-decoration-color: #0000ff\">╰─────────────────────────────────────────────────────────────────────────────────────────────────────────────────╯</span>\n",
              "</pre>\n"
            ],
            "text/plain": [
              "\u001b[94m╭─\u001b[0m\u001b[94m─────────────────────────────────────────────────\u001b[0m\u001b[1;34m [Assistant] \u001b[0m\u001b[94m─────────────────────────────────────────────────\u001b[0m\u001b[94m─╮\u001b[0m\n",
              "\u001b[94m│\u001b[0m Semaglutide, a glucagon-like peptide-1 (GLP-1) receptor agonist used for the treatment of type 2 diabetes and   \u001b[94m│\u001b[0m\n",
              "\u001b[94m│\u001b[0m obesity, has several known drug interactions. Below are the notable interactions:                               \u001b[94m│\u001b[0m\n",
              "\u001b[94m│\u001b[0m                                                                                                                 \u001b[94m│\u001b[0m\n",
              "\u001b[94m│\u001b[0m 1. **Tagraxofusp**: This drug, used in the treatment of certain cancers, may interact with Semaglutide,         \u001b[94m│\u001b[0m\n",
              "\u001b[94m│\u001b[0m potentially affecting its efficacy or safety.                                                                   \u001b[94m│\u001b[0m\n",
              "\u001b[94m│\u001b[0m                                                                                                                 \u001b[94m│\u001b[0m\n",
              "\u001b[94m│\u001b[0m 2. **Turmeric**: This herbal supplement may influence the pharmacodynamics of Semaglutide, although the exact   \u001b[94m│\u001b[0m\n",
              "\u001b[94m│\u001b[0m mechanism and clinical significance require further investigation.                                              \u001b[94m│\u001b[0m\n",
              "\u001b[94m│\u001b[0m                                                                                                                 \u001b[94m│\u001b[0m\n",
              "\u001b[94m│\u001b[0m 3. **Somapacitan**: A long-acting growth hormone derivative that may have interactions with Semaglutide,        \u001b[94m│\u001b[0m\n",
              "\u001b[94m│\u001b[0m necessitating careful monitoring.                                                                               \u001b[94m│\u001b[0m\n",
              "\u001b[94m│\u001b[0m                                                                                                                 \u001b[94m│\u001b[0m\n",
              "\u001b[94m│\u001b[0m 4. **Lithium Carbonate**: This medication, commonly used for bipolar disorder, may interact with Semaglutide,   \u001b[94m│\u001b[0m\n",
              "\u001b[94m│\u001b[0m potentially affecting blood glucose levels.                                                                     \u001b[94m│\u001b[0m\n",
              "\u001b[94m│\u001b[0m                                                                                                                 \u001b[94m│\u001b[0m\n",
              "\u001b[94m│\u001b[0m 5. **Calaspargase Pegol**: An enzyme used in the treatment of acute lymphoblastic leukemia, which may have      \u001b[94m│\u001b[0m\n",
              "\u001b[94m│\u001b[0m interactions with Semaglutide.                                                                                  \u001b[94m│\u001b[0m\n",
              "\u001b[94m│\u001b[0m                                                                                                                 \u001b[94m│\u001b[0m\n",
              "\u001b[94m│\u001b[0m It is essential to consult a healthcare professional before making any changes to medication regimens, as these \u001b[94m│\u001b[0m\n",
              "\u001b[94m│\u001b[0m interactions can vary based on individual patient factors and other concurrent medications.                     \u001b[94m│\u001b[0m\n",
              "\u001b[94m│\u001b[0m                                                                                                                 \u001b[94m│\u001b[0m\n",
              "\u001b[94m│\u001b[0m For further exploration of these interactions, the following Cypher query can be used:                          \u001b[94m│\u001b[0m\n",
              "\u001b[94m│\u001b[0m                                                                                                                 \u001b[94m│\u001b[0m\n",
              "\u001b[94m│\u001b[0m ```cypher                                                                                                       \u001b[94m│\u001b[0m\n",
              "\u001b[94m│\u001b[0m MATCH (d:Drug {name: 'Semaglutide'})-[:DrugInteraction]->(i)                                                    \u001b[94m│\u001b[0m\n",
              "\u001b[94m│\u001b[0m RETURN d, i                                                                                                     \u001b[94m│\u001b[0m\n",
              "\u001b[94m│\u001b[0m ```                                                                                                             \u001b[94m│\u001b[0m\n",
              "\u001b[94m│\u001b[0m                                                                                                                 \u001b[94m│\u001b[0m\n",
              "\u001b[94m│\u001b[0m This query retrieves information about drugs that interact with Semaglutide, allowing for a more comprehensive  \u001b[94m│\u001b[0m\n",
              "\u001b[94m│\u001b[0m understanding of potential interactions.                                                                        \u001b[94m│\u001b[0m\n",
              "\u001b[94m╰─────────────────────────────────────────────────────────────────────────────────────────────────────────────────╯\u001b[0m\n"
            ]
          },
          "metadata": {},
          "output_type": "display_data"
        }
      ],
      "source": [
        "result = kg_rag_agent.query(\"What drug interactions of Semaglutide are you aware of?\")\n",
        "kg_rag_agent.memory.pretty_print_all_messages()"
      ]
    }
  ],
  "metadata": {
    "colab": {
      "include_colab_link": true,
      "provenance": []
    },
    "kernelspec": {
      "display_name": "just-agents-jj5lCgqj-py3.12",
      "language": "python",
      "name": "python3"
    },
    "language_info": {
      "codemirror_mode": {
        "name": "ipython",
        "version": 3
      },
      "file_extension": ".py",
      "mimetype": "text/x-python",
      "name": "python",
      "nbconvert_exporter": "python",
      "pygments_lexer": "ipython3",
      "version": "3.12.3"
    }
  },
  "nbformat": 4,
  "nbformat_minor": 0
}
